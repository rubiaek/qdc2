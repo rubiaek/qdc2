{
 "cells": [
  {
   "cell_type": "code",
   "execution_count": 4,
   "id": "ed05fabf5a1fb1b2",
   "metadata": {
    "ExecuteTime": {
     "end_time": "2025-05-25T12:48:13.279039Z",
     "start_time": "2025-05-25T12:48:13.191574Z"
    }
   },
   "outputs": [
    {
     "name": "stdout",
     "output_type": "stream",
     "text": [
      "Getting 3 fibers...\n"
     ]
    },
    {
     "name": "stderr",
     "output_type": "stream",
     "text": [
      "3it [00:01,  2.27it/s]\n"
     ]
    },
    {
     "name": "stdout",
     "output_type": "stream",
     "text": [
      "Got fibers!\n",
      "Getting 3 fibers...\n"
     ]
    },
    {
     "name": "stderr",
     "output_type": "stream",
     "text": [
      "3it [00:01,  2.22it/s]\n"
     ]
    },
    {
     "name": "stdout",
     "output_type": "stream",
     "text": [
      "Got fibers!\n"
     ]
    }
   ],
   "source": [
    "import sys\n",
    "sys.path.append(\"C:/code/qdc2\")\n",
    "import numpy as np, matplotlib.pyplot as plt\n",
    "from qdc.mmf.many_wl_fiber import ManyWavelengthFiber\n",
    "from qdc.mmf.qdc_experiment import QDCMMFExperiment, propagate_free_space\n",
    "\n",
    "def make_exp(M, is_step_index=False):\n",
    "    mwf = ManyWavelengthFiber(N_wl=3, npoints=2**8, is_step_index=is_step_index)\n",
    "    exp = QDCMMFExperiment(mwf)\n",
    "    exp.set_phase_matching(Lc_um=4000, pump_waist_crystal=500,\n",
    "                           magnification=M, wl_pump=0.405, n_pump=1.692)\n",
    "    return mwf, exp\n",
    "\n",
    "def run_and_collect(M, is_step_index=False):\n",
    "    mwf, exp = make_exp(M, is_step_index)\n",
    "    mid = len(mwf.fibers) // 2\n",
    "    f = mwf.fibers[mid]\n",
    "    f.set_input_gaussian(*exp.g_params)\n",
    "\n",
    "    E0 = f.propagate(show=False)\n",
    "    E_filt = exp._apply_phase_matching(E0)\n",
    "\n",
    "    n = exp.n\n",
    "    G = exp._pm_pump_amp if exp._pm_pump_amp is not None else np.ones((n, n))\n",
    "    S = np.fft.fftshift(exp._pm_filter)\n",
    "\n",
    "    F0 = np.abs(np.fft.fftshift(np.fft.fft2(E0.reshape(n, n))))\n",
    "    F1 = np.abs(np.fft.fftshift(np.fft.fft2(E_filt.reshape(n, n))))\n",
    "    I0 = np.abs(E0.reshape(n, n)) ** 2\n",
    "    I1 = np.abs(E_filt.reshape(n, n)) ** 2\n",
    "    return dict(G=G, S=S, I0=I0, I1=I1, F0=F0, F1=F1, dx=mwf.dx)\n",
    "\n",
    "# -------- plot helper with colorbar --------\n",
    "def show(ax, img, ttl, dx=None, fiber_radius_um=None):\n",
    "    extent = None\n",
    "    if dx is not None:\n",
    "        n = img.shape[0]\n",
    "        extent = [-(n // 2) * dx, (n // 2) * dx,\n",
    "                  -(n // 2) * dx, (n // 2) * dx]\n",
    "\n",
    "    im = ax.imshow(img, extent=extent)\n",
    "    ax.set_title(ttl, fontsize=8)\n",
    "    # ax.axis('off')\n",
    "    plt.colorbar(im, ax=ax, fraction=0.045, pad=0.02)\n",
    "\n",
    "    # Add fiber core circle in real space\n",
    "    if fiber_radius_um is not None and dx is not None:\n",
    "        from matplotlib.patches import Circle\n",
    "        circle = Circle((0, 0), radius=fiber_radius_um, edgecolor='red',\n",
    "                        facecolor='none', lw=1)\n",
    "        ax.add_patch(circle)\n",
    "\n",
    "Ms = [3.3, 10]\n",
    "is_step_index = True\n",
    "data1 = run_and_collect(M=Ms[0], is_step_index=is_step_index)\n",
    "data2 = run_and_collect(M=Ms[1], is_step_index=is_step_index)\n",
    "\n",
    "titles = ['Gaussian', 'sinc PM', 'real |E|² before', 'real |E|² after',\n",
    "          '|FFT| before', '|FFT| after']\n",
    "rows = ['G', 'S', 'I0', 'I1', 'F0', 'F1']\n",
    "\n",
    "fig, axes = plt.subplots(len(rows), 2, figsize=(9, 14))\n",
    "for col, data, M in zip([0, 1], [data1, data2], Ms):\n",
    "    dx = data['dx']\n",
    "    for r, key in enumerate(rows):\n",
    "        is_real_space = key in ['G', 'I0', 'I1']\n",
    "        show(axes[r, col], data[key], f'{titles[r]} (M={M})',\n",
    "             dx=dx if is_real_space else None,\n",
    "             fiber_radius_um=25 if is_real_space else None)\n",
    "\n",
    "plt.tight_layout()\n",
    "plt.show()\n"
   ]
  }
 ],
 "metadata": {
  "kernelspec": {
   "display_name": "Python 3",
   "language": "python",
   "name": "python3"
  },
  "language_info": {
   "codemirror_mode": {
    "name": "ipython",
    "version": 3
   },
   "file_extension": ".py",
   "mimetype": "text/x-python",
   "name": "python",
   "nbconvert_exporter": "python",
   "pygments_lexer": "ipython3",
   "version": "3.10.0"
  }
 },
 "nbformat": 4,
 "nbformat_minor": 5
}
