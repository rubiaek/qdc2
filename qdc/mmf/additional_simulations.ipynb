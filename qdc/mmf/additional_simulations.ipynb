{
 "cells": [
  {
   "cell_type": "code",
   "execution_count": 2,
   "id": "ed05fabf5a1fb1b2",
   "metadata": {
    "ExecuteTime": {
     "end_time": "2025-05-25T12:48:13.279039Z",
     "start_time": "2025-05-25T12:48:13.191574Z"
    }
   },
   "outputs": [],
   "source": [
    "import sys\n",
    "sys.path.append(\"C:/code/qdc2\")\n",
    "import numpy as np, matplotlib.pyplot as plt\n",
    "from qdc.mmf.many_wl_fiber import ManyWavelengthFiber\n",
    "from qdc.mmf.qdc_mmf_experiment import QDCMMFExperiment"
   ]
  },
  {
   "cell_type": "markdown",
   "id": "f0228cc6",
   "metadata": {},
   "source": [
    "# Short illustration of phase matching induced mode mixing "
   ]
  },
  {
   "cell_type": "code",
   "execution_count": 2,
   "id": "19fcd55f",
   "metadata": {},
   "outputs": [
    {
     "name": "stdout",
     "output_type": "stream",
     "text": [
      "Getting 3 fibers...\n"
     ]
    },
    {
     "name": "stderr",
     "output_type": "stream",
     "text": [
      "0it [00:00, ?it/s]C:\\Users\\owner\\AppData\\Roaming\\Python\\Python310\\site-packages\\pyMMF\\solvers\\SI.py:147: RuntimeWarning: invalid value encountered in double_scalars\n",
      "  return jv(m, u) / (u * jv(m - 1, u)) + kn(m, w) / (w * kn(m - 1, w))\n",
      "C:\\Users\\owner\\AppData\\Roaming\\Python\\Python310\\site-packages\\pyMMF\\solvers\\SI.py:147: RuntimeWarning: invalid value encountered in divide\n",
      "  return jv(m, u) / (u * jv(m - 1, u)) + kn(m, w) / (w * kn(m - 1, w))\n",
      "3it [00:31, 10.36s/it]\n"
     ]
    },
    {
     "name": "stdout",
     "output_type": "stream",
     "text": [
      "Got fibers!\n",
      "Getting 3 fibers...\n"
     ]
    },
    {
     "name": "stderr",
     "output_type": "stream",
     "text": [
      "3it [00:01,  2.04it/s]\n"
     ]
    },
    {
     "name": "stdout",
     "output_type": "stream",
     "text": [
      "Got fibers!\n"
     ]
    }
   ],
   "source": [
    "def make_exp(M, is_step_index=False):\n",
    "    mwf = ManyWavelengthFiber(N_wl=3, npoints=2**8, is_step_index=is_step_index)\n",
    "    exp = QDCMMFExperiment(mwf)\n",
    "    exp.set_phase_matching(Lc_um=4000, pump_waist_crystal=500,\n",
    "                           magnification=M, wl_pump=0.405, n_pump=1.692)\n",
    "    return mwf, exp\n",
    "\n",
    "def run_and_collect(M, is_step_index=False):\n",
    "    mwf, exp = make_exp(M, is_step_index)\n",
    "    mid = len(mwf.fibers) // 2\n",
    "    f = mwf.fibers[mid]\n",
    "    f.set_input_gaussian(*exp.g_params)\n",
    "\n",
    "    E0 = f.propagate(show=False)\n",
    "    E_filt = exp._apply_phase_matching(E0)\n",
    "\n",
    "    n = exp.n\n",
    "    G = exp._pm_pump_amp if exp._pm_pump_amp is not None else np.ones((n, n))\n",
    "    S = np.fft.fftshift(exp._pm_filter)\n",
    "\n",
    "    F0 = np.abs(np.fft.fftshift(np.fft.fft2(E0.reshape(n, n))))\n",
    "    F1 = np.abs(np.fft.fftshift(np.fft.fft2(E_filt.reshape(n, n))))\n",
    "    I0 = np.abs(E0.reshape(n, n)) ** 2\n",
    "    I1 = np.abs(E_filt.reshape(n, n)) ** 2\n",
    "    return dict(G=G, S=S, I0=I0, I1=I1, F0=F0, F1=F1, dx=mwf.dx)\n",
    "\n",
    "# -------- plot helper with colorbar --------\n",
    "def show(ax, img, ttl, dx=None, fiber_radius_um=None):\n",
    "    extent = None\n",
    "    if dx is not None:\n",
    "        n = img.shape[0]\n",
    "        extent = [-(n // 2) * dx, (n // 2) * dx,\n",
    "                  -(n // 2) * dx, (n // 2) * dx]\n",
    "\n",
    "    im = ax.imshow(img, extent=extent)\n",
    "    ax.set_title(ttl, fontsize=8)\n",
    "    # ax.axis('off')\n",
    "    plt.colorbar(im, ax=ax, fraction=0.045, pad=0.02)\n",
    "\n",
    "    # Add fiber core circle in real space\n",
    "    if fiber_radius_um is not None and dx is not None:\n",
    "        from matplotlib.patches import Circle\n",
    "        circle = Circle((0, 0), radius=fiber_radius_um, edgecolor='red',\n",
    "                        facecolor='none', lw=1)\n",
    "        ax.add_patch(circle)\n",
    "\n",
    "Ms = [3.3, 10]\n",
    "is_step_index = True\n",
    "data1 = run_and_collect(M=Ms[0], is_step_index=is_step_index)\n",
    "data2 = run_and_collect(M=Ms[1], is_step_index=is_step_index)\n",
    "\n",
    "titles = ['Gaussian', 'sinc PM', 'real |E|² before', 'real |E|² after',\n",
    "          '|FFT| before', '|FFT| after']\n",
    "rows = ['G', 'S', 'I0', 'I1', 'F0', 'F1']\n",
    "\n",
    "fig, axes = plt.subplots(len(rows), 2, figsize=(9, 14))\n",
    "for col, data, M in zip([0, 1], [data1, data2], Ms):\n",
    "    dx = data['dx']\n",
    "    for r, key in enumerate(rows):\n",
    "        is_real_space = key in ['G', 'I0', 'I1']\n",
    "        show(axes[r, col], data[key], f'{titles[r]} (M={M})',\n",
    "             dx=dx if is_real_space else None,\n",
    "             fiber_radius_um=25 if is_real_space else None)\n",
    "\n",
    "plt.tight_layout()\n",
    "plt.show()\n"
   ]
  },
  {
   "cell_type": "markdown",
   "id": "e068ddb6",
   "metadata": {},
   "source": [
    "# Illustration of different $\\partial\\beta_m / \\partial\\omega $ for different $m$ values "
   ]
  },
  {
   "cell_type": "code",
   "execution_count": 16,
   "id": "2c6b4614",
   "metadata": {},
   "outputs": [
    {
     "name": "stdout",
     "output_type": "stream",
     "text": [
      "Getting 3 fibers...\n"
     ]
    },
    {
     "name": "stderr",
     "output_type": "stream",
     "text": [
      "3it [00:01,  2.14it/s]\n"
     ]
    },
    {
     "name": "stdout",
     "output_type": "stream",
     "text": [
      "Got fibers!\n",
      "mwf_SI.betas.max()=11382684.554011125, mwf_SI.betas.min()=11258308.710157316\n",
      "Getting 3 fibers...\n"
     ]
    },
    {
     "name": "stderr",
     "output_type": "stream",
     "text": [
      "3it [00:00,  3.62it/s]\n"
     ]
    },
    {
     "name": "stdout",
     "output_type": "stream",
     "text": [
      "Got fibers!\n",
      "mwf_GRIN.betas.max()=11377617.235149734, mwf_GRIN.betas.min()=11260067.904145923\n"
     ]
    }
   ],
   "source": [
    "import sys\n",
    "sys.path.append(\"C:/code/qdc2\")\n",
    "import numpy as np, matplotlib.pyplot as plt\n",
    "from qdc.mmf.many_wl_fiber import ManyWavelengthFiber\n",
    "\n",
    "# SI\n",
    "is_step_index = True\n",
    "mwf_SI = ManyWavelengthFiber(wl0=0.810, Dwl=0.002, N_wl=3, npoints=2**8, is_step_index=is_step_index)\n",
    "mwf_SI.betas = mwf_SI.betas * 1e6 # convert to 1/m\n",
    "cutoff_SI = 200 \n",
    "print(f'{mwf_SI.betas.max()=}, {mwf_SI.betas.min()=}')\n",
    "\n",
    "# GRIN \n",
    "is_step_index = False\n",
    "mwf_GRIN = ManyWavelengthFiber(wl0=0.810, Dwl=0.002, N_wl=3, npoints=2**8, is_step_index=is_step_index)\n",
    "mwf_GRIN.betas = mwf_GRIN.betas * 1e6 # convert to 1/m\n",
    "cutoff_GRIN = 100 \n",
    "print(f'{mwf_GRIN.betas.max()=}, {mwf_GRIN.betas.min()=}')\n",
    "\n",
    "\n",
    "fig, ax = plt.subplots(2, 2, figsize=(11, 6), constrained_layout=True)\n",
    "\n",
    "diffs_SI = np.diff(mwf_SI.betas, axis=0)  \n",
    "diffs_SI = diffs_SI[:, :cutoff_SI] \n",
    "ax[0, 0].plot(range(len(diffs_SI[0])), diffs_SI[0], '.-', label=r'$\\delta\\beta_1$')\n",
    "# ax[0, 0].plot(range(len(diffs_SI[1])), diffs_SI[1], 'o-', label=r'$\\delta\\beta_2$')\n",
    "# ax[0, 0].legend()\n",
    "ax[0, 0].set_ylabel(r'$\\delta\\beta$ (1/m)') # Units? \n",
    "ax[0, 0].set_title(rf'$\\delta\\beta$ step index')\n",
    "ax[0, 0].set_xlabel(r'mode number')  \n",
    "\n",
    "ddiff_SI = diffs_SI[1] - diffs_SI[0]\n",
    "ax[1, 0].plot(range(len(ddiff_SI)), ddiff_SI, '.-')\n",
    "ax[1, 0].set_title(rf'$\\delta^2\\beta$ step index')\n",
    "ax[1, 0].set_ylabel(r'$\\delta^2\\beta$ (1/m)') # Units? \n",
    "ax[1, 0].set_xlabel(r'mode number')  \n",
    "\n",
    "diffs_GRIN = np.diff(mwf_GRIN.betas, axis=0)  \n",
    "diffs_GRIN = diffs_GRIN[:, :cutoff_GRIN] \n",
    "ax[0, 1].plot(range(len(diffs_GRIN[0])), diffs_GRIN[0], '.-', label=r'$\\delta\\beta_1$')\n",
    "# ax[0, 1].plot(range(len(diffs_GRIN[1])), diffs_GRIN[1], 'o-', label=r'$\\delta\\beta_2$')\n",
    "# ax[0, 1].legend()\n",
    "ax[0, 1].set_ylabel(r'$\\delta\\beta$ (1/m)') # Units? \n",
    "ax[0, 1].set_title(rf'$\\delta\\beta$ graded index')\n",
    "ax[0, 1].set_xlabel(r'mode number')  \n",
    "\n",
    "ddiff_GRIN = diffs_GRIN[1] - diffs_GRIN[0]\n",
    "ax[1, 1].plot(range(len(ddiff_GRIN)), ddiff_GRIN, '.-')\n",
    "ax[1, 1].set_xlabel(r'mode number')  \n",
    "ax[1, 1].set_ylabel(r'$\\delta^2\\beta$ (1/m)') # Units? \n",
    "# ax[1, 1].set_title(rf'graded index')\n",
    "ax[1, 1].set_title(rf'$\\delta^2\\beta$ graded index')\n",
    "\n",
    "ax[0, 0].text(-0.1, 1.15, '(a)', color='black', fontsize=14, fontweight='bold', transform=ax[0, 0].transAxes, va='top', ha='left')\n",
    "ax[0, 1].text(-0.1, 1.15, '(b)', color='black', fontsize=14, fontweight='bold', transform=ax[0, 1].transAxes, va='top', ha='left')\n",
    "ax[1, 0].text(-0.1, 1.15, '(c)', color='black', fontsize=14, fontweight='bold', transform=ax[1, 0].transAxes, va='top', ha='left')\n",
    "ax[1, 1].text(-0.1, 1.15, '(d)', color='black', fontsize=14, fontweight='bold', transform=ax[1, 1].transAxes, va='top', ha='left')\n",
    "\n",
    "\n",
    "fig.show()\n",
    "fig.savefig(fr'G:\\My Drive\\Projects\\Dispersion Cancelation\\Paper\\Final Figures\\beta_tag.png')\n",
    "\n",
    "if True:\n",
    "    fig, ax = plt.subplots(2, 1, figsize=(11, 6), constrained_layout=True)\n",
    "    ax[0].plot(range(len(mwf_SI.betas[0])), mwf_SI.betas[0], '.-', label=f'lambda={mwf_SI.wls[0]:.5f}')\n",
    "    ax[0].plot(range(len(mwf_SI.betas[1])), mwf_SI.betas[1], '.-', label=f'lambda={mwf_SI.wls[1]:.5f}')\n",
    "    ax[0].plot(range(len(mwf_SI.betas[2])), mwf_SI.betas[2], '.-', label=f'lambda={mwf_SI.wls[2]:.5f}')\n",
    "    ax[0].legend()\n",
    "    ax[0].set_title(rf'$\\beta$ step index')\n",
    "    ax[1].plot(range(len(mwf_GRIN.betas[0])), mwf_GRIN.betas[0], '.-', label=f'lambda={mwf_GRIN.wls[0]:.5f}')\n",
    "    ax[1].plot(range(len(mwf_GRIN.betas[1])), mwf_GRIN.betas[1], '.-', label=f'lambda={mwf_GRIN.wls[1]:.5f}')\n",
    "    ax[1].plot(range(len(mwf_GRIN.betas[2])), mwf_GRIN.betas[2], '.-', label=f'lambda={mwf_GRIN.wls[2]:.5f}')\n",
    "    ax[1].set_title(rf'$\\beta$ graded index')\n",
    "    ax[1].legend()\n",
    "    ax[1].set_xlabel(r'mode number')\n",
    "    fig.show()\n"
   ]
  },
  {
   "cell_type": "code",
   "execution_count": 25,
   "id": "d0563002",
   "metadata": {},
   "outputs": [],
   "source": [
    "fig, ax = plt.subplots(figsize=(10, 5))\n",
    "imm = ax.plot(sorted(mwf_SI.betas[0, :]), '.-')\n",
    "fig.show()\n",
    "\n",
    "fig, ax = plt.subplots(figsize=(10, 5))\n",
    "imm = ax.plot(sorted(mwf_GRIN.betas[0, :]), '.-')\n",
    "fig.show()\n"
   ]
  },
  {
   "cell_type": "code",
   "execution_count": 38,
   "id": "51476e2f",
   "metadata": {},
   "outputs": [
    {
     "name": "stdout",
     "output_type": "stream",
     "text": [
      "[0.8096668  0.81033347 0.81100124]\n",
      "[11382684.55401113 11373231.97496347 11363779.5248688 ]\n",
      "[-9452.57904765 -9452.45009467]\n",
      "--------------\n",
      "[0.8096668  0.81033347 0.81100124]\n",
      "[11377617.23514973 11368164.92113158 11358712.77676263]\n",
      "[-9452.31401815 -9452.14436896]\n"
     ]
    }
   ],
   "source": [
    "print(mwf_SI.wls)\n",
    "print(mwf_SI.betas[:, 0])\n",
    "print(diffs_SI[:, 0])\n",
    "print('--------------')\n",
    "print(mwf_GRIN.wls)\n",
    "print(mwf_GRIN.betas[:, 0])\n",
    "print(diffs_GRIN[:, 0])"
   ]
  },
  {
   "cell_type": "code",
   "execution_count": null,
   "id": "f3c20607",
   "metadata": {},
   "outputs": [],
   "source": [
    "# ax[0].legend()\n",
    "# ax[0].set_title('betas (1/m)')\n",
    "\n",
    "# c = 299792458\n",
    "# omegas = 2*np.pi*c/mwf_SI.wls\n",
    "# Domega = omegas[1] - omegas[0]\n",
    "# after 1m, d_beta/d_omega * Delta_omega * L, and I want to see how this differs between different modes, \n",
    "# L = 0.1e6"
   ]
  },
  {
   "cell_type": "markdown",
   "id": "05a279f8",
   "metadata": {},
   "source": [
    "# MMF speckle envelope to normalize before PCC "
   ]
  },
  {
   "cell_type": "code",
   "execution_count": null,
   "id": "53f57e42",
   "metadata": {},
   "outputs": [],
   "source": [
    "import sys\n",
    "sys.path.append(\"C:/code/qdc2\")\n",
    "import numpy as np, matplotlib.pyplot as plt\n",
    "from qdc.mmf.many_wl_fiber import ManyWavelengthFiber\n",
    "from qdc.mmf.fiber import Fiber\n",
    "\n",
    "is_step_index = True\n",
    "\n",
    "fiber_L = 0.2e6  if is_step_index else 3e6 # um \n",
    "N_wl = 81\n",
    "N_classical = 5\n",
    "N_SPDC = 5\n",
    "wl0 = 0.810\n",
    "Dwl = 0.010 if is_step_index else 0.020\n",
    "NA_ref = 0.2   \n",
    "dzs = [0, 10, 50, 200, 1000] if is_step_index else [0, 10, 50, 100]\n",
    "npoints = 2**7\n",
    "free_mode_matrix = False if npoints == 2**7 else True  # when working with 2**8, the RAM explodes \n",
    "autosolve = not free_mode_matrix  # if freeing each time - no point in autosolving initially \n",
    "\n",
    "\n",
    "n_pixels_diameter = npoints//5 if is_step_index else npoints//5\n",
    "s = ManyWavelengthFiber(wl0=wl0, Dwl=Dwl, N_wl=N_wl, fiber_L=fiber_L, rng_seed=42, is_step_index=is_step_index, \n",
    "                        npoints=npoints, NA_ref=NA_ref, autosolve=autosolve)\n",
    "s.gaussian_params = np.array([2.7, 7, 10, 0.5, 0.5]) \n",
    "s.gaussian_dparams = np.array([1, 5, 5, 0.3, 0.3])\n",
    "\n",
    "f = s.fibers[0]"
   ]
  },
  {
   "cell_type": "code",
   "execution_count": 17,
   "id": "04802c63",
   "metadata": {},
   "outputs": [
    {
     "name": "stdout",
     "output_type": "stream",
     "text": [
      "0\n",
      "10\n",
      "20\n",
      "30\n",
      "40\n",
      "50\n",
      "60\n",
      "70\n",
      "80\n",
      "90\n"
     ]
    }
   ],
   "source": [
    "f.set_input_gaussian(*mwf.get_g_params())\n",
    "f.propagate(show=False)\n",
    "I_out = np.abs(f.profile_end)**2\n",
    "\n",
    "for i in range(100):\n",
    "    if i % 10 == 0:\n",
    "        print(i)\n",
    "    f.set_input_gaussian(*mwf.get_g_params())\n",
    "    f.propagate(show=False)\n",
    "    I_out += np.abs(f.profile_end)**2\n",
    "\n",
    "fig, ax = plt.subplots(figsize=(10, 5))\n",
    "imm = ax.imshow(I_out.reshape(f.npoints, f.npoints))\n",
    "fig.colorbar(imm, ax=ax)\n",
    "fig.show()"
   ]
  },
  {
   "cell_type": "markdown",
   "id": "d88a959d",
   "metadata": {},
   "source": [
    "# Free-space causes mode-mixing"
   ]
  },
  {
   "cell_type": "code",
   "execution_count": 3,
   "id": "2a618e7e",
   "metadata": {},
   "outputs": [],
   "source": [
    "from qdc.mmf.fiber import Fiber\n",
    "from qdc.mmf.qdc_mmf_experiment import propagate_free_space\n",
    "is_step_index = True\n",
    "f = Fiber(is_step_index=is_step_index, npoints=2**8, diameter=50, areaSize=80)"
   ]
  },
  {
   "cell_type": "code",
   "execution_count": 15,
   "id": "12048789",
   "metadata": {},
   "outputs": [],
   "source": [
    "# Visulaize for some mode \n",
    "mode_no = 100\n",
    "dz = 500 # um \n",
    "n = f.npoints\n",
    "mode = f.modes.getModeMatrix()[:, mode_no].reshape((n, n))\n",
    "after_propagation = propagate_free_space(mode, dz, f.wl, f.dx)\n",
    "modes_after = f.modes.getModeMatrix().T @ after_propagation\n",
    "f.show_profile(mode)\n",
    "f.show_profile(after_propagation)\n",
    "plt.show()"
   ]
  },
  {
   "cell_type": "code",
   "execution_count": null,
   "id": "e3f2f780",
   "metadata": {},
   "outputs": [],
   "source": [
    "dz = 500 # um \n",
    "n = f.npoints\n",
    "modes_to_check = f.Nmodes\n",
    "# modes_to_check = 50\n",
    "modal_TM = np.zeros((modes_to_check, f.Nmodes), dtype=complex)\n",
    "for mode_no in range(modes_to_check):\n",
    "    if mode_no % 10 == 0:\n",
    "        print(mode_no)\n",
    "    mode = f.modes.getModeMatrix()[:, mode_no].reshape((n, n))\n",
    "    after_propagation = propagate_free_space(mode, dz, f.wl, f.dx)\n",
    "    modes_after = f.modes.getModeMatrix().T @ after_propagation\n",
    "    modal_TM[mode_no, :] = modes_after"
   ]
  },
  {
   "cell_type": "code",
   "execution_count": 24,
   "id": "a7f2a491",
   "metadata": {},
   "outputs": [],
   "source": [
    "fig, ax = plt.subplots(figsize=(10, 5))\n",
    "imm = ax.imshow(np.abs(modal_TM)**2, vmax=0.03)\n",
    "ax.set_title(f'{is_step_index=}; {dz=} um')\n",
    "fig.colorbar(imm)\n",
    "fig.show()"
   ]
  },
  {
   "cell_type": "code",
   "execution_count": 96,
   "id": "2263aac6",
   "metadata": {},
   "outputs": [
    {
     "data": {
      "text/plain": [
       "array([0.97238507, 0.8253959 , 0.5707424 , 0.45091823, 0.23735816,\n",
       "       0.10689055, 0.05272959, 0.0322103 , 0.0240018 , 0.02093807,\n",
       "       0.02125135, 0.0268941 , 0.07734683, 0.91270644, 0.68278661,\n",
       "       0.49330301, 0.34552393, 0.17309375, 0.07506526, 0.03873544,\n",
       "       0.02557374, 0.02044269, 0.01902472, 0.02096998, 0.03220226,\n",
       "       0.91270644, 0.68278661, 0.49330301, 0.34552393, 0.17309375,\n",
       "       0.07506525, 0.03873544, 0.02557373, 0.02044269, 0.01902472,\n",
       "       0.02096999, 0.03220226, 0.85093924, 0.57681275, 0.44628512,\n",
       "       0.23626059, 0.10848458, 0.05353391, 0.03247343, 0.02402267,\n",
       "       0.02081929, 0.0209787 , 0.02622222, 0.06935756, 0.85076344])"
      ]
     },
     "execution_count": 96,
     "metadata": {},
     "output_type": "execute_result"
    }
   ],
   "source": [
    "(np.abs(modal_TM)**2).sum(axis=1)"
   ]
  },
  {
   "cell_type": "markdown",
   "id": "5b0742cd",
   "metadata": {},
   "source": [
    "# FOO"
   ]
  },
  {
   "cell_type": "code",
   "execution_count": 1,
   "id": "841a64eb",
   "metadata": {},
   "outputs": [
    {
     "name": "stdout",
     "output_type": "stream",
     "text": [
      "Getting 3 fibers...\n"
     ]
    },
    {
     "name": "stderr",
     "output_type": "stream",
     "text": [
      "0it [00:00, ?it/s]C:\\Users\\owner\\AppData\\Roaming\\Python\\Python310\\site-packages\\pyMMF\\solvers\\SI.py:147: RuntimeWarning: invalid value encountered in double_scalars\n",
      "  return jv(m, u) / (u * jv(m - 1, u)) + kn(m, w) / (w * kn(m - 1, w))\n",
      "C:\\Users\\owner\\AppData\\Roaming\\Python\\Python310\\site-packages\\pyMMF\\solvers\\SI.py:147: RuntimeWarning: invalid value encountered in divide\n",
      "  return jv(m, u) / (u * jv(m - 1, u)) + kn(m, w) / (w * kn(m - 1, w))\n",
      "3it [00:33, 11.12s/it]\n"
     ]
    },
    {
     "name": "stdout",
     "output_type": "stream",
     "text": [
      "Got fibers!\n",
      "Getting 3 fibers...\n"
     ]
    },
    {
     "name": "stderr",
     "output_type": "stream",
     "text": [
      "3it [00:05,  2.00s/it]\n"
     ]
    },
    {
     "name": "stdout",
     "output_type": "stream",
     "text": [
      "Got fibers!\n"
     ]
    }
   ],
   "source": [
    "import sys\n",
    "sys.path.append(\"C:/code/qdc2\")\n",
    "import numpy as np, matplotlib.pyplot as plt\n",
    "from qdc.mmf.many_wl_fiber import ManyWavelengthFiber\n",
    "from qdc.mmf.fiber import Fiber\n",
    "\n",
    "# SI\n",
    "is_step_index = True\n",
    "mwf_SI = ManyWavelengthFiber(wl0=0.810, Dwl=0.002, N_wl=3, npoints=2**8, is_step_index=is_step_index)\n",
    "mwf_SI.betas = mwf_SI.betas * 1e6 # convert to 1/m\n",
    "\n",
    "# GRIN \n",
    "is_step_index = False\n",
    "mwf_GRIN = ManyWavelengthFiber(wl0=0.810, Dwl=0.002, N_wl=3, npoints=2**8, is_step_index=is_step_index)\n",
    "\n",
    "is_step_index = False \n",
    "f = Fiber(is_step_index=is_step_index, npoints=2**8, diameter=50, areaSize=80, wl=0.720)"
   ]
  },
  {
   "cell_type": "code",
   "execution_count": null,
   "id": "d6444f8c",
   "metadata": {},
   "outputs": [],
   "source": [
    "\n",
    "envelope = (np.abs(mwf_GRIN.fibers[0].modes.getModeMatrix())**2).sum(axis=1)\n",
    "# fig, ax = plt.subplots(figsize=(10, 5))\n",
    "# imm = ax.imshow(envelope.reshape(f.npoints, f.npoints))\n",
    "# fig.colorbar(imm, ax=ax)\n",
    "# fig.show()"
   ]
  },
  {
   "cell_type": "code",
   "execution_count": null,
   "id": "e50ae46d",
   "metadata": {},
   "outputs": [
    {
     "data": {
      "text/plain": [
       "(65536, 383)"
      ]
     },
     "execution_count": 9,
     "metadata": {},
     "output_type": "execute_result"
    }
   ],
   "source": [
    ".modes.getModeMatrix().shape"
   ]
  },
  {
   "cell_type": "code",
   "execution_count": null,
   "id": "2a012a29",
   "metadata": {},
   "outputs": [],
   "source": [
    "f.modes.l"
   ]
  },
  {
   "cell_type": "code",
   "execution_count": null,
   "id": "c860a17d",
   "metadata": {},
   "outputs": [],
   "source": []
  }
 ],
 "metadata": {
  "kernelspec": {
   "display_name": "Python 3",
   "language": "python",
   "name": "python3"
  },
  "language_info": {
   "codemirror_mode": {
    "name": "ipython",
    "version": 3
   },
   "file_extension": ".py",
   "mimetype": "text/x-python",
   "name": "python",
   "nbconvert_exporter": "python",
   "pygments_lexer": "ipython3",
   "version": "3.10.0"
  }
 },
 "nbformat": 4,
 "nbformat_minor": 5
}
