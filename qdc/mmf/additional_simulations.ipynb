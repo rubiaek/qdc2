{
 "cells": [
  {
   "cell_type": "code",
   "execution_count": 1,
   "id": "ed05fabf5a1fb1b2",
   "metadata": {
    "ExecuteTime": {
     "end_time": "2025-05-25T12:48:13.279039Z",
     "start_time": "2025-05-25T12:48:13.191574Z"
    }
   },
   "outputs": [],
   "source": [
    "import sys\n",
    "sys.path.append(\"C:/code/qdc2\")\n",
    "import numpy as np, matplotlib.pyplot as plt\n",
    "from qdc.mmf.many_wl_fiber import ManyWavelengthFiber\n",
    "from qdc.mmf.qdc_mmf_experiment import QDCMMFExperiment"
   ]
  },
  {
   "cell_type": "markdown",
   "id": "f0228cc6",
   "metadata": {},
   "source": [
    "# Short illustration of phase matching induced mode mixing "
   ]
  },
  {
   "cell_type": "code",
   "execution_count": 2,
   "id": "19fcd55f",
   "metadata": {},
   "outputs": [
    {
     "name": "stdout",
     "output_type": "stream",
     "text": [
      "Getting 3 fibers...\n"
     ]
    },
    {
     "name": "stderr",
     "output_type": "stream",
     "text": [
      "0it [00:00, ?it/s]C:\\Users\\owner\\AppData\\Roaming\\Python\\Python310\\site-packages\\pyMMF\\solvers\\SI.py:147: RuntimeWarning: invalid value encountered in double_scalars\n",
      "  return jv(m, u) / (u * jv(m - 1, u)) + kn(m, w) / (w * kn(m - 1, w))\n",
      "C:\\Users\\owner\\AppData\\Roaming\\Python\\Python310\\site-packages\\pyMMF\\solvers\\SI.py:147: RuntimeWarning: invalid value encountered in divide\n",
      "  return jv(m, u) / (u * jv(m - 1, u)) + kn(m, w) / (w * kn(m - 1, w))\n",
      "3it [00:31, 10.36s/it]\n"
     ]
    },
    {
     "name": "stdout",
     "output_type": "stream",
     "text": [
      "Got fibers!\n",
      "Getting 3 fibers...\n"
     ]
    },
    {
     "name": "stderr",
     "output_type": "stream",
     "text": [
      "3it [00:01,  2.04it/s]\n"
     ]
    },
    {
     "name": "stdout",
     "output_type": "stream",
     "text": [
      "Got fibers!\n"
     ]
    }
   ],
   "source": [
    "def make_exp(M, is_step_index=False):\n",
    "    mwf = ManyWavelengthFiber(N_wl=3, npoints=2**8, is_step_index=is_step_index)\n",
    "    exp = QDCMMFExperiment(mwf)\n",
    "    exp.set_phase_matching(Lc_um=4000, pump_waist_crystal=500,\n",
    "                           magnification=M, wl_pump=0.405, n_pump=1.692)\n",
    "    return mwf, exp\n",
    "\n",
    "def run_and_collect(M, is_step_index=False):\n",
    "    mwf, exp = make_exp(M, is_step_index)\n",
    "    mid = len(mwf.fibers) // 2\n",
    "    f = mwf.fibers[mid]\n",
    "    f.set_input_gaussian(*exp.g_params)\n",
    "\n",
    "    E0 = f.propagate(show=False)\n",
    "    E_filt = exp._apply_phase_matching(E0)\n",
    "\n",
    "    n = exp.n\n",
    "    G = exp._pm_pump_amp if exp._pm_pump_amp is not None else np.ones((n, n))\n",
    "    S = np.fft.fftshift(exp._pm_filter)\n",
    "\n",
    "    F0 = np.abs(np.fft.fftshift(np.fft.fft2(E0.reshape(n, n))))\n",
    "    F1 = np.abs(np.fft.fftshift(np.fft.fft2(E_filt.reshape(n, n))))\n",
    "    I0 = np.abs(E0.reshape(n, n)) ** 2\n",
    "    I1 = np.abs(E_filt.reshape(n, n)) ** 2\n",
    "    return dict(G=G, S=S, I0=I0, I1=I1, F0=F0, F1=F1, dx=mwf.dx)\n",
    "\n",
    "# -------- plot helper with colorbar --------\n",
    "def show(ax, img, ttl, dx=None, fiber_radius_um=None):\n",
    "    extent = None\n",
    "    if dx is not None:\n",
    "        n = img.shape[0]\n",
    "        extent = [-(n // 2) * dx, (n // 2) * dx,\n",
    "                  -(n // 2) * dx, (n // 2) * dx]\n",
    "\n",
    "    im = ax.imshow(img, extent=extent)\n",
    "    ax.set_title(ttl, fontsize=8)\n",
    "    # ax.axis('off')\n",
    "    plt.colorbar(im, ax=ax, fraction=0.045, pad=0.02)\n",
    "\n",
    "    # Add fiber core circle in real space\n",
    "    if fiber_radius_um is not None and dx is not None:\n",
    "        from matplotlib.patches import Circle\n",
    "        circle = Circle((0, 0), radius=fiber_radius_um, edgecolor='red',\n",
    "                        facecolor='none', lw=1)\n",
    "        ax.add_patch(circle)\n",
    "\n",
    "Ms = [3.3, 10]\n",
    "is_step_index = True\n",
    "data1 = run_and_collect(M=Ms[0], is_step_index=is_step_index)\n",
    "data2 = run_and_collect(M=Ms[1], is_step_index=is_step_index)\n",
    "\n",
    "titles = ['Gaussian', 'sinc PM', 'real |E|² before', 'real |E|² after',\n",
    "          '|FFT| before', '|FFT| after']\n",
    "rows = ['G', 'S', 'I0', 'I1', 'F0', 'F1']\n",
    "\n",
    "fig, axes = plt.subplots(len(rows), 2, figsize=(9, 14))\n",
    "for col, data, M in zip([0, 1], [data1, data2], Ms):\n",
    "    dx = data['dx']\n",
    "    for r, key in enumerate(rows):\n",
    "        is_real_space = key in ['G', 'I0', 'I1']\n",
    "        show(axes[r, col], data[key], f'{titles[r]} (M={M})',\n",
    "             dx=dx if is_real_space else None,\n",
    "             fiber_radius_um=25 if is_real_space else None)\n",
    "\n",
    "plt.tight_layout()\n",
    "plt.show()\n"
   ]
  },
  {
   "cell_type": "markdown",
   "id": "e068ddb6",
   "metadata": {},
   "source": [
    "# Illustration of different $\\partial\\beta_m / \\partial\\omega \\cdot \\Delta\\omega\\cdot L$ for different $m$ values "
   ]
  },
  {
   "cell_type": "code",
   "execution_count": null,
   "id": "2c6b4614",
   "metadata": {},
   "outputs": [],
   "source": [
    "import sys\n",
    "sys.path.append(\"C:/code/qdc2\")\n",
    "import numpy as np, matplotlib.pyplot as plt\n",
    "from qdc.mmf.many_wl_fiber import ManyWavelengthFiber\n",
    "\n",
    "is_step_index = True\n",
    "mwf = ManyWavelengthFiber(wl0=0.810, Dwl=0.001, N_wl=3, npoints=2**8, is_step_index=is_step_index)\n",
    "fig, ax = plt.subplots(2, 1, figsize=(10, 5))\n",
    "ax[0].plot(range(len(mwf.betas[0])), mwf.betas[0], 'o-', label='lambda=0.810')\n",
    "ax[0].plot(range(len(mwf.betas[1])), mwf.betas[1], 'o-', label='lambda=0.811')\n",
    "ax[0].plot(range(len(mwf.betas[2])), mwf.betas[2], 'o-', label='lambda=0.812')\n",
    "ax[0].legend()\n",
    "ax[0].set_title('betas (1/um)')\n",
    "\n",
    "diffs = np.diff(mwf.betas, axis=0)  # I get here the d_beta below and above, and see that they are similar \n",
    "c = 299792458\n",
    "omegas = 2*np.pi*c/mwf.wls\n",
    "Domega = omegas[1] - omegas[0]\n",
    "# after 1m, d_beta/d_omega * Delta_omega * L, and I want to see how this differs between different modes, \n",
    "cutoff = 200 if is_step_index else 100\n",
    "accumulated = diffs[:, :cutoff] * Domega * 0.1e6\n",
    "ax[1].plot(range(len(accumulated[0])), accumulated[0], 'o-', label='diff1')\n",
    "ax[1].plot(range(len(accumulated[1])), accumulated[1], 'o-', label='diff2')\n",
    "ax[1].legend()\n",
    "ax[1].set_title(r'$\\partial\\beta/\\partial\\omega \\cdot \\Delta\\omega \\cdot L$')\n",
    "fig.show()"
   ]
  },
  {
   "cell_type": "markdown",
   "id": "05a279f8",
   "metadata": {},
   "source": [
    "# MMF speckle envelope to normalize before PCC "
   ]
  },
  {
   "cell_type": "code",
   "execution_count": null,
   "id": "53f57e42",
   "metadata": {},
   "outputs": [
    {
     "name": "stdout",
     "output_type": "stream",
     "text": [
      "Getting 3 fibers...\n"
     ]
    },
    {
     "name": "stderr",
     "output_type": "stream",
     "text": [
      "0it [00:00, ?it/s]C:\\Users\\owner\\AppData\\Roaming\\Python\\Python310\\site-packages\\pyMMF\\solvers\\SI.py:147: RuntimeWarning: invalid value encountered in double_scalars\n",
      "  return jv(m, u) / (u * jv(m - 1, u)) + kn(m, w) / (w * kn(m - 1, w))\n",
      "C:\\Users\\owner\\AppData\\Roaming\\Python\\Python310\\site-packages\\pyMMF\\solvers\\SI.py:147: RuntimeWarning: invalid value encountered in divide\n",
      "  return jv(m, u) / (u * jv(m - 1, u)) + kn(m, w) / (w * kn(m - 1, w))\n",
      "3it [00:31, 10.66s/it]"
     ]
    },
    {
     "name": "stdout",
     "output_type": "stream",
     "text": [
      "Got fibers!\n"
     ]
    },
    {
     "name": "stderr",
     "output_type": "stream",
     "text": [
      "\n"
     ]
    }
   ],
   "source": [
    "import sys\n",
    "sys.path.append(\"C:/code/qdc2\")\n",
    "import numpy as np, matplotlib.pyplot as plt\n",
    "from qdc.mmf.many_wl_fiber import ManyWavelengthFiber\n",
    "from qdc.mmf.fiber import Fiber\n",
    "\n",
    "is_step_index = True\n",
    "\n",
    "fiber_L = 0.2e6  if is_step_index else 3e6 # um \n",
    "N_wl = 81\n",
    "N_classical = 5\n",
    "N_SPDC = 5\n",
    "wl0 = 0.810\n",
    "Dwl = 0.010 if is_step_index else 0.020\n",
    "NA_ref = 0.2   \n",
    "dzs = [0, 10, 50, 200, 1000] if is_step_index else [0, 10, 50, 100]\n",
    "npoints = 2**7\n",
    "free_mode_matrix = False if npoints == 2**7 else True  # when working with 2**8, the RAM explodes \n",
    "autosolve = not free_mode_matrix  # if freeing each time - no point in autosolving initially \n",
    "\n",
    "\n",
    "n_pixels_diameter = npoints//5 if is_step_index else npoints//5\n",
    "s = ManyWavelengthFiber(wl0=wl0, Dwl=Dwl, N_wl=N_wl, fiber_L=fiber_L, rng_seed=42, is_step_index=is_step_index, \n",
    "                        npoints=npoints, NA_ref=NA_ref, autosolve=autosolve)\n",
    "s.gaussian_params = np.array([2.7, 7, 10, 0.5, 0.5]) \n",
    "s.gaussian_dparams = np.array([1, 5, 5, 0.3, 0.3])\n",
    "\n",
    "f = s.fibers[0]"
   ]
  },
  {
   "cell_type": "code",
   "execution_count": 17,
   "id": "04802c63",
   "metadata": {},
   "outputs": [
    {
     "name": "stdout",
     "output_type": "stream",
     "text": [
      "0\n",
      "10\n",
      "20\n",
      "30\n",
      "40\n",
      "50\n",
      "60\n",
      "70\n",
      "80\n",
      "90\n"
     ]
    }
   ],
   "source": [
    "f.set_input_gaussian(*mwf.get_g_params())\n",
    "f.propagate(show=False)\n",
    "I_out = np.abs(f.profile_end)**2\n",
    "\n",
    "for i in range(100):\n",
    "    if i % 10 == 0:\n",
    "        print(i)\n",
    "    f.set_input_gaussian(*mwf.get_g_params())\n",
    "    f.propagate(show=False)\n",
    "    I_out += np.abs(f.profile_end)**2\n",
    "\n",
    "fig, ax = plt.subplots(figsize=(10, 5))\n",
    "imm = ax.imshow(I_out.reshape(f.npoints, f.npoints))\n",
    "fig.colorbar(imm, ax=ax)\n",
    "fig.show()"
   ]
  }
 ],
 "metadata": {
  "kernelspec": {
   "display_name": "Python 3",
   "language": "python",
   "name": "python3"
  },
  "language_info": {
   "codemirror_mode": {
    "name": "ipython",
    "version": 3
   },
   "file_extension": ".py",
   "mimetype": "text/x-python",
   "name": "python",
   "nbconvert_exporter": "python",
   "pygments_lexer": "ipython3",
   "version": "3.10.0"
  }
 },
 "nbformat": 4,
 "nbformat_minor": 5
}
