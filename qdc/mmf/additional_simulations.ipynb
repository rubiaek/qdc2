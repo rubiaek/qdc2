{
 "cells": [
  {
   "cell_type": "code",
   "execution_count": 1,
   "id": "ed05fabf5a1fb1b2",
   "metadata": {
    "ExecuteTime": {
     "end_time": "2025-05-25T12:48:13.279039Z",
     "start_time": "2025-05-25T12:48:13.191574Z"
    }
   },
   "outputs": [],
   "source": [
    "import sys\n",
    "sys.path.append(\"C:/code/qdc2\")\n",
    "import numpy as np, matplotlib.pyplot as plt\n",
    "from qdc.mmf.many_wl_fiber import ManyWavelengthFiber\n",
    "from qdc.mmf.qdc_mmf_experiment import QDCMMFExperiment"
   ]
  },
  {
   "cell_type": "markdown",
   "id": "f0228cc6",
   "metadata": {},
   "source": [
    "# Short illustration of phase matching induced mode mixing "
   ]
  },
  {
   "cell_type": "code",
   "execution_count": 2,
   "id": "19fcd55f",
   "metadata": {},
   "outputs": [
    {
     "name": "stdout",
     "output_type": "stream",
     "text": [
      "Getting 3 fibers...\n"
     ]
    },
    {
     "name": "stderr",
     "output_type": "stream",
     "text": [
      "0it [00:00, ?it/s]C:\\Users\\owner\\AppData\\Roaming\\Python\\Python310\\site-packages\\pyMMF\\solvers\\SI.py:147: RuntimeWarning: invalid value encountered in double_scalars\n",
      "  return jv(m, u) / (u * jv(m - 1, u)) + kn(m, w) / (w * kn(m - 1, w))\n",
      "C:\\Users\\owner\\AppData\\Roaming\\Python\\Python310\\site-packages\\pyMMF\\solvers\\SI.py:147: RuntimeWarning: invalid value encountered in divide\n",
      "  return jv(m, u) / (u * jv(m - 1, u)) + kn(m, w) / (w * kn(m - 1, w))\n",
      "3it [00:31, 10.36s/it]\n"
     ]
    },
    {
     "name": "stdout",
     "output_type": "stream",
     "text": [
      "Got fibers!\n",
      "Getting 3 fibers...\n"
     ]
    },
    {
     "name": "stderr",
     "output_type": "stream",
     "text": [
      "3it [00:01,  2.04it/s]\n"
     ]
    },
    {
     "name": "stdout",
     "output_type": "stream",
     "text": [
      "Got fibers!\n"
     ]
    }
   ],
   "source": [
    "def make_exp(M, is_step_index=False):\n",
    "    mwf = ManyWavelengthFiber(N_wl=3, npoints=2**8, is_step_index=is_step_index)\n",
    "    exp = QDCMMFExperiment(mwf)\n",
    "    exp.set_phase_matching(Lc_um=4000, pump_waist_crystal=500,\n",
    "                           magnification=M, wl_pump=0.405, n_pump=1.692)\n",
    "    return mwf, exp\n",
    "\n",
    "def run_and_collect(M, is_step_index=False):\n",
    "    mwf, exp = make_exp(M, is_step_index)\n",
    "    mid = len(mwf.fibers) // 2\n",
    "    f = mwf.fibers[mid]\n",
    "    f.set_input_gaussian(*exp.g_params)\n",
    "\n",
    "    E0 = f.propagate(show=False)\n",
    "    E_filt = exp._apply_phase_matching(E0)\n",
    "\n",
    "    n = exp.n\n",
    "    G = exp._pm_pump_amp if exp._pm_pump_amp is not None else np.ones((n, n))\n",
    "    S = np.fft.fftshift(exp._pm_filter)\n",
    "\n",
    "    F0 = np.abs(np.fft.fftshift(np.fft.fft2(E0.reshape(n, n))))\n",
    "    F1 = np.abs(np.fft.fftshift(np.fft.fft2(E_filt.reshape(n, n))))\n",
    "    I0 = np.abs(E0.reshape(n, n)) ** 2\n",
    "    I1 = np.abs(E_filt.reshape(n, n)) ** 2\n",
    "    return dict(G=G, S=S, I0=I0, I1=I1, F0=F0, F1=F1, dx=mwf.dx)\n",
    "\n",
    "# -------- plot helper with colorbar --------\n",
    "def show(ax, img, ttl, dx=None, fiber_radius_um=None):\n",
    "    extent = None\n",
    "    if dx is not None:\n",
    "        n = img.shape[0]\n",
    "        extent = [-(n // 2) * dx, (n // 2) * dx,\n",
    "                  -(n // 2) * dx, (n // 2) * dx]\n",
    "\n",
    "    im = ax.imshow(img, extent=extent)\n",
    "    ax.set_title(ttl, fontsize=8)\n",
    "    # ax.axis('off')\n",
    "    plt.colorbar(im, ax=ax, fraction=0.045, pad=0.02)\n",
    "\n",
    "    # Add fiber core circle in real space\n",
    "    if fiber_radius_um is not None and dx is not None:\n",
    "        from matplotlib.patches import Circle\n",
    "        circle = Circle((0, 0), radius=fiber_radius_um, edgecolor='red',\n",
    "                        facecolor='none', lw=1)\n",
    "        ax.add_patch(circle)\n",
    "\n",
    "Ms = [3.3, 10]\n",
    "is_step_index = True\n",
    "data1 = run_and_collect(M=Ms[0], is_step_index=is_step_index)\n",
    "data2 = run_and_collect(M=Ms[1], is_step_index=is_step_index)\n",
    "\n",
    "titles = ['Gaussian', 'sinc PM', 'real |E|² before', 'real |E|² after',\n",
    "          '|FFT| before', '|FFT| after']\n",
    "rows = ['G', 'S', 'I0', 'I1', 'F0', 'F1']\n",
    "\n",
    "fig, axes = plt.subplots(len(rows), 2, figsize=(9, 14))\n",
    "for col, data, M in zip([0, 1], [data1, data2], Ms):\n",
    "    dx = data['dx']\n",
    "    for r, key in enumerate(rows):\n",
    "        is_real_space = key in ['G', 'I0', 'I1']\n",
    "        show(axes[r, col], data[key], f'{titles[r]} (M={M})',\n",
    "             dx=dx if is_real_space else None,\n",
    "             fiber_radius_um=25 if is_real_space else None)\n",
    "\n",
    "plt.tight_layout()\n",
    "plt.show()\n"
   ]
  },
  {
   "cell_type": "markdown",
   "id": "e068ddb6",
   "metadata": {},
   "source": [
    "# Illustration of different $\\partial\\beta_m / \\partial\\omega \\cdot \\Delta\\omega\\cdot L$ for different $m$ values "
   ]
  },
  {
   "cell_type": "code",
   "execution_count": 15,
   "id": "2c6b4614",
   "metadata": {},
   "outputs": [
    {
     "name": "stdout",
     "output_type": "stream",
     "text": [
      "Getting 3 fibers...\n"
     ]
    },
    {
     "name": "stderr",
     "output_type": "stream",
     "text": [
      "3it [00:05,  1.76s/it]"
     ]
    },
    {
     "name": "stdout",
     "output_type": "stream",
     "text": [
      "Got fibers!\n"
     ]
    },
    {
     "name": "stderr",
     "output_type": "stream",
     "text": [
      "\n"
     ]
    }
   ],
   "source": [
    "import sys\n",
    "sys.path.append(\"C:/code/qdc2\")\n",
    "import numpy as np, matplotlib.pyplot as plt\n",
    "from qdc.mmf.many_wl_fiber import ManyWavelengthFiber\n",
    "\n",
    "is_step_index = False\n",
    "mwf = ManyWavelengthFiber(wl0=0.810, Dwl=0.0003, N_wl=3, npoints=2**8, is_step_index=is_step_index)\n",
    "fig, ax = plt.subplots(3, 1, figsize=(10, 9.3))\n",
    "\n",
    "mwf.betas = mwf.betas * 1e6 # convert to 1/m\n",
    "\n",
    "ax[0].plot(range(len(mwf.betas[0])), mwf.betas[0], 'o-', label='lambda=0.810')\n",
    "ax[0].plot(range(len(mwf.betas[1])), mwf.betas[1], 'o-', label='lambda=0.811')\n",
    "ax[0].plot(range(len(mwf.betas[2])), mwf.betas[2], 'o-', label='lambda=0.812')\n",
    "ax[0].legend()\n",
    "ax[0].set_title('betas (1/m)')\n",
    "\n",
    "diffs = np.diff(mwf.betas, axis=0)  # I get here the d_beta below and above, and see that they are similar \n",
    "c = 299792458\n",
    "omegas = 2*np.pi*c/mwf.wls\n",
    "Domega = omegas[1] - omegas[0]\n",
    "# after 1m, d_beta/d_omega * Delta_omega * L, and I want to see how this differs between different modes, \n",
    "cutoff = 200 if is_step_index else 100\n",
    "L = 0.1e6\n",
    "diffs = diffs[:, :cutoff] \n",
    "ax[1].plot(range(len(diffs[0])), diffs[0], 'o-', label='diff1')\n",
    "ax[1].plot(range(len(diffs[1])), diffs[1], 'o-', label='diff2')\n",
    "ax[1].legend()\n",
    "# ax[1].set_title(rf'$\\partial\\beta/\\partial\\omega \\cdot \\Delta\\omega \\cdot L; L={round(L*1e-6, 2)}m$')\n",
    "ax[1].set_title(rf'$\\partial\\beta$')\n",
    "\n",
    "ddiff = diffs[1] - diffs[0]\n",
    "ax[2].plot(range(len(ddiff)), ddiff, 'o-', label='ddiff')\n",
    "ax[2].set_title(rf'$\\partial^2\\beta$')\n",
    "fig.suptitle(f'{is_step_index=}')\n",
    "fig.show()"
   ]
  },
  {
   "cell_type": "markdown",
   "id": "05a279f8",
   "metadata": {},
   "source": [
    "# MMF speckle envelope to normalize before PCC "
   ]
  },
  {
   "cell_type": "code",
   "execution_count": 16,
   "id": "53f57e42",
   "metadata": {},
   "outputs": [
    {
     "name": "stdout",
     "output_type": "stream",
     "text": [
      "Getting 81 fibers...\n"
     ]
    },
    {
     "name": "stderr",
     "output_type": "stream",
     "text": [
      "0it [00:00, ?it/s]C:\\Users\\owner\\AppData\\Roaming\\Python\\Python310\\site-packages\\pyMMF\\solvers\\SI.py:147: RuntimeWarning: invalid value encountered in double_scalars\n",
      "  return jv(m, u) / (u * jv(m - 1, u)) + kn(m, w) / (w * kn(m - 1, w))\n",
      "C:\\Users\\owner\\AppData\\Roaming\\Python\\Python310\\site-packages\\pyMMF\\solvers\\SI.py:147: RuntimeWarning: invalid value encountered in divide\n",
      "  return jv(m, u) / (u * jv(m - 1, u)) + kn(m, w) / (w * kn(m - 1, w))\n",
      "30it [02:20,  4.38s/it]Exception ignored in: <function Variable.__del__ at 0x000002AB0EB7C820>\n",
      "Traceback (most recent call last):\n",
      "  File \"c:\\Program Files\\Python310\\lib\\tkinter\\__init__.py\", line 388, in __del__\n",
      "    if self._tk.getboolean(self._tk.call(\"info\", \"exists\", self._name)):\n",
      "RuntimeError: main thread is not in main loop\n",
      "Exception ignored in: <function Variable.__del__ at 0x000002AB0EB7C820>\n",
      "Traceback (most recent call last):\n",
      "  File \"c:\\Program Files\\Python310\\lib\\tkinter\\__init__.py\", line 388, in __del__\n",
      "    if self._tk.getboolean(self._tk.call(\"info\", \"exists\", self._name)):\n",
      "RuntimeError: main thread is not in main loop\n",
      "Exception ignored in: <function Variable.__del__ at 0x000002AB0EB7C820>\n",
      "Traceback (most recent call last):\n",
      "  File \"c:\\Program Files\\Python310\\lib\\tkinter\\__init__.py\", line 388, in __del__\n",
      "    if self._tk.getboolean(self._tk.call(\"info\", \"exists\", self._name)):\n",
      "RuntimeError: main thread is not in main loop\n",
      "Exception ignored in: <function Variable.__del__ at 0x000002AB0EB7C820>\n",
      "Traceback (most recent call last):\n",
      "  File \"c:\\Program Files\\Python310\\lib\\tkinter\\__init__.py\", line 388, in __del__\n",
      "    if self._tk.getboolean(self._tk.call(\"info\", \"exists\", self._name)):\n",
      "RuntimeError: main thread is not in main loop\n",
      "Exception ignored in: <function Image.__del__ at 0x000002AB32C2FEB0>\n",
      "Traceback (most recent call last):\n",
      "  File \"c:\\Program Files\\Python310\\lib\\tkinter\\__init__.py\", line 4046, in __del__\n",
      "    self.tk.call('image', 'delete', self.name)\n",
      "RuntimeError: main thread is not in main loop\n",
      "Exception ignored in: <function Variable.__del__ at 0x000002AB0EB7C820>\n",
      "Traceback (most recent call last):\n",
      "  File \"c:\\Program Files\\Python310\\lib\\tkinter\\__init__.py\", line 388, in __del__\n",
      "    if self._tk.getboolean(self._tk.call(\"info\", \"exists\", self._name)):\n",
      "RuntimeError: main thread is not in main loop\n",
      "Exception ignored in: <function Variable.__del__ at 0x000002AB0EB7C820>\n",
      "Traceback (most recent call last):\n",
      "  File \"c:\\Program Files\\Python310\\lib\\tkinter\\__init__.py\", line 388, in __del__\n",
      "    if self._tk.getboolean(self._tk.call(\"info\", \"exists\", self._name)):\n",
      "RuntimeError: main thread is not in main loop\n",
      "Exception ignored in: <function Variable.__del__ at 0x000002AB0EB7C820>\n",
      "Traceback (most recent call last):\n",
      "  File \"c:\\Program Files\\Python310\\lib\\tkinter\\__init__.py\", line 388, in __del__\n",
      "    if self._tk.getboolean(self._tk.call(\"info\", \"exists\", self._name)):\n",
      "RuntimeError: main thread is not in main loop\n",
      "Exception ignored in: <function Variable.__del__ at 0x000002AB0EB7C820>\n",
      "Traceback (most recent call last):\n",
      "  File \"c:\\Program Files\\Python310\\lib\\tkinter\\__init__.py\", line 388, in __del__\n",
      "    if self._tk.getboolean(self._tk.call(\"info\", \"exists\", self._name)):\n",
      "RuntimeError: main thread is not in main loop\n",
      "Exception ignored in: <function Image.__del__ at 0x000002AB32C2FEB0>\n",
      "Traceback (most recent call last):\n",
      "  File \"c:\\Program Files\\Python310\\lib\\tkinter\\__init__.py\", line 4046, in __del__\n",
      "    self.tk.call('image', 'delete', self.name)\n",
      "RuntimeError: main thread is not in main loop\n",
      "Exception ignored in: <function Variable.__del__ at 0x000002AB0EB7C820>\n",
      "Traceback (most recent call last):\n",
      "  File \"c:\\Program Files\\Python310\\lib\\tkinter\\__init__.py\", line 388, in __del__\n",
      "    if self._tk.getboolean(self._tk.call(\"info\", \"exists\", self._name)):\n",
      "RuntimeError: main thread is not in main loop\n",
      "Exception ignored in: <function Variable.__del__ at 0x000002AB0EB7C820>\n",
      "Traceback (most recent call last):\n",
      "  File \"c:\\Program Files\\Python310\\lib\\tkinter\\__init__.py\", line 388, in __del__\n",
      "    if self._tk.getboolean(self._tk.call(\"info\", \"exists\", self._name)):\n",
      "RuntimeError: main thread is not in main loop\n",
      "Exception ignored in: <function Variable.__del__ at 0x000002AB0EB7C820>\n",
      "Traceback (most recent call last):\n",
      "  File \"c:\\Program Files\\Python310\\lib\\tkinter\\__init__.py\", line 388, in __del__\n",
      "    if self._tk.getboolean(self._tk.call(\"info\", \"exists\", self._name)):\n",
      "RuntimeError: main thread is not in main loop\n",
      "Exception ignored in: <function Variable.__del__ at 0x000002AB0EB7C820>\n",
      "Traceback (most recent call last):\n",
      "  File \"c:\\Program Files\\Python310\\lib\\tkinter\\__init__.py\", line 388, in __del__\n",
      "    if self._tk.getboolean(self._tk.call(\"info\", \"exists\", self._name)):\n",
      "RuntimeError: main thread is not in main loop\n",
      "Exception ignored in: <function Image.__del__ at 0x000002AB32C2FEB0>\n",
      "Traceback (most recent call last):\n",
      "  File \"c:\\Program Files\\Python310\\lib\\tkinter\\__init__.py\", line 4046, in __del__\n",
      "    self.tk.call('image', 'delete', self.name)\n",
      "RuntimeError: main thread is not in main loop\n",
      "57it [05:27,  5.75s/it]\n"
     ]
    },
    {
     "ename": "MemoryError",
     "evalue": "Unable to allocate 94.8 MiB for an array with shape (16384, 379) and data type complex128",
     "output_type": "error",
     "traceback": [
      "\u001b[1;31m---------------------------------------------------------------------------\u001b[0m",
      "\u001b[1;31mMemoryError\u001b[0m                               Traceback (most recent call last)",
      "Cell \u001b[1;32mIn [16], line 23\u001b[0m\n\u001b[0;32m     19\u001b[0m autosolve \u001b[38;5;241m=\u001b[39m \u001b[38;5;129;01mnot\u001b[39;00m free_mode_matrix  \u001b[38;5;66;03m# if freeing each time - no point in autosolving initially \u001b[39;00m\n\u001b[0;32m     22\u001b[0m n_pixels_diameter \u001b[38;5;241m=\u001b[39m npoints\u001b[38;5;241m/\u001b[39m\u001b[38;5;241m/\u001b[39m\u001b[38;5;241m5\u001b[39m \u001b[38;5;28;01mif\u001b[39;00m is_step_index \u001b[38;5;28;01melse\u001b[39;00m npoints\u001b[38;5;241m/\u001b[39m\u001b[38;5;241m/\u001b[39m\u001b[38;5;241m5\u001b[39m\n\u001b[1;32m---> 23\u001b[0m s \u001b[38;5;241m=\u001b[39m \u001b[43mManyWavelengthFiber\u001b[49m\u001b[43m(\u001b[49m\u001b[43mwl0\u001b[49m\u001b[38;5;241;43m=\u001b[39;49m\u001b[43mwl0\u001b[49m\u001b[43m,\u001b[49m\u001b[43m \u001b[49m\u001b[43mDwl\u001b[49m\u001b[38;5;241;43m=\u001b[39;49m\u001b[43mDwl\u001b[49m\u001b[43m,\u001b[49m\u001b[43m \u001b[49m\u001b[43mN_wl\u001b[49m\u001b[38;5;241;43m=\u001b[39;49m\u001b[43mN_wl\u001b[49m\u001b[43m,\u001b[49m\u001b[43m \u001b[49m\u001b[43mfiber_L\u001b[49m\u001b[38;5;241;43m=\u001b[39;49m\u001b[43mfiber_L\u001b[49m\u001b[43m,\u001b[49m\u001b[43m \u001b[49m\u001b[43mrng_seed\u001b[49m\u001b[38;5;241;43m=\u001b[39;49m\u001b[38;5;241;43m42\u001b[39;49m\u001b[43m,\u001b[49m\u001b[43m \u001b[49m\u001b[43mis_step_index\u001b[49m\u001b[38;5;241;43m=\u001b[39;49m\u001b[43mis_step_index\u001b[49m\u001b[43m,\u001b[49m\u001b[43m \u001b[49m\n\u001b[0;32m     24\u001b[0m \u001b[43m                        \u001b[49m\u001b[43mnpoints\u001b[49m\u001b[38;5;241;43m=\u001b[39;49m\u001b[43mnpoints\u001b[49m\u001b[43m,\u001b[49m\u001b[43m \u001b[49m\u001b[43mNA_ref\u001b[49m\u001b[38;5;241;43m=\u001b[39;49m\u001b[43mNA_ref\u001b[49m\u001b[43m,\u001b[49m\u001b[43m \u001b[49m\u001b[43mautosolve\u001b[49m\u001b[38;5;241;43m=\u001b[39;49m\u001b[43mautosolve\u001b[49m\u001b[43m)\u001b[49m\n\u001b[0;32m     25\u001b[0m s\u001b[38;5;241m.\u001b[39mgaussian_params \u001b[38;5;241m=\u001b[39m np\u001b[38;5;241m.\u001b[39marray([\u001b[38;5;241m2.7\u001b[39m, \u001b[38;5;241m7\u001b[39m, \u001b[38;5;241m10\u001b[39m, \u001b[38;5;241m0.5\u001b[39m, \u001b[38;5;241m0.5\u001b[39m]) \n\u001b[0;32m     26\u001b[0m s\u001b[38;5;241m.\u001b[39mgaussian_dparams \u001b[38;5;241m=\u001b[39m np\u001b[38;5;241m.\u001b[39marray([\u001b[38;5;241m1\u001b[39m, \u001b[38;5;241m5\u001b[39m, \u001b[38;5;241m5\u001b[39m, \u001b[38;5;241m0.3\u001b[39m, \u001b[38;5;241m0.3\u001b[39m])\n",
      "File \u001b[1;32mC:\\code/qdc2\\qdc\\mmf\\many_wl_fiber.py:40\u001b[0m, in \u001b[0;36mManyWavelengthFiber.__init__\u001b[1;34m(self, wl0, Dwl, N_wl, fiber_L, rng_seed, is_step_index, npoints, NA_ref, autosolve)\u001b[0m\n\u001b[0;32m     38\u001b[0m     n_core \u001b[38;5;241m=\u001b[39m \u001b[38;5;28mself\u001b[39m\u001b[38;5;241m.\u001b[39mns_clad[i] \u001b[38;5;241m+\u001b[39m \u001b[38;5;28mself\u001b[39m\u001b[38;5;241m.\u001b[39mdelta_n\n\u001b[0;32m     39\u001b[0m     NA_i   \u001b[38;5;241m=\u001b[39m np\u001b[38;5;241m.\u001b[39msqrt(n_core\u001b[38;5;241m*\u001b[39m\u001b[38;5;241m*\u001b[39m\u001b[38;5;241m2\u001b[39m \u001b[38;5;241m-\u001b[39m \u001b[38;5;28mself\u001b[39m\u001b[38;5;241m.\u001b[39mns_clad[i]\u001b[38;5;241m*\u001b[39m\u001b[38;5;241m*\u001b[39m\u001b[38;5;241m2\u001b[39m)\n\u001b[1;32m---> 40\u001b[0m     f \u001b[38;5;241m=\u001b[39m \u001b[43mFiber\u001b[49m\u001b[43m(\u001b[49m\u001b[43mwl\u001b[49m\u001b[38;5;241;43m=\u001b[39;49m\u001b[43mwl\u001b[49m\u001b[43m,\u001b[49m\u001b[43m \u001b[49m\u001b[43mn1\u001b[49m\u001b[38;5;241;43m=\u001b[39;49m\u001b[43mn_core\u001b[49m\u001b[43m,\u001b[49m\u001b[43m \u001b[49m\u001b[43mNA\u001b[49m\u001b[38;5;241;43m=\u001b[39;49m\u001b[43mNA_i\u001b[49m\u001b[43m,\u001b[49m\u001b[43m \u001b[49m\u001b[43mL\u001b[49m\u001b[38;5;241;43m=\u001b[39;49m\u001b[43mfiber_L\u001b[49m\u001b[43m,\u001b[49m\u001b[43m \u001b[49m\u001b[43mrng_seed\u001b[49m\u001b[38;5;241;43m=\u001b[39;49m\u001b[43mrng_seed\u001b[49m\u001b[43m,\u001b[49m\u001b[43m \u001b[49m\u001b[43mis_step_index\u001b[49m\u001b[38;5;241;43m=\u001b[39;49m\u001b[38;5;28;43mself\u001b[39;49m\u001b[38;5;241;43m.\u001b[39;49m\u001b[43mis_step_index\u001b[49m\u001b[43m,\u001b[49m\u001b[43m \u001b[49m\n\u001b[0;32m     41\u001b[0m \u001b[43m              \u001b[49m\u001b[43mnpoints\u001b[49m\u001b[38;5;241;43m=\u001b[39;49m\u001b[43mnpoints\u001b[49m\u001b[43m,\u001b[49m\u001b[43m \u001b[49m\u001b[43mautosolve\u001b[49m\u001b[38;5;241;43m=\u001b[39;49m\u001b[38;5;28;43mself\u001b[39;49m\u001b[38;5;241;43m.\u001b[39;49m\u001b[43mautosolve\u001b[49m\u001b[43m)\u001b[49m\n\u001b[0;32m     42\u001b[0m     \u001b[38;5;28mself\u001b[39m\u001b[38;5;241m.\u001b[39mfibers\u001b[38;5;241m.\u001b[39mappend(f)\n\u001b[0;32m     43\u001b[0m \u001b[38;5;28mprint\u001b[39m(\u001b[38;5;124m\"\u001b[39m\u001b[38;5;124mGot fibers!\u001b[39m\u001b[38;5;124m\"\u001b[39m)\n",
      "File \u001b[1;32mC:\\code/qdc2\\qdc\\mmf\\fiber.py:94\u001b[0m, in \u001b[0;36mFiber.__init__\u001b[1;34m(self, wl, n1, NA, diameter, curvature, areaSize, npoints, autosolve, L, rng_seed, is_step_index)\u001b[0m\n\u001b[0;32m     89\u001b[0m \u001b[38;5;28mself\u001b[39m\u001b[38;5;241m.\u001b[39msaveto_path \u001b[38;5;241m=\u001b[39m os\u001b[38;5;241m.\u001b[39mpath\u001b[38;5;241m.\u001b[39mjoin(\n\u001b[0;32m     90\u001b[0m     MODES_DIR, \u001b[38;5;124mf\u001b[39m\u001b[38;5;124m\"\u001b[39m\u001b[38;5;124mmodes_\u001b[39m\u001b[38;5;132;01m{\u001b[39;00mf_type\u001b[38;5;132;01m}\u001b[39;00m\u001b[38;5;124m_wl=\u001b[39m\u001b[38;5;132;01m{\u001b[39;00m\u001b[38;5;28mself\u001b[39m\u001b[38;5;241m.\u001b[39mwl\u001b[38;5;132;01m:\u001b[39;00m\u001b[38;5;124m.4f\u001b[39m\u001b[38;5;132;01m}\u001b[39;00m\u001b[38;5;124m_npoints=\u001b[39m\u001b[38;5;132;01m{\u001b[39;00m\u001b[38;5;28mself\u001b[39m\u001b[38;5;241m.\u001b[39mnpoints\u001b[38;5;132;01m}\u001b[39;00m\u001b[38;5;124m_n_hash=\u001b[39m\u001b[38;5;132;01m{\u001b[39;00mn_hash\u001b[38;5;132;01m}\u001b[39;00m\u001b[38;5;124m.npz\u001b[39m\u001b[38;5;124m\"\u001b[39m\n\u001b[0;32m     91\u001b[0m )\n\u001b[0;32m     93\u001b[0m \u001b[38;5;28;01mif\u001b[39;00m autosolve:\n\u001b[1;32m---> 94\u001b[0m     \u001b[38;5;28;43mself\u001b[39;49m\u001b[38;5;241;43m.\u001b[39;49m\u001b[43msolve\u001b[49m\u001b[43m(\u001b[49m\u001b[43m)\u001b[49m\n",
      "File \u001b[1;32mC:\\code/qdc2\\qdc\\mmf\\fiber.py:122\u001b[0m, in \u001b[0;36mFiber.solve\u001b[1;34m(self)\u001b[0m\n\u001b[0;32m    117\u001b[0m \u001b[38;5;28mself\u001b[39m\u001b[38;5;241m.\u001b[39mmodes \u001b[38;5;241m=\u001b[39m \u001b[38;5;28mself\u001b[39m\u001b[38;5;241m.\u001b[39msolver\u001b[38;5;241m.\u001b[39msolve(\n\u001b[0;32m    118\u001b[0m     solver\u001b[38;5;241m=\u001b[39m\u001b[38;5;124m\"\u001b[39m\u001b[38;5;124mdefault\u001b[39m\u001b[38;5;124m\"\u001b[39m,\n\u001b[0;32m    119\u001b[0m     options\u001b[38;5;241m=\u001b[39moptions\n\u001b[0;32m    120\u001b[0m )\n\u001b[0;32m    121\u001b[0m \u001b[38;5;28mself\u001b[39m\u001b[38;5;241m.\u001b[39mNmodes \u001b[38;5;241m=\u001b[39m \u001b[38;5;28mself\u001b[39m\u001b[38;5;241m.\u001b[39mmodes\u001b[38;5;241m.\u001b[39mnumber\n\u001b[1;32m--> 122\u001b[0m \u001b[38;5;28;43mself\u001b[39;49m\u001b[38;5;241;43m.\u001b[39;49m\u001b[43m_save_to_file\u001b[49m\u001b[43m(\u001b[49m\u001b[43m)\u001b[49m\n",
      "File \u001b[1;32mC:\\code/qdc2\\qdc\\mmf\\fiber.py:150\u001b[0m, in \u001b[0;36mFiber._save_to_file\u001b[1;34m(self)\u001b[0m\n\u001b[0;32m    143\u001b[0m \u001b[38;5;28;01mdef\u001b[39;00m \u001b[38;5;21m_save_to_file\u001b[39m(\u001b[38;5;28mself\u001b[39m):\n\u001b[0;32m    144\u001b[0m     \u001b[38;5;28;01mwith\u001b[39;00m \u001b[38;5;28mopen\u001b[39m(\u001b[38;5;28mself\u001b[39m\u001b[38;5;241m.\u001b[39msaveto_path, \u001b[38;5;124m\"\u001b[39m\u001b[38;5;124mwb\u001b[39m\u001b[38;5;124m\"\u001b[39m) \u001b[38;5;28;01mas\u001b[39;00m f:\n\u001b[0;32m    145\u001b[0m         np\u001b[38;5;241m.\u001b[39msavez(\n\u001b[0;32m    146\u001b[0m             f,\n\u001b[0;32m    147\u001b[0m             n_points\u001b[38;5;241m=\u001b[39m\u001b[38;5;28mself\u001b[39m\u001b[38;5;241m.\u001b[39mnpoints,\n\u001b[0;32m    148\u001b[0m             n_modes\u001b[38;5;241m=\u001b[39m\u001b[38;5;28mself\u001b[39m\u001b[38;5;241m.\u001b[39mNmodes,\n\u001b[0;32m    149\u001b[0m             npoints\u001b[38;5;241m=\u001b[39m\u001b[38;5;28mself\u001b[39m\u001b[38;5;241m.\u001b[39mnpoints,\n\u001b[1;32m--> 150\u001b[0m             profiles\u001b[38;5;241m=\u001b[39m\u001b[38;5;28;43mself\u001b[39;49m\u001b[38;5;241;43m.\u001b[39;49m\u001b[43mmodes\u001b[49m\u001b[38;5;241;43m.\u001b[39;49m\u001b[43mgetModeMatrix\u001b[49m\u001b[43m(\u001b[49m\u001b[43m)\u001b[49m,\n\u001b[0;32m    151\u001b[0m             betas\u001b[38;5;241m=\u001b[39m\u001b[38;5;28mself\u001b[39m\u001b[38;5;241m.\u001b[39mmodes\u001b[38;5;241m.\u001b[39mbetas,\n\u001b[0;32m    152\u001b[0m             index_profile_n\u001b[38;5;241m=\u001b[39m\u001b[38;5;28mself\u001b[39m\u001b[38;5;241m.\u001b[39mindex_profile\u001b[38;5;241m.\u001b[39mn,\n\u001b[0;32m    153\u001b[0m         )\n",
      "File \u001b[1;32m~\\AppData\\Roaming\\Python\\Python310\\site-packages\\pyMMF\\modes.py:75\u001b[0m, in \u001b[0;36mModes.getModeMatrix\u001b[1;34m(self, npola, shift, angle)\u001b[0m\n\u001b[0;32m     72\u001b[0m     \u001b[38;5;28;01massert\u001b[39;00m \u001b[38;5;28mlen\u001b[39m(shift) \u001b[38;5;241m==\u001b[39m \u001b[38;5;241m2\u001b[39m\n\u001b[0;32m     74\u001b[0m N \u001b[38;5;241m=\u001b[39m \u001b[38;5;28mself\u001b[39m\u001b[38;5;241m.\u001b[39mprofiles[\u001b[38;5;241m0\u001b[39m]\u001b[38;5;241m.\u001b[39mshape[\u001b[38;5;241m0\u001b[39m]\n\u001b[1;32m---> 75\u001b[0m M \u001b[38;5;241m=\u001b[39m \u001b[43mnp\u001b[49m\u001b[38;5;241;43m.\u001b[39;49m\u001b[43mzeros\u001b[49m\u001b[43m(\u001b[49m\u001b[43m(\u001b[49m\u001b[43mN\u001b[49m\u001b[43m \u001b[49m\u001b[38;5;241;43m*\u001b[39;49m\u001b[43m \u001b[49m\u001b[43mnpola\u001b[49m\u001b[43m,\u001b[49m\u001b[43m \u001b[49m\u001b[43mnpola\u001b[49m\u001b[43m \u001b[49m\u001b[38;5;241;43m*\u001b[39;49m\u001b[43m \u001b[49m\u001b[38;5;28;43mself\u001b[39;49m\u001b[38;5;241;43m.\u001b[39;49m\u001b[43mnumber\u001b[49m\u001b[43m)\u001b[49m\u001b[43m,\u001b[49m\u001b[43m \u001b[49m\u001b[43mdtype\u001b[49m\u001b[38;5;241;43m=\u001b[39;49m\u001b[43mnp\u001b[49m\u001b[38;5;241;43m.\u001b[39;49m\u001b[43mcomplex128\u001b[49m\u001b[43m)\u001b[49m\n\u001b[0;32m     76\u001b[0m angle \u001b[38;5;241m=\u001b[39m angle \u001b[38;5;241m/\u001b[39m np\u001b[38;5;241m.\u001b[39mpi \u001b[38;5;241m*\u001b[39m \u001b[38;5;241m180.0\u001b[39m \u001b[38;5;28;01mif\u001b[39;00m (angle \u001b[38;5;129;01mis\u001b[39;00m \u001b[38;5;129;01mnot\u001b[39;00m \u001b[38;5;28;01mNone\u001b[39;00m) \u001b[38;5;28;01melse\u001b[39;00m \u001b[38;5;28;01mNone\u001b[39;00m\n\u001b[0;32m     78\u001b[0m \u001b[38;5;28;01mfor\u001b[39;00m pol \u001b[38;5;129;01min\u001b[39;00m \u001b[38;5;28mrange\u001b[39m(npola):\n",
      "\u001b[1;31mMemoryError\u001b[0m: Unable to allocate 94.8 MiB for an array with shape (16384, 379) and data type complex128"
     ]
    }
   ],
   "source": [
    "import sys\n",
    "sys.path.append(\"C:/code/qdc2\")\n",
    "import numpy as np, matplotlib.pyplot as plt\n",
    "from qdc.mmf.many_wl_fiber import ManyWavelengthFiber\n",
    "from qdc.mmf.fiber import Fiber\n",
    "\n",
    "is_step_index = True\n",
    "\n",
    "fiber_L = 0.2e6  if is_step_index else 3e6 # um \n",
    "N_wl = 81\n",
    "N_classical = 5\n",
    "N_SPDC = 5\n",
    "wl0 = 0.810\n",
    "Dwl = 0.010 if is_step_index else 0.020\n",
    "NA_ref = 0.2   \n",
    "dzs = [0, 10, 50, 200, 1000] if is_step_index else [0, 10, 50, 100]\n",
    "npoints = 2**7\n",
    "free_mode_matrix = False if npoints == 2**7 else True  # when working with 2**8, the RAM explodes \n",
    "autosolve = not free_mode_matrix  # if freeing each time - no point in autosolving initially \n",
    "\n",
    "\n",
    "n_pixels_diameter = npoints//5 if is_step_index else npoints//5\n",
    "s = ManyWavelengthFiber(wl0=wl0, Dwl=Dwl, N_wl=N_wl, fiber_L=fiber_L, rng_seed=42, is_step_index=is_step_index, \n",
    "                        npoints=npoints, NA_ref=NA_ref, autosolve=autosolve)\n",
    "s.gaussian_params = np.array([2.7, 7, 10, 0.5, 0.5]) \n",
    "s.gaussian_dparams = np.array([1, 5, 5, 0.3, 0.3])\n",
    "\n",
    "f = s.fibers[0]"
   ]
  },
  {
   "cell_type": "code",
   "execution_count": 17,
   "id": "04802c63",
   "metadata": {},
   "outputs": [
    {
     "name": "stdout",
     "output_type": "stream",
     "text": [
      "0\n",
      "10\n",
      "20\n",
      "30\n",
      "40\n",
      "50\n",
      "60\n",
      "70\n",
      "80\n",
      "90\n"
     ]
    }
   ],
   "source": [
    "f.set_input_gaussian(*mwf.get_g_params())\n",
    "f.propagate(show=False)\n",
    "I_out = np.abs(f.profile_end)**2\n",
    "\n",
    "for i in range(100):\n",
    "    if i % 10 == 0:\n",
    "        print(i)\n",
    "    f.set_input_gaussian(*mwf.get_g_params())\n",
    "    f.propagate(show=False)\n",
    "    I_out += np.abs(f.profile_end)**2\n",
    "\n",
    "fig, ax = plt.subplots(figsize=(10, 5))\n",
    "imm = ax.imshow(I_out.reshape(f.npoints, f.npoints))\n",
    "fig.colorbar(imm, ax=ax)\n",
    "fig.show()"
   ]
  }
 ],
 "metadata": {
  "kernelspec": {
   "display_name": "Python 3",
   "language": "python",
   "name": "python3"
  },
  "language_info": {
   "codemirror_mode": {
    "name": "ipython",
    "version": 3
   },
   "file_extension": ".py",
   "mimetype": "text/x-python",
   "name": "python",
   "nbconvert_exporter": "python",
   "pygments_lexer": "ipython3",
   "version": "3.10.0"
  }
 },
 "nbformat": 4,
 "nbformat_minor": 5
}
