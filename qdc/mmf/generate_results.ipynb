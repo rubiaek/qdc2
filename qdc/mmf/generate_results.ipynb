{
 "cells": [
  {
   "metadata": {
    "ExecuteTime": {
     "end_time": "2025-02-10T07:47:39.730549Z",
     "start_time": "2025-02-10T07:47:39.426519Z"
    }
   },
   "cell_type": "code",
   "source": [
    "%load_ext autoreload\n",
    "%autoreload 2\n",
    "\n",
    "from qdc.mmf.many_wl_fiber import ManyWavelengthFiber\n",
    "from qdc.mmf.qdc_experiment import QDCExperiment\n",
    "from qdc.misc import tnow\n",
    "import os \n",
    "DATA_DIR = os.path.join(os.path.abspath(os.path.curdir), 'data')"
   ],
   "id": "f34f8caf458a5275",
   "outputs": [
    {
     "name": "stdout",
     "output_type": "stream",
     "text": [
      "The autoreload extension is already loaded. To reload it, use:\n",
      "  %reload_ext autoreload\n"
     ]
    }
   ],
   "execution_count": 6
  },
  {
   "metadata": {
    "jupyter": {
     "is_executing": true
    },
    "ExecuteTime": {
     "start_time": "2025-02-10T07:52:46.615807Z"
    }
   },
   "cell_type": "code",
   "source": [
    "# Construct the multi-wavelength fiber set\n",
    "fiber_L = 5e6  # um \n",
    "N_wl = 81\n",
    "N_classical = 2\n",
    "N_klyshkos = 3 \n",
    "wl0 = 0.810\n",
    "Dwl = 0.080\n",
    "dzs = [0, 20, 80]\n",
    "\n",
    "s = ManyWavelengthFiber(wl0=wl0, Dwl=Dwl, N_wl=N_wl, fiber_L=fiber_L)\n",
    "\n",
    "# Construct the experiment with that ManyWavelengthFiber\n",
    "exp = QDCExperiment(s)\n",
    "\n",
    "# Now run a multi-dz test, returning a QDCResult\n",
    "res = exp.run_PCCs_different_dz(dzs=dzs, N_classical=N_classical, N_klyshko=N_klyshkos)\n",
    "\n",
    "# Plot the result\n",
    "res.show(title=\"Refactored QDC Demo\")\n",
    "\n",
    "saveto_path = rf'{DATA_DIR}\\\\{tnow()}.npz'\n",
    "# Optionally save the result to disk\n",
    "res.saveto(saveto_path)"
   ],
   "id": "a480d973aacae8e3",
   "outputs": [
    {
     "name": "stdout",
     "output_type": "stream",
     "text": [
      "Getting 81 fibers...\n"
     ]
    },
    {
     "name": "stderr",
     "output_type": "stream",
     "text": [
      "29it [00:36,  1.23s/it]"
     ]
    }
   ],
   "execution_count": null
  }
 ],
 "metadata": {
  "kernelspec": {
   "display_name": "Python 3",
   "language": "python",
   "name": "python3"
  },
  "language_info": {
   "codemirror_mode": {
    "name": "ipython",
    "version": 2
   },
   "file_extension": ".py",
   "mimetype": "text/x-python",
   "name": "python",
   "nbconvert_exporter": "python",
   "pygments_lexer": "ipython2",
   "version": "2.7.6"
  }
 },
 "nbformat": 4,
 "nbformat_minor": 5
}
