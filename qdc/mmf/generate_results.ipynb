{
 "cells": [
  {
   "cell_type": "code",
   "execution_count": null,
   "id": "f34f8caf458a5275",
   "metadata": {
    "ExecuteTime": {
     "end_time": "2025-06-24T14:04:19.989699Z",
     "start_time": "2025-06-24T14:04:17.165726Z"
    }
   },
   "outputs": [],
   "source": [
    "%load_ext autoreload\n",
    "%autoreload 2\n",
    "%matplotlib ipympl\n",
    "# %matplotlib qt\n",
    "import sys\n",
    "sys.path.append('C:\\code\\qdc2')\n",
    "import matplotlib.pyplot as plt \n",
    "import os \n",
    "import numpy as np \n",
    "from qdc.mmf.many_wl_fiber import ManyWavelengthFiber\n",
    "from qdc.mmf.qdc_experiment import QDCMMFExperiment\n",
    "from qdc.misc import tnow\n",
    "DATA_DIR = os.path.join(os.path.abspath(os.path.curdir), 'data')"
   ]
  },
  {
   "cell_type": "code",
   "execution_count": null,
   "id": "a480d973aacae8e3",
   "metadata": {
    "ExecuteTime": {
     "end_time": "2025-06-24T14:07:27.146730Z",
     "start_time": "2025-06-24T14:06:18.322158Z"
    }
   },
   "outputs": [],
   "source": [
    "is_step_index = False\n",
    "fiber_L = 0.1e6  if is_step_index else 2e6 # um \n",
    "N_wl = 81\n",
    "N_classical = 100\n",
    "N_SPDC = 100\n",
    "wl0 = 0.810\n",
    "Dwl = 0.020 if is_step_index else 0.020\n",
    "NA_ref = 0.2   \n",
    "dzs = [0, 10, 50, 200, 1000] if is_step_index else [0, 10, 50, 80]\n",
    "# dzs = [0]\n",
    "free_mode_matrix = True\n",
    "autosolve = not free_mode_matrix\n",
    "\n",
    "npoints = 2**8\n",
    "n_pixels_diameter = 2*npoints//5 if is_step_index else npoints//4\n",
    "s = ManyWavelengthFiber(wl0=wl0, Dwl=Dwl, N_wl=N_wl, fiber_L=fiber_L, rng_seed=5555, is_step_index=is_step_index, \n",
    "                        npoints=npoints, NA_ref=NA_ref, autosolve=autosolve)\n",
    "s.gaussian_params = np.array([2.7, 7, 10, 0.5, 0.5]) \n",
    "s.gaussian_dparams = np.array([1, 5, 5, 0.3, 0.3])\n",
    "# s.gaussian_dparams = np.array([0, 4, 4, 0.1, 0.1])\n",
    "\n",
    "exp = QDCMMFExperiment(s, free_mode_matrix=free_mode_matrix)\n",
    "exp._set_PCC_slice(n_pixels_diameter=n_pixels_diameter)\n",
    "res = exp.run_PCCs_different_dz(dzs=dzs, N_classical=N_classical, N_SPDC=N_SPDC)\n",
    "# res.show(title='')\n",
    "# res.show_incoherent_sum()\n",
    "\n",
    "f_type = 'SI' if is_step_index else 'GRIN'\n",
    "saveto_path = rf'{DATA_DIR}\\\\{tnow()}_{f_type}_{round(fiber_L*1e-6, 2)}m_N=100.npz'\n",
    "res.saveto(saveto_path)"
   ]
  },
  {
   "cell_type": "code",
   "execution_count": null,
   "id": "4a29e84a",
   "metadata": {},
   "outputs": [],
   "source": [
    "f_type = 'SI' if is_step_index else 'GRIN'\n",
    "saveto_path = rf'{DATA_DIR}\\\\{tnow()}_{f_type}_{round(fiber_L*1e-6, 2)}m_N=100.npz'\n",
    "res.saveto(saveto_path)"
   ]
  },
  {
   "cell_type": "code",
   "execution_count": null,
   "id": "dc601d23",
   "metadata": {},
   "outputs": [],
   "source": [
    "res.metadata[\"g_params_list\"]"
   ]
  },
  {
   "cell_type": "code",
   "execution_count": null,
   "id": "b1af32b7352bd2ff",
   "metadata": {
    "ExecuteTime": {
     "end_time": "2025-06-24T14:08:51.383077Z",
     "start_time": "2025-06-24T14:08:51.103646Z"
    }
   },
   "outputs": [],
   "source": [
    "iter_no = None\n",
    "dz = 0\n",
    "print(res.metadata[\"g_params_list\"][iter_no or 0])\n",
    "res.show(title='', iter_no=iter_no, show0=False)\n",
    "# for i in range(5):\n",
    "    # res.show_incoherent_sum(iter_no=i, dz=dz)\n",
    "    # res.show(title='', iter_no=i, show0=False)\n",
    "\n",
    "res.show_incoherent_sum(iter_no=iter_no, dz=dz)"
   ]
  },
  {
   "cell_type": "markdown",
   "id": "31f40768",
   "metadata": {},
   "source": [
    "## View input and output fields + mode distribution for given gaussian params "
   ]
  },
  {
   "cell_type": "code",
   "execution_count": null,
   "id": "cc39eadfa279889e",
   "metadata": {
    "ExecuteTime": {
     "end_time": "2025-06-24T13:03:02.112318Z",
     "start_time": "2025-06-24T13:03:01.744696Z"
    }
   },
   "outputs": [],
   "source": [
    "import cv2\n",
    "from qdc.mmf.fiber import Fiber\n",
    "\n",
    "is_step_index = True\n",
    "f = Fiber(is_step_index=is_step_index)\n",
    "f.set_input_gaussian(sigma=3, X0=5, Y0=10, X_linphase=0.4, Y_linphase=0.4, random_phase=0.0)\n",
    "f.propagate(False)\n",
    "\n",
    "fig, axes = plt.subplot_mosaic(\n",
    "    [[\"left\", \"right\"],\n",
    "     [\"bottom\", \"bottom\"]],\n",
    "    figsize=(9, 6)\n",
    ")\n",
    "\n",
    "from matplotlib import patches\n",
    "# make circle centered in the middle of the plot\n",
    "circle = patches.Circle((f.npoints//2, f.npoints//2), 25/f.index_profile.dh, color='red', fill=False, linestyle='dashed')\n",
    "axes[\"left\"].add_patch(circle)\n",
    "circle = patches.Circle((f.npoints//2, f.npoints//2), 25/f.index_profile.dh, color='blue', fill=False, linestyle='dashed')\n",
    "axes[\"right\"].add_patch(circle)\n",
    "\n",
    "\n",
    "f.show_profile(f.profile_0,   ax=axes[\"left\"],   title='input')\n",
    "f.show_profile(f.profile_end, ax=axes[\"right\"],  title='output')\n",
    "\n",
    "# axes[\"bottom\"].plot(np.abs(f.modes_0)**2, label='modes 0')\n",
    "axes[\"bottom\"].plot(np.abs(f.modes_0)**2, label='modes_end before mask')\n",
    "\n",
    "macro_pixels = 10\n",
    "sqare_size = f.npoints//macro_pixels\n",
    "square = patches.Rectangle((0,0), sqare_size, sqare_size, color='green', fill=False, linestyle='dashed')\n",
    "axes[\"left\"].add_patch(square)\n",
    "square = patches.Rectangle((0,0), sqare_size, sqare_size, color='green', fill=False, linestyle='dashed')\n",
    "axes[\"right\"].add_patch(square)\n",
    "\n",
    "A = np.random.uniform(0, 2*np.pi, size=(macro_pixels, macro_pixels))\n",
    "A = cv2.resize(A, (f.npoints.item(), f.npoints.item()), interpolation=cv2.INTER_AREA)\n",
    "A = np.exp(1j*A)\n",
    "profile_after_mask = f.profile_end * A.ravel()\n",
    "modes_after_mask = f.modes.getModeMatrix().T @ profile_after_mask\n",
    "\n",
    "axes[\"bottom\"].plot(np.abs(modes_after_mask)**2, label='modes_end after mask')\n",
    "\n",
    "axes[\"bottom\"].legend()\n",
    "fig.suptitle(f'is_step_index={is_step_index}, macro_pixels={macro_pixels}')\n",
    "plt.tight_layout()"
   ]
  },
  {
   "cell_type": "code",
   "execution_count": null,
   "id": "4051ab83",
   "metadata": {},
   "outputs": [],
   "source": [
    "f.show_mode(20)"
   ]
  },
  {
   "cell_type": "code",
   "execution_count": null,
   "id": "573403d2",
   "metadata": {},
   "outputs": [],
   "source": [
    "for f in s.fibers:\n",
    "    print(f.NA)\n",
    "    print(f.Nmodes)"
   ]
  },
  {
   "cell_type": "markdown",
   "id": "e7bad744",
   "metadata": {},
   "source": [
    "# Irelevant scans from lab "
   ]
  },
  {
   "cell_type": "code",
   "execution_count": null,
   "id": "646d31b2",
   "metadata": {},
   "outputs": [],
   "source": [
    "from pianoq_results.scan_result import ScanResult\n",
    "import glob\n",
    "paths = glob.glob(r'G:\\My Drive\\People\\Ronen\\PHD\\SPDC2025\\phase_matching\\Scans\\2025_07*.scan')\n",
    "paths\n",
    "\n",
    "from pianoq.misc.mplt import mimshow\n",
    "# path_i = 0\n",
    "path = r\"G:\\My Drive\\People\\Ronen\\PHD\\SPDC2025\\phase_matching\\Scans\\2025_06_29_14_28_05_first_full_dx=0.05_no_pump_lens.scan\"\n",
    "# path = r\"G:\\My Drive\\People\\Ronen\\PHD\\SPDC2025\\phase_matching\\Scans\\2025_06_29_15_18_48_first_full_dx=0.05_with_lens.scan\"\n",
    "# path = paths[path_i]\n",
    "print(path)\n",
    "sr = ScanResult(path)\n",
    "mimshow(sr.coincidences - (sr.single1s * sr.single2s * 2 * 4e-9))"
   ]
  }
 ],
 "metadata": {
  "kernelspec": {
   "display_name": "Python 3",
   "language": "python",
   "name": "python3"
  },
  "language_info": {
   "codemirror_mode": {
    "name": "ipython",
    "version": 3
   },
   "file_extension": ".py",
   "mimetype": "text/x-python",
   "name": "python",
   "nbconvert_exporter": "python",
   "pygments_lexer": "ipython3",
   "version": "3.10.0"
  }
 },
 "nbformat": 4,
 "nbformat_minor": 5
}
