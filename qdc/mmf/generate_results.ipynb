{
 "cells": [
  {
   "metadata": {
    "ExecuteTime": {
     "end_time": "2025-06-24T12:30:18.063418Z",
     "start_time": "2025-06-24T12:30:17.996351Z"
    }
   },
   "cell_type": "code",
   "source": [
    "%load_ext autoreload\n",
    "%autoreload 2\n",
    "\n",
    "import matplotlib.pyplot as plt \n",
    "import os \n",
    "import numpy as np \n",
    "from qdc.mmf.many_wl_fiber import ManyWavelengthFiber\n",
    "from qdc.mmf.qdc_experiment import QDCExperiment\n",
    "from qdc.misc import tnow\n",
    "DATA_DIR = os.path.join(os.path.abspath(os.path.curdir), 'data')"
   ],
   "id": "f34f8caf458a5275",
   "outputs": [
    {
     "name": "stdout",
     "output_type": "stream",
     "text": [
      "The autoreload extension is already loaded. To reload it, use:\n",
      "  %reload_ext autoreload\n"
     ]
    }
   ],
   "execution_count": 51
  },
  {
   "metadata": {
    "ExecuteTime": {
     "end_time": "2025-06-24T12:49:45.608226Z",
     "start_time": "2025-06-24T12:48:16.431176Z"
    }
   },
   "cell_type": "code",
   "source": [
    "is_step_index = False\n",
    "fiber_L = 0.1e6  if is_step_index else 0.4e6 # um \n",
    "N_wl = 81\n",
    "N_classical = 5\n",
    "N_klyshkos = 5\n",
    "wl0 = 0.810\n",
    "Dwl = 0.020 if is_step_index else 0.080\n",
    "# dzs = [0, 20, 80]\n",
    "dzs = [0]\n",
    "\n",
    "s = ManyWavelengthFiber(wl0=wl0, Dwl=Dwl, N_wl=N_wl, fiber_L=fiber_L, rng_seed=5555, is_step_index=is_step_index)\n",
    "\n",
    "exp = QDCExperiment(s)\n",
    "res = exp.run_PCCs_different_dz(dzs=dzs, N_classical=N_classical, N_klyshko=N_klyshkos)\n",
    "res.show(title='')\n",
    "res.show_incoherent_sum()\n",
    "\n",
    "f_type = 'SI' if is_step_index else 'GRIN'\n",
    "saveto_path = rf'{DATA_DIR}\\\\{tnow()}_{f_type}_{round(fiber_L*1e6, 2)}m.npz'\n",
    "res.saveto(saveto_path)"
   ],
   "id": "a480d973aacae8e3",
   "outputs": [
    {
     "name": "stdout",
     "output_type": "stream",
     "text": [
      "Getting 81 fibers...\n"
     ]
    },
    {
     "name": "stderr",
     "output_type": "stream",
     "text": [
      "81it [00:09,  8.50it/s]\n"
     ]
    },
    {
     "name": "stdout",
     "output_type": "stream",
     "text": [
      "Got fibers!\n",
      "Getting classical with average on 5 ...\n"
     ]
    },
    {
     "name": "stderr",
     "output_type": "stream",
     "text": [
      "100%|██████████| 5/5 [00:40<00:00,  8.08s/it]\n"
     ]
    },
    {
     "name": "stdout",
     "output_type": "stream",
     "text": [
      "Getting Klyshko with average on 5, dz=0 ...\n"
     ]
    },
    {
     "name": "stderr",
     "output_type": "stream",
     "text": [
      "100%|██████████| 5/5 [00:37<00:00,  7.56s/it]\n"
     ]
    }
   ],
   "execution_count": 77
  },
  {
   "metadata": {
    "ExecuteTime": {
     "end_time": "2025-06-24T12:43:52.906236Z",
     "start_time": "2025-06-24T12:43:52.478177Z"
    }
   },
   "cell_type": "code",
   "source": [
    "f = s.fibers[0]\n",
    "f.set_input_gaussian(sigma=7, X0=5, Y0=9, X_linphase=0.5, Y_linphase=0.3, random_phase=0.0)\n",
    "# f.set_input_gaussian(sigma=10, X0=3, Y0=9, X_linphase=0.3, random_phase=0.5)\n",
    "f.propagate(False)\n",
    "\n",
    "fig, axes = plt.subplot_mosaic(\n",
    "    [[\"left\", \"right\"],\n",
    "     [\"bottom\", \"bottom\"]],\n",
    "    figsize=(10, 6)\n",
    ")\n",
    "\n",
    "f.show_profile(f.profile_0,   ax=axes[\"left\"],   title='input')\n",
    "f.show_profile(f.profile_end, ax=axes[\"right\"],  title='output')\n",
    "axes[\"bottom\"].plot(np.abs(f.modes_0)**2)\n",
    "plt.tight_layout()\n",
    "fig.show()\n",
    "# f.show_mode(251)"
   ],
   "id": "cc39eadfa279889e",
   "outputs": [],
   "execution_count": 74
  },
  {
   "metadata": {
    "ExecuteTime": {
     "end_time": "2025-06-24T12:22:01.379801Z",
     "start_time": "2025-06-24T12:22:00.837485Z"
    }
   },
   "cell_type": "code",
   "source": "# res.show(title='', saveto_path=r'C:\\temp\\MMF_sim')",
   "id": "e6aea6c92e365ff9",
   "outputs": [],
   "execution_count": 32
  },
  {
   "metadata": {
    "ExecuteTime": {
     "end_time": "2025-06-24T12:34:55.080884Z",
     "start_time": "2025-06-24T12:34:54.728208Z"
    }
   },
   "cell_type": "code",
   "source": [
    "\n",
    "\n",
    "plt.show()"
   ],
   "id": "6c4cd978c8c4b4cd",
   "outputs": [],
   "execution_count": 60
  }
 ],
 "metadata": {
  "kernelspec": {
   "display_name": "Python 3",
   "language": "python",
   "name": "python3"
  },
  "language_info": {
   "codemirror_mode": {
    "name": "ipython",
    "version": 2
   },
   "file_extension": ".py",
   "mimetype": "text/x-python",
   "name": "python",
   "nbconvert_exporter": "python",
   "pygments_lexer": "ipython2",
   "version": "2.7.6"
  }
 },
 "nbformat": 4,
 "nbformat_minor": 5
}
