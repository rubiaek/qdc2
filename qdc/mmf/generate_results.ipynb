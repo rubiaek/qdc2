{
 "cells": [
  {
   "metadata": {
    "ExecuteTime": {
     "end_time": "2025-06-23T06:38:54.264820Z",
     "start_time": "2025-06-23T06:38:47.513330Z"
    }
   },
   "cell_type": "code",
   "source": [
    "%load_ext autoreload\n",
    "%autoreload 2\n",
    "\n",
    "from qdc.mmf.many_wl_fiber import ManyWavelengthFiber\n",
    "from qdc.mmf.qdc_experiment import QDCExperiment\n",
    "from qdc.misc import tnow\n",
    "import os \n",
    "DATA_DIR = os.path.join(os.path.abspath(os.path.curdir), 'data')"
   ],
   "id": "f34f8caf458a5275",
   "outputs": [
    {
     "name": "stdout",
     "output_type": "stream",
     "text": [
      "The autoreload extension is already loaded. To reload it, use:\n",
      "  %reload_ext autoreload\n"
     ]
    }
   ],
   "execution_count": 1
  },
  {
   "metadata": {
    "ExecuteTime": {
     "end_time": "2025-06-23T07:02:01.848926Z",
     "start_time": "2025-06-23T07:00:41.185666Z"
    }
   },
   "cell_type": "code",
   "source": [
    "# Construct the multi-wavelength fiber set\n",
    "fiber_L = 0.25e6  # um \n",
    "N_wl = 81\n",
    "N_classical = 5\n",
    "N_klyshkos = 5\n",
    "wl0 = 0.810\n",
    "Dwl = 0.080\n",
    "# dzs = [0, 20, 80]\n",
    "dzs = [0]\n",
    "\n",
    "s = ManyWavelengthFiber(wl0=wl0, Dwl=Dwl, N_wl=N_wl, fiber_L=fiber_L, rng_seed=5555)\n",
    "\n",
    "# Construct the experiment with that ManyWavelengthFiber\n",
    "exp = QDCExperiment(s)\n",
    "\n",
    "# Now run a multi-dz test, returning a QDCResult\n",
    "res = exp.run_PCCs_different_dz(dzs=dzs, N_classical=N_classical, N_klyshko=N_klyshkos)\n",
    "\n",
    "# Plot the result\n",
    "res.show(title=\"\")\n",
    "\n",
    "saveto_path = rf'{DATA_DIR}\\\\{tnow()}.npz'\n",
    "# Optionally save the result to disk\n",
    "res.saveto(saveto_path)"
   ],
   "id": "a480d973aacae8e3",
   "outputs": [
    {
     "name": "stdout",
     "output_type": "stream",
     "text": [
      "Getting 81 fibers...\n"
     ]
    },
    {
     "name": "stderr",
     "output_type": "stream",
     "text": [
      "81it [00:07, 10.78it/s]\n"
     ]
    },
    {
     "name": "stdout",
     "output_type": "stream",
     "text": [
      "Got fibers!\n",
      "Getting classical with average on 5 ...\n"
     ]
    },
    {
     "name": "stderr",
     "output_type": "stream",
     "text": [
      "100%|██████████| 5/5 [00:36<00:00,  7.21s/it]\n"
     ]
    },
    {
     "name": "stdout",
     "output_type": "stream",
     "text": [
      "Getting Klyshko with average on 5, dz=0 ...\n"
     ]
    },
    {
     "name": "stderr",
     "output_type": "stream",
     "text": [
      "100%|██████████| 5/5 [00:36<00:00,  7.22s/it]\n"
     ]
    }
   ],
   "execution_count": 14
  },
  {
   "metadata": {
    "ExecuteTime": {
     "end_time": "2025-06-23T11:51:44.368115Z",
     "start_time": "2025-06-23T11:51:43.935372Z"
    }
   },
   "cell_type": "code",
   "source": "res.show(title='', saveto_path=r'C:\\temp\\MMF_sim')",
   "id": "e6aea6c92e365ff9",
   "outputs": [],
   "execution_count": 20
  }
 ],
 "metadata": {
  "kernelspec": {
   "display_name": "Python 3",
   "language": "python",
   "name": "python3"
  },
  "language_info": {
   "codemirror_mode": {
    "name": "ipython",
    "version": 2
   },
   "file_extension": ".py",
   "mimetype": "text/x-python",
   "name": "python",
   "nbconvert_exporter": "python",
   "pygments_lexer": "ipython2",
   "version": "2.7.6"
  }
 },
 "nbformat": 4,
 "nbformat_minor": 5
}
