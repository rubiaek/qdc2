{
 "cells": [
  {
   "metadata": {
    "ExecuteTime": {
     "end_time": "2025-06-24T11:01:51.042107Z",
     "start_time": "2025-06-24T11:01:44.450787Z"
    }
   },
   "cell_type": "code",
   "source": [
    "%load_ext autoreload\n",
    "%autoreload 2\n",
    "\n",
    "from qdc.mmf.many_wl_fiber import ManyWavelengthFiber\n",
    "from qdc.mmf.qdc_experiment import QDCExperiment\n",
    "from qdc.misc import tnow\n",
    "import os \n",
    "DATA_DIR = os.path.join(os.path.abspath(os.path.curdir), 'data')"
   ],
   "id": "f34f8caf458a5275",
   "outputs": [
    {
     "name": "stdout",
     "output_type": "stream",
     "text": [
      "The autoreload extension is already loaded. To reload it, use:\n",
      "  %reload_ext autoreload\n"
     ]
    }
   ],
   "execution_count": 1
  },
  {
   "metadata": {
    "ExecuteTime": {
     "end_time": "2025-06-24T11:09:51.973368Z",
     "start_time": "2025-06-24T11:09:26.904079Z"
    }
   },
   "cell_type": "code",
   "source": [
    "# Construct the multi-wavelength fiber set\n",
    "fiber_L = 0.5e6  # um \n",
    "N_wl = 81\n",
    "N_classical = 1\n",
    "N_klyshkos = 1\n",
    "wl0 = 0.810\n",
    "Dwl = 0.080\n",
    "# dzs = [0, 20, 80]\n",
    "dzs = [0]\n",
    "\n",
    "s = ManyWavelengthFiber(wl0=wl0, Dwl=Dwl, N_wl=N_wl, fiber_L=fiber_L, rng_seed=5555)\n",
    "\n",
    "exp = QDCExperiment(s)\n",
    "res = exp.run_PCCs_different_dz(dzs=dzs, N_classical=N_classical, N_klyshko=N_klyshkos)\n",
    "\n",
    "saveto_path = rf'{DATA_DIR}\\\\{tnow()}.npz'\n",
    "res.saveto(saveto_path)"
   ],
   "id": "a480d973aacae8e3",
   "outputs": [
    {
     "name": "stdout",
     "output_type": "stream",
     "text": [
      "Getting 81 fibers...\n"
     ]
    },
    {
     "name": "stderr",
     "output_type": "stream",
     "text": [
      "81it [00:08, 10.12it/s]\n"
     ]
    },
    {
     "name": "stdout",
     "output_type": "stream",
     "text": [
      "Got fibers!\n",
      "Getting classical with average on 1 ...\n"
     ]
    },
    {
     "name": "stderr",
     "output_type": "stream",
     "text": [
      "100%|██████████| 1/1 [00:08<00:00,  8.36s/it]\n"
     ]
    },
    {
     "name": "stdout",
     "output_type": "stream",
     "text": [
      "Getting Klyshko with average on 1, dz=0 ...\n"
     ]
    },
    {
     "name": "stderr",
     "output_type": "stream",
     "text": [
      "100%|██████████| 1/1 [00:07<00:00,  7.66s/it]\n"
     ]
    }
   ],
   "execution_count": 15
  },
  {
   "metadata": {
    "ExecuteTime": {
     "end_time": "2025-06-24T11:09:58.659142Z",
     "start_time": "2025-06-24T11:09:58.388926Z"
    }
   },
   "cell_type": "code",
   "source": [
    "# res.show(title='', saveto_path=r'C:\\temp\\MMF_sim')\n",
    "res.show(title='')\n",
    "res.show_incoherent_sum()"
   ],
   "id": "e6aea6c92e365ff9",
   "outputs": [],
   "execution_count": 16
  }
 ],
 "metadata": {
  "kernelspec": {
   "display_name": "Python 3",
   "language": "python",
   "name": "python3"
  },
  "language_info": {
   "codemirror_mode": {
    "name": "ipython",
    "version": 2
   },
   "file_extension": ".py",
   "mimetype": "text/x-python",
   "name": "python",
   "nbconvert_exporter": "python",
   "pygments_lexer": "ipython2",
   "version": "2.7.6"
  }
 },
 "nbformat": 4,
 "nbformat_minor": 5
}
