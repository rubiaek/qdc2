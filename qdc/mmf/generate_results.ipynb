{
 "cells": [
  {
   "cell_type": "code",
   "execution_count": null,
   "id": "f34f8caf458a5275",
   "metadata": {
    "ExecuteTime": {
     "end_time": "2025-06-24T14:04:19.989699Z",
     "start_time": "2025-06-24T14:04:17.165726Z"
    }
   },
   "outputs": [
    {
     "name": "stdout",
     "output_type": "stream",
     "text": [
      "The autoreload extension is already loaded. To reload it, use:\n",
      "  %reload_ext autoreload\n"
     ]
    }
   ],
   "source": [
    "%load_ext autoreload\n",
    "%autoreload 2\n",
    "# %matplotlib ipympl\n",
    "import sys\n",
    "sys.path.append('C:\\code\\qdc2')\n",
    "import matplotlib.pyplot as plt \n",
    "import os \n",
    "import numpy as np \n",
    "from qdc.mmf.many_wl_fiber import ManyWavelengthFiber\n",
    "from qdc.mmf.qdc_experiment import QDCMMFExperiment\n",
    "from qdc.misc import tnow\n",
    "DATA_DIR = os.path.join(os.path.abspath(os.path.curdir), 'data')"
   ]
  },
  {
   "cell_type": "code",
   "execution_count": 140,
   "id": "a480d973aacae8e3",
   "metadata": {
    "ExecuteTime": {
     "end_time": "2025-06-24T14:07:27.146730Z",
     "start_time": "2025-06-24T14:06:18.322158Z"
    }
   },
   "outputs": [
    {
     "name": "stdout",
     "output_type": "stream",
     "text": [
      "Getting 21 fibers...\n"
     ]
    },
    {
     "name": "stderr",
     "output_type": "stream",
     "text": [
      "21it [00:01, 14.04it/s]\n"
     ]
    },
    {
     "name": "stdout",
     "output_type": "stream",
     "text": [
      "Got fibers!\n",
      "Getting classical with average on 5 ...\n"
     ]
    },
    {
     "name": "stderr",
     "output_type": "stream",
     "text": [
      "Running classical measurements: 100%|██████████| 5/5 [00:08<00:00,  1.63s/it]\n"
     ]
    },
    {
     "name": "stdout",
     "output_type": "stream",
     "text": [
      "Getting SPDC with average on 5, dz=0 ...\n"
     ]
    },
    {
     "name": "stderr",
     "output_type": "stream",
     "text": [
      "Running SPDC measurements: 100%|██████████| 5/5 [00:16<00:00,  3.31s/it]\n"
     ]
    }
   ],
   "source": [
    "is_step_index = False\n",
    "fiber_L = 0.1e6  if is_step_index else 0.5e6 # um \n",
    "N_wl = 21\n",
    "N_classical = 5\n",
    "N_SPDC = 5\n",
    "wl0 = 0.810\n",
    "Dwl = 0.020 if is_step_index else 0.080\n",
    "# dzs = [80, 20, 0]\n",
    "dzs = [0]\n",
    "\n",
    "s = ManyWavelengthFiber(wl0=wl0, Dwl=Dwl, N_wl=N_wl, fiber_L=fiber_L, rng_seed=5555, is_step_index=is_step_index)\n",
    "s.gaussian_params = np.array([8, 6, 6, 0.25, 0.25])\n",
    "s.gaussian_dparams = np.array([0, 4, 4, 0.1, 0.1])\n",
    "\n",
    "exp = QDCMMFExperiment(s)\n",
    "res = exp.run_PCCs_different_dz(dzs=dzs, N_classical=N_classical, N_SPDC=N_SPDC)\n",
    "# res.show(title='')\n",
    "# res.show_incoherent_sum()\n",
    "\n",
    "f_type = 'SI' if is_step_index else 'GRIN'\n",
    "saveto_path = rf'{DATA_DIR}\\\\{tnow()}_{f_type}_{round(fiber_L*1e-6, 2)}m.npz'\n",
    "res.saveto(saveto_path)"
   ]
  },
  {
   "cell_type": "code",
   "execution_count": null,
   "id": "b1af32b7352bd2ff",
   "metadata": {
    "ExecuteTime": {
     "end_time": "2025-06-24T14:08:51.383077Z",
     "start_time": "2025-06-24T14:08:51.103646Z"
    }
   },
   "outputs": [],
   "source": [
    "iter_no = 4\n",
    "dz = 0\n",
    "print(res.metadata[\"g_params_list\"][iter_no or 0])\n",
    "res.show(title='', iter_no=iter_no)\n",
    "res.show_incoherent_sum(iter_no=iter_no, dz=dz)"
   ]
  },
  {
   "cell_type": "code",
   "execution_count": 52,
   "id": "cc39eadfa279889e",
   "metadata": {
    "ExecuteTime": {
     "end_time": "2025-06-24T13:03:02.112318Z",
     "start_time": "2025-06-24T13:03:01.744696Z"
    }
   },
   "outputs": [],
   "source": [
    "f = s.fibers[0]\n",
    "f.set_input_gaussian(sigma=8, X0=3, Y0=8, X_linphase=0.3, Y_linphase=0.3, random_phase=0.0)\n",
    "f.propagate(False)\n",
    "\n",
    "fig, axes = plt.subplot_mosaic(\n",
    "    [[\"left\", \"right\"],\n",
    "     [\"bottom\", \"bottom\"]],\n",
    "    figsize=(9, 6)\n",
    ")\n",
    "\n",
    "from matplotlib import patches\n",
    "# make circle centered in the middle of the plot\n",
    "circle = patches.Circle((f.npoints//2, f.npoints//2), 25/f.index_profile.dh, color='red', fill=False, linestyle='dashed')\n",
    "axes[\"left\"].add_patch(circle)\n",
    "f.show_profile(f.profile_0,   ax=axes[\"left\"],   title='input')\n",
    "f.show_profile(f.profile_end, ax=axes[\"right\"],  title='output')\n",
    "axes[\"bottom\"].plot(np.abs(f.modes_0)**2)\n",
    "plt.tight_layout()\n",
    "fig.show()\n"
   ]
  },
  {
   "cell_type": "code",
   "execution_count": 36,
   "id": "4051ab83",
   "metadata": {},
   "outputs": [],
   "source": [
    "f.show_mode(20)"
   ]
  },
  {
   "cell_type": "code",
   "execution_count": 6,
   "id": "6c4cd978c8c4b4cd",
   "metadata": {
    "ExecuteTime": {
     "end_time": "2025-06-24T13:47:41.195827Z",
     "start_time": "2025-06-24T13:47:30.540722Z"
    }
   },
   "outputs": [
    {
     "name": "stdout",
     "output_type": "stream",
     "text": [
      "Getting 81 fibers...\n"
     ]
    },
    {
     "name": "stderr",
     "output_type": "stream",
     "text": [
      "81it [00:10,  8.05it/s]\n"
     ]
    },
    {
     "name": "stdout",
     "output_type": "stream",
     "text": [
      "Got fibers!\n"
     ]
    }
   ],
   "source": [
    "s = ManyWavelengthFiber(wl0=wl0, Dwl=Dwl, N_wl=N_wl, fiber_L=fiber_L, rng_seed=5555, is_step_index=is_step_index)"
   ]
  }
 ],
 "metadata": {
  "kernelspec": {
   "display_name": "Python 3",
   "language": "python",
   "name": "python3"
  },
  "language_info": {
   "codemirror_mode": {
    "name": "ipython",
    "version": 3
   },
   "file_extension": ".py",
   "mimetype": "text/x-python",
   "name": "python",
   "nbconvert_exporter": "python",
   "pygments_lexer": "ipython3",
   "version": "3.10.0"
  }
 },
 "nbformat": 4,
 "nbformat_minor": 5
}
