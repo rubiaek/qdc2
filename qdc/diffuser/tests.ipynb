{
 "cells": [
  {
   "cell_type": "code",
   "id": "initial_id",
   "metadata": {
    "collapsed": true,
    "ExecuteTime": {
     "end_time": "2025-02-18T12:36:39.898905Z",
     "start_time": "2025-02-18T12:36:36.177267Z"
    }
   },
   "source": [
    "import numpy as np\n",
    "import matplotlib.pyplot as plt\n",
    "\n",
    "from qdc.diffuser.diffuser_sim import DiffuserSimulation, Field\n",
    "from qdc.diffuser.utils import propagate_free_space\n",
    "from qdc.diffuser.diffuser_generator import phase_screen_diff_rfft, phase_screen_diff, phase_screen_diff_rfft\n",
    "from qdc.diffuser.diffuser_result import DiffuserResult\n",
    "\n",
    "plt.close('all')\n",
    "show_all = False\n",
    "\n",
    "sim = DiffuserSimulation(\n",
    "    Nx=2048, Ny=2048,\n",
    "    Lx=8e-3, Ly=8e-3,\n",
    "    wl0=808e-9,\n",
    "    Dwl=300e-9,\n",
    "    N_wl=11,\n",
    "    waist=40e-6,\n",
    "    focal_length=200e-3,\n",
    "    init_off_axis=0.,\n",
    "    diffuser_angle=0.00006,  # for wrapped \n",
    "    # diffuser_angle=0.05 * 2*np.pi/360,\n",
    "    rms_height=5, \n",
    "    diffuser_type='wrapped'\n",
    ")\n",
    "\n",
    "print('Prepared simmulation')\n",
    "# detector plane \n",
    "field_det = sim.make_detection_gaussian(sim.wl0)\n",
    "if show_all or False:\n",
    "    field_det.show(title=\"Initial Gaussian at Detection Plane (center WL)\")\n",
    "print(f'{(np.abs(field_det.E) ** 2).sum()=}')\n",
    "\n",
    "\n",
    "# crystal plane \n",
    "field_lens = propagate_free_space(field_det, sim.f)\n",
    "field_lens.E *= sim.get_lens_mask(sim.f, sim.wl0)\n",
    "field_crystal = propagate_free_space(field_lens, sim.f)\n",
    "\n",
    "if show_all or False:\n",
    "    fig, ax = plt.subplots()\n",
    "    pcm = ax.imshow(np.angle(sim.get_lens_mask(sim.f, sim.wl0)), extent=[sim.x[0]*1e3, sim.x[-1]*1e3, sim.y[0]*1e3, sim.y[-1]*1e3],\n",
    "                    cmap='viridis', origin='lower')\n",
    "    fig.colorbar(pcm, ax=ax, label='Phase [rad]')\n",
    "    ax.set_title(\"Lens Phase (lam_center)\")\n",
    "    ax.set_xlabel(\"x [mm]\")\n",
    "    ax.set_ylabel(\"y [mm]\")\n",
    "    fig.show()\n",
    "\n",
    "\n",
    "if show_all or True:\n",
    "    field_crystal.show(title=f\"Field Intensity at Crystal Plane f={sim.f}\")\n",
    "\n",
    "# diffuser \n",
    "field_crystal.E *= np.exp(1j * sim.diffuser_mask)\n",
    "# here \"switch wl\", but degenerate\n",
    "field_crystal.E *= np.exp(1j * sim.diffuser_mask)\n",
    "\n",
    "if show_all or False:\n",
    "    fig, ax = plt.subplots()\n",
    "    pcm = ax.imshow(sim.diffuser_mask, extent=[sim.x[0]*1e3, sim.x[-1]*1e3, sim.y[0]*1e3, sim.y[-1]*1e3],\n",
    "                    cmap='viridis', origin='lower')\n",
    "    fig.colorbar(pcm, ax=ax, label='Phase [rad]')\n",
    "    ax.set_title(\"Single Diffuser Phase (lam_center)\")\n",
    "    ax.set_xlabel(\"x [mm]\")\n",
    "    ax.set_ylabel(\"y [mm]\")\n",
    "    fig.show()\n",
    "\n",
    "# k-space of field after diffuser \n",
    "from qdc.diffuser.utils import ft2\n",
    "G, f_x, f_y = ft2(field_crystal.E, field_crystal.x, field_crystal.y)\n",
    "Ik = np.abs(G)**2\n",
    "if show_all or False:\n",
    "    fig, ax = plt.subplots()\n",
    "    im = ax.imshow(Ik, origin='lower', cmap='viridis')\n",
    "    fig.colorbar(im, ax=ax, label='|G(kx,ky)|^2')\n",
    "    ax.set_title(\"k-space amplitude after diffuser\")\n",
    "    ax.set_xlabel(\"freq_x [index]\")\n",
    "    ax.set_ylabel(\"freq_y [index]\")\n",
    "    fig.show()\n",
    "\n",
    "# final \n",
    "field_lens2 = propagate_free_space(field_crystal, sim.f)\n",
    "field_lens2.E *= sim.get_lens_mask(sim.f, sim.wl0)\n",
    "if show_all or True:\n",
    "    field_lens2.show(title=f\"Speckle at lens2\")\n",
    "\n",
    "field_det_new = propagate_free_space(field_lens2, sim.f)\n",
    "\n",
    "if show_all or True:\n",
    "    field_det_new.show(title=f\"Speckle at Detection (WL={field_det_new.wl*1e9:.1f}nm)\")\n",
    "\n",
    "# twilight, inferno, viridis "
   ],
   "execution_count": 2,
   "outputs": []
  },
  {
   "metadata": {
    "ExecuteTime": {
     "end_time": "2025-02-18T12:40:11.045792Z",
     "start_time": "2025-02-18T12:40:09.848152Z"
    }
   },
   "cell_type": "code",
   "source": [
    "sim = DiffuserSimulation(\n",
    "    Nx=2048, Ny=2048,\n",
    "    Lx=8e-3, Ly=8e-3,\n",
    "    wl0=808e-9,\n",
    "    Dwl=300e-9,\n",
    "    N_wl=11,\n",
    "    waist=40e-6,\n",
    "    focal_length=200e-3,\n",
    "    init_off_axis=0.,\n",
    "    diffuser_angle=0.00006,  # for wrapped \n",
    "    # diffuser_angle=0.05 * 2*np.pi/360,\n",
    "    rms_height=5, \n",
    "    diffuser_type='wrapped'\n",
    ")\n",
    "\n",
    "print('Prepared simmulation')\n",
    "# detector plane \n",
    "field_det = sim.make_detection_gaussian(sim.wl0)\n",
    "\n",
    "# crystal plane \n",
    "field_lens = propagate_free_space(field_det, sim.f, fast=True)\n",
    "field_lens.show()"
   ],
   "id": "90d8dbd98bff26e4",
   "execution_count": 5,
   "outputs": []
  },
  {
   "metadata": {
    "ExecuteTime": {
     "end_time": "2025-02-10T11:38:02.269609Z",
     "start_time": "2025-02-10T11:37:52.302190Z"
    }
   },
   "cell_type": "code",
   "source": [
    "# -------------\n",
    "# 7) Full Incoherent Sum Over All Wavelengths\n",
    "# -------------\n",
    "delta_lambdas, fields = sim.run_SPDC_simulation()  # uses the single diffuser approach inside\n",
    "res = DiffuserResult()\n",
    "if show_all or False:\n",
    "    fig, ax = plt.subplots()\n",
    "    im = ax.imshow(I_sum, origin='lower',\n",
    "                   extent=[sim.x[0]*1e3, sim.x[-1]*1e3, sim.y[0]*1e3, sim.y[-1]*1e3],\n",
    "                   cmap='viridis')\n",
    "    fig.colorbar(im, ax=ax, label='Intensity')\n",
    "    ax.set_title(\"Incoherent Sum of Speckle (All WLs)\")\n",
    "    ax.set_xlabel(\"x [mm]\")\n",
    "    ax.set_ylabel(\"y [mm]\")\n",
    "    fig.show()\n",
    "\n",
    "print(\"Final result:\", res)\n",
    "# print(\"Contrast (full frame):\", res.compute_contrast())"
   ],
   "id": "73aa2424e96aec84",
   "execution_count": 35,
   "outputs": []
  },
  {
   "metadata": {
    "ExecuteTime": {
     "end_time": "2025-02-10T11:38:59.797428Z",
     "start_time": "2025-02-10T11:38:59.591131Z"
    }
   },
   "cell_type": "code",
   "source": "fields[1].show()",
   "id": "43b713c1da24122c",
   "execution_count": 38,
   "outputs": []
  },
  {
   "metadata": {
    "ExecuteTime": {
     "end_time": "2025-02-10T11:37:48.888247Z",
     "start_time": "2025-02-10T11:37:48.745792Z"
    }
   },
   "cell_type": "code",
   "source": [
    "np.diff(np.array(delta_lambdas))\n",
    "np.array(delta_lambdas)"
   ],
   "id": "90874eafccc46f42",
   "execution_count": 34,
   "outputs": []
  }
 ],
 "metadata": {
  "kernelspec": {
   "display_name": "Python 3",
   "language": "python",
   "name": "python3"
  },
  "language_info": {
   "codemirror_mode": {
    "name": "ipython",
    "version": 2
   },
   "file_extension": ".py",
   "mimetype": "text/x-python",
   "name": "python",
   "nbconvert_exporter": "python",
   "pygments_lexer": "ipython2",
   "version": "2.7.6"
  }
 },
 "nbformat": 4,
 "nbformat_minor": 5
}
