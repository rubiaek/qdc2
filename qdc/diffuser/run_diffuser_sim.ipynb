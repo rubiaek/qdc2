{
 "cells": [
  {
   "cell_type": "code",
   "id": "initial_id",
   "metadata": {
    "collapsed": true,
    "ExecuteTime": {
     "end_time": "2025-02-23T14:24:49.384052Z",
     "start_time": "2025-02-23T14:24:20.324071Z"
    }
   },
   "source": [
    "from matplotlib import pyplot as plt\n",
    "\n",
    "from qdc.diffuser.diffuser_result import DiffuserResult\n",
    "from qdc.diffuser.diffuser_sim import DiffuserSimulation\n",
    "import numpy as np \n",
    "\n",
    "show_all = False\n",
    "\n",
    "sim = DiffuserSimulation(\n",
    "    Nx=2048, Ny=2048,\n",
    "    Lx=8e-3, Ly=8e-3,\n",
    "    wl0=808e-9,\n",
    "    Dwl=300e-9,\n",
    "    N_wl=11,\n",
    "    waist=40e-6,\n",
    "    focal_length=200e-3,\n",
    "    init_off_axis=0.,\n",
    "    # diffuser_angle=0.0001,  # for wrapped \n",
    "    # rms_height=7,   # for wrapped \n",
    "    diffuser_angle=0.05 * 2*np.pi/360,\n",
    "    rms_height=5, \n",
    "    diffuser_type='ohad',  # \"ohad\", \"rfft\", \"wrapped\", \n",
    "    # pinholes=[0.5, 0.5, 0.5], # units of focal length, relative distances \n",
    "    pinholes=[], # units of focal length, relative distances \n",
    "    pinhole_D=4e-3\n",
    ")\n",
    "\n",
    "res = sim.run_SPDC_simulation()\n",
    "res = sim.run_classical_simulation()"
   ],
   "outputs": [],
   "execution_count": 1
  },
  {
   "metadata": {
    "ExecuteTime": {
     "end_time": "2025-02-23T15:18:51.023609Z",
     "start_time": "2025-02-23T15:18:50.737234Z"
    }
   },
   "cell_type": "code",
   "source": [
    "# res.show_diffuser()\n",
    "res.show()"
   ],
   "id": "3d611b56135f8339",
   "outputs": [],
   "execution_count": 12
  },
  {
   "metadata": {
    "ExecuteTime": {
     "end_time": "2025-02-23T14:33:56.769836Z",
     "start_time": "2025-02-23T14:33:56.440716Z"
    }
   },
   "cell_type": "code",
   "source": [
    "res.show_incoherent_sum_SPDC()\n",
    "res.show_incoherent_sum_classical()"
   ],
   "id": "870d4c07d430e080",
   "outputs": [],
   "execution_count": 5
  },
  {
   "metadata": {
    "ExecuteTime": {
     "end_time": "2025-02-23T15:18:49.556462Z",
     "start_time": "2025-02-23T15:18:47.982494Z"
    }
   },
   "cell_type": "code",
   "source": [
    "mid = res.Nx // 2 \n",
    "D = 40\n",
    "res._populate_res_SPDC(roi=np.index_exp[mid-D:mid+D, mid-D:mid+D])\n",
    "res._populate_res_classical(roi=np.index_exp[mid-D:mid+D, mid-D:mid+D])"
   ],
   "id": "bf30d210594e1b07",
   "outputs": [],
   "execution_count": 11
  },
  {
   "metadata": {
    "ExecuteTime": {
     "end_time": "2025-02-18T11:43:58.793301Z",
     "start_time": "2025-02-18T11:43:58.241362Z"
    }
   },
   "cell_type": "code",
   "source": [
    "sim.pinhole_D = 4e-3\n",
    "im = np.angle(sim.get_lens_mask(f=200e-3, wl=808e-9))\n",
    "im_pinhole = sim.get_pinhole_mask()\n",
    "fig, ax = plt.subplots()\n",
    "imm = ax.imshow(im * im_pinhole)\n",
    "fig.colorbar(imm, ax=ax)\n",
    "fig.show()"
   ],
   "id": "bb2b0b83011fd523",
   "outputs": [],
   "execution_count": 17
  },
  {
   "metadata": {
    "ExecuteTime": {
     "end_time": "2025-02-11T09:59:40.116462Z",
     "start_time": "2025-02-11T09:59:39.260257Z"
    }
   },
   "cell_type": "code",
   "source": [
    "res.plot_SPDC_PCCs()\n",
    "res.show_incoherent_sum_SPDC()"
   ],
   "id": "d1c7128a094ed50",
   "outputs": [],
   "execution_count": 143
  },
  {
   "metadata": {
    "ExecuteTime": {
     "end_time": "2025-02-11T09:59:40.624504Z",
     "start_time": "2025-02-11T09:59:40.343227Z"
    }
   },
   "cell_type": "code",
   "source": [
    "res.plot_SPDC_classical()\n",
    "res.show_incoherent_sum_classical()"
   ],
   "id": "888c77298b3a2df4",
   "outputs": [],
   "execution_count": 144
  },
  {
   "metadata": {
    "ExecuteTime": {
     "end_time": "2025-02-11T09:14:21.037691Z",
     "start_time": "2025-02-11T09:14:19.436341Z"
    }
   },
   "cell_type": "code",
   "source": "res.saveto(\"C:\\\\temp\\\\diff3_E.spdc\")",
   "id": "f711e7f828fef8e7",
   "outputs": [],
   "execution_count": 111
  },
  {
   "metadata": {
    "ExecuteTime": {
     "end_time": "2025-02-11T08:14:18.341913Z",
     "start_time": "2025-02-11T08:14:17.727825Z"
    }
   },
   "cell_type": "code",
   "source": "sim.make_detection_gaussian(sim.wl0).show()",
   "id": "4f755d7fa37b1368",
   "outputs": [
    {
     "data": {
      "text/plain": [
       "(<Figure size 640x480 with 2 Axes>,\n",
       " <AxesSubplot: title={'center': 'Intensity (λ=808.0 nm)'}, xlabel='x [µm]', ylabel='y [µm]'>)"
      ]
     },
     "execution_count": 73,
     "metadata": {},
     "output_type": "execute_result"
    }
   ],
   "execution_count": 73
  },
  {
   "metadata": {
    "ExecuteTime": {
     "end_time": "2025-02-11T09:14:22.556425Z",
     "start_time": "2025-02-11T09:14:22.375708Z"
    }
   },
   "cell_type": "code",
   "source": [
    "res2 = DiffuserResult()\n",
    "res2.loadfrom(r\"C:\\temp\\diff3_E.spdc.npz\")"
   ],
   "id": "2c9a28b8bdd0ccd1",
   "outputs": [],
   "execution_count": 112
  },
  {
   "metadata": {
    "ExecuteTime": {
     "end_time": "2025-02-11T09:37:06.349482Z",
     "start_time": "2025-02-11T09:37:05.009910Z"
    }
   },
   "cell_type": "code",
   "source": [
    "for var_name in res2.__dict__:\n",
    "    arr = res2.__dict__[var_name]\n",
    "    if arr is None:\n",
    "        continue\n",
    "    print(f\"{var_name}: {arr.nbytes*1e-6} mega bytes in memory\")"
   ],
   "id": "49fdb6bd9d27beb3",
   "outputs": [
    {
     "name": "stdout",
     "output_type": "stream",
     "text": [
      "_SPDC_fields_wl: 8.8e-05 mega bytes in memory\n",
      "SPDC_delta_lambdas: 8.8e-05 mega bytes in memory\n",
      "wavelengths: 0.000168 mega bytes in memory\n",
      "SPDC_PCCs: 8.8e-05 mega bytes in memory\n",
      "SPDC_incoherent_sum: 16.777216 mega bytes in memory\n",
      "Nx: 4e-06 mega bytes in memory\n",
      "Ny: 4e-06 mega bytes in memory\n",
      "x: 0.016384 mega bytes in memory\n",
      "y: 0.016384 mega bytes in memory\n",
      "wl0: 8e-06 mega bytes in memory\n",
      "Dwl: 8e-06 mega bytes in memory\n",
      "N_wl: 4e-06 mega bytes in memory\n",
      "waist: 8e-06 mega bytes in memory\n",
      "f: 8e-06 mega bytes in memory\n",
      "init_off_axis: 8e-06 mega bytes in memory\n",
      "diffuser_angle: 8e-06 mega bytes in memory\n",
      "diffuser_mask: 33.554432 mega bytes in memory\n",
      "achromat_lens: 1e-06 mega bytes in memory\n"
     ]
    }
   ],
   "execution_count": 119
  }
 ],
 "metadata": {
  "kernelspec": {
   "display_name": "Python 3",
   "language": "python",
   "name": "python3"
  },
  "language_info": {
   "codemirror_mode": {
    "name": "ipython",
    "version": 2
   },
   "file_extension": ".py",
   "mimetype": "text/x-python",
   "name": "python",
   "nbconvert_exporter": "python",
   "pygments_lexer": "ipython2",
   "version": "2.7.6"
  }
 },
 "nbformat": 4,
 "nbformat_minor": 5
}
