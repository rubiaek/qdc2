{
 "cells": [
  {
   "cell_type": "code",
   "execution_count": 1,
   "id": "d385f0102ad28be2",
   "metadata": {
    "ExecuteTime": {
     "end_time": "2025-05-27T12:34:58.602742Z",
     "start_time": "2025-05-27T12:34:58.520934Z"
    }
   },
   "outputs": [
    {
     "name": "stdout",
     "output_type": "stream",
     "text": [
      "The IPython.extensions.autoreload extension is already loaded. To reload it, use:\n",
      "  %reload_ext IPython.extensions.autoreload\n"
     ]
    }
   ],
   "source": [
    "%load_ext IPython.extensions.autoreload\n",
    "%autoreload 2\n",
    "%matplotlib ipympl\n",
    "import sys\n",
    "sys.path.append('C:\\code\\qdc2')\n",
    "import matplotlib\n",
    "matplotlib.use('TKAgg')"
   ]
  },
  {
   "cell_type": "code",
   "execution_count": 2,
   "id": "initial_id",
   "metadata": {
    "ExecuteTime": {
     "end_time": "2025-05-27T12:36:07.959291Z",
     "start_time": "2025-05-27T12:35:47.775663Z"
    }
   },
   "outputs": [
    {
     "name": "stdout",
     "output_type": "stream",
     "text": [
      "Populating SPDC\n",
      "Populating classical\n"
     ]
    }
   ],
   "source": [
    "from matplotlib import pyplot as plt\n",
    "\n",
    "from qdc.diffuser.diffuser_result import DiffuserResult\n",
    "from qdc.diffuser.diffuser_sim import DiffuserSimulation\n",
    "import numpy as np \n",
    "\n",
    "show_all = False\n",
    "\n",
    "ress = []\n",
    "for i in range(30):\n",
    "    N2pi = 40\n",
    "    rms_height = 2*np.pi * N2pi\n",
    "    N_wl = 41 \n",
    "    diffuser_angle = 3 * 2*np.pi/360 \n",
    "    with_dispersion = True\n",
    "    \n",
    "    sim = DiffuserSimulation(\n",
    "        Nx=1024, Ny=1024,\n",
    "        Lx=8e-3, Ly=8e-3,\n",
    "        wl0=808e-9,\n",
    "        Dwl=80e-9,\n",
    "        N_wl=N_wl,  \n",
    "        waist=40e-6,\n",
    "        focal_length=200e-3,\n",
    "        init_off_axis=0.,\n",
    "        diffuser_angle=diffuser_angle,\n",
    "        rms_height=rms_height, \n",
    "        with_dispersion=with_dispersion\n",
    "    )\n",
    "    \n",
    "    res = sim.run_SPDC_simulation(populate_res=True)\n",
    "    res = sim.run_classical_simulation(populate_res=True)\n",
    "    ress.append(res)\n",
    "# res.show()\n",
    "# plt.show(block=True)"
   ]
  },
  {
   "cell_type": "code",
   "execution_count": 13,
   "id": "7c63435f",
   "metadata": {},
   "outputs": [],
   "source": [
    "SPDC_PCCs = np.array([res.SPDC_PCCs for res in ress]).mean(axis=0)  \n",
    "classical_PCCs = np.array([res.classical_PCCs for res in ress]).mean(axis=0)\n",
    "\n",
    "fig, ax = plt.subplots(figsize=(10, 5))\n",
    "ax.plot(ress[0].SPDC_delta_lambdas*1e9, SPDC_PCCs, '-', label='SPDC')\n",
    "ax.plot(ress[0].classical_delta_lambdas*1e9, classical_PCCs, '-', label='Classical', color='#8c564b')\n",
    "ax.set_xlabel('$\\Delta\\lambda$ [nm]', fontsize=16)\n",
    "ax.set_ylabel('PCC', fontsize=16)\n",
    "ax.legend(loc='center right', fontsize=16)\n",
    "fig.show()\n",
    "fig.savefig(r'G:\\My Drive\\Projects\\Dispersion Cancelation\\Paper\\Partial Figures\\diffuser_PCCs.png')\n",
    "plt.show(block=True)"
   ]
  },
  {
   "cell_type": "code",
   "execution_count": null,
   "id": "c32cdf23",
   "metadata": {},
   "outputs": [],
   "source": [
    "res = ress[-1]\n",
    "saveto_path = r'G:\\My Drive\\Projects\\Dispersion Cancelation\\Paper\\Partial Figures\\diffuser_incoherent_sum_classical.png'\n",
    "res.show_incoherent_sum_classical(clean=True, title='', add_square=True, saveto_path=saveto_path)\n",
    "saveto_path = r'G:\\My Drive\\Projects\\Dispersion Cancelation\\Paper\\Partial Figures\\diffuser_incoherent_sum_SPDC.png'\n",
    "res.show_incoherent_sum_SPDC(clean=True, title='', add_square=True, saveto_path=saveto_path)\n",
    "# res.show_PCCs()\n",
    "plt.show(block=True)"
   ]
  },
  {
   "cell_type": "code",
   "execution_count": 15,
   "id": "4999a8f8",
   "metadata": {},
   "outputs": [],
   "source": [
    "saveto_path = r'G:\\My Drive\\Projects\\Dispersion Cancelation\\Paper\\Partial Figures\\diffuser1_classical_1.png'\n",
    "res.show_incoherent_sum_classical(clean=True, title='', add_square=False, saveto_path=saveto_path)\n",
    "plt.show(block=True)"
   ]
  },
  {
   "cell_type": "code",
   "execution_count": 17,
   "id": "17eca381",
   "metadata": {},
   "outputs": [
    {
     "data": {
      "text/plain": [
       "(41,)"
      ]
     },
     "execution_count": 17,
     "metadata": {},
     "output_type": "execute_result"
    }
   ],
   "source": [
    "res.classical_fields.shape\n",
    "# res.SPDC_fields.shape\n",
    "sim.wavelengths.shape"
   ]
  },
  {
   "cell_type": "code",
   "execution_count": 39,
   "id": "d1c7128a094ed50",
   "metadata": {
    "ExecuteTime": {
     "end_time": "2025-02-11T09:59:40.116462Z",
     "start_time": "2025-02-11T09:59:39.260257Z"
    }
   },
   "outputs": [],
   "source": [
    "# Make movie \n",
    "import matplotlib.animation as animation\n",
    "from qdc.misc import colorize\n",
    "colorize = lambda x: np.abs(x)**2\n",
    "import matplotlib as mpl\n",
    "path = r\"C:\\Users\\owner\\AppData\\Roaming\\Python\\Python310\\site-packages\\imageio_ffmpeg\\binaries\\ffmpeg-win-x86_64-v7.1.exe\"\n",
    "mpl.rcParams['animation.ffmpeg_path'] = path\n",
    "\n",
    "\n",
    "def make_movie(output_fields, dl, save_path, is_SPDC=True):\n",
    "    fps = 4\n",
    "    fig, ax = plt.subplots(constrained_layout=True)\n",
    "\n",
    "    def animate(frame_idx):\n",
    "        ax.clear()\n",
    "\n",
    "        field = output_fields[frame_idx]\n",
    "\n",
    "        ax.imshow(colorize(field), cmap='viridis')\n",
    "\n",
    "        text = f'$\\Delta\\\\lambda={dl[frame_idx]*1e3:.1f} nm$'\n",
    "        if is_SPDC:\n",
    "            text = f'$\\lambda_2-\\\\lambda_0={dl[frame_idx]*1e3:.1f} nm$'\n",
    "        ax.text(0.5, 0.97, text, color='white', fontsize=18, fontweight='bold',\n",
    "                va='top', ha='center', transform=ax.transAxes)\n",
    "\n",
    "        return ax\n",
    "\n",
    "    anim = animation.FuncAnimation(fig, animate, frames=len(output_fields)-1,\n",
    "                                    interval=1000//fps, blit=False, repeat=False)\n",
    "\n",
    "    anim.save(save_path, writer='ffmpeg', fps=fps)\n",
    "    plt.close(fig)\n",
    "\n",
    "base_path = r\"G:\\My Drive\\Projects\\Dispersion Cancelation\\Paper\\Movies\\Diffuser\"\n",
    "fields_SPDC = np.array([res.SPDC_fields[i].E for i in range(len(res.SPDC_fields))])[::-1]\n",
    "dls_SPDC = (res.wavelengths - res.wl0)[::-1]*1e6\n",
    "fields_classical = np.array([res.classical_fields[i].E for i in range(len(res.classical_fields))])\n",
    "dls_classical = res.classical_delta_lambdas*1e6\n",
    "make_movie(fields_SPDC, dls_SPDC, f\"{base_path}_SPDC.mp4\", is_SPDC=True)\n",
    "make_movie(fields_classical, dls_classical, f\"{base_path}_classical.mp4\", is_SPDC=False)\n"
   ]
  }
 ],
 "metadata": {
  "kernelspec": {
   "display_name": "Python 3",
   "language": "python",
   "name": "python3"
  },
  "language_info": {
   "codemirror_mode": {
    "name": "ipython",
    "version": 3
   },
   "file_extension": ".py",
   "mimetype": "text/x-python",
   "name": "python",
   "nbconvert_exporter": "python",
   "pygments_lexer": "ipython3",
   "version": "3.10.0"
  }
 },
 "nbformat": 4,
 "nbformat_minor": 5
}
