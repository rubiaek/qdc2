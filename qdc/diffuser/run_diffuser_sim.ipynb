{
 "cells": [
  {
   "cell_type": "code",
   "id": "d385f0102ad28be2",
   "metadata": {
    "ExecuteTime": {
     "end_time": "2025-03-31T07:01:57.254378Z",
     "start_time": "2025-03-31T07:01:57.159785Z"
    }
   },
   "source": [
    "%load_ext IPython.extensions.autoreload\n",
    "%autoreload 2\n",
    "# %matplotlib ipympl\n",
    "import matplotlib\n",
    "matplotlib.use('TKAgg')"
   ],
   "outputs": [
    {
     "name": "stdout",
     "output_type": "stream",
     "text": [
      "The IPython.extensions.autoreload extension is already loaded. To reload it, use:\n",
      "  %reload_ext IPython.extensions.autoreload\n"
     ]
    }
   ],
   "execution_count": 184
  },
  {
   "cell_type": "code",
   "id": "initial_id",
   "metadata": {
    "ExecuteTime": {
     "end_time": "2025-03-31T12:31:48.708684Z",
     "start_time": "2025-03-31T12:31:27.922003Z"
    }
   },
   "source": [
    "from matplotlib import pyplot as plt\n",
    "\n",
    "from qdc.diffuser.diffuser_result import DiffuserResult\n",
    "from qdc.diffuser.diffuser_sim import DiffuserSimulation\n",
    "import numpy as np \n",
    "\n",
    "show_all = False\n",
    "\n",
    "rms_height = 2*np.pi * 5\n",
    "\n",
    "sim = DiffuserSimulation(\n",
    "    Nx=1024, Ny=1024,\n",
    "    Lx=8e-3, Ly=8e-3,\n",
    "    wl0=808e-9,\n",
    "    Dwl=80e-9,\n",
    "    N_wl=11,  \n",
    "    waist=40e-6,\n",
    "    focal_length=200e-3,\n",
    "    init_off_axis=0.,\n",
    "    diffuser_angle=3 * 2*np.pi/360,\n",
    "    rms_height=rms_height, \n",
    "    diffuser_type='macro_pixels',  # \"ohad\", \"rfft\", \"wrapped\", \"macro_pixels\" \n",
    "    with_dispersion=False\n",
    ")\n",
    "\n",
    "res = sim.run_SPDC_simulation2(populate_res=True)\n",
    "res = sim.run_classical_simulation2(populate_res=True)\n",
    "res.show()\n",
    "plt.show(block=True)"
   ],
   "outputs": [
    {
     "name": "stdout",
     "output_type": "stream",
     "text": [
      "Populating SPDC\n",
      "Populating classical\n"
     ]
    }
   ],
   "execution_count": 310
  },
  {
   "metadata": {
    "ExecuteTime": {
     "end_time": "2025-03-31T12:33:20.502924Z",
     "start_time": "2025-03-31T12:33:09.102658Z"
    }
   },
   "cell_type": "code",
   "source": [
    "res.show()\n",
    "plt.show(block=True)"
   ],
   "id": "50ca149e00425ac1",
   "outputs": [],
   "execution_count": 312
  },
  {
   "metadata": {
    "ExecuteTime": {
     "end_time": "2025-03-31T12:16:40.195703Z",
     "start_time": "2025-03-31T12:16:22.472741Z"
    }
   },
   "cell_type": "code",
   "source": [
    "plt.close('all')\n",
    "# res.show_diffuser()\n",
    "mid = res.Nx // 2 \n",
    "D = 15\n",
    "fix_grids = True\n",
    "# res._populate_res_SPDC(D=D, fix_grids=fix_grids)\n",
    "# res._populate_res_classical(D=D, fix_grids=fix_grids)\n",
    "res.show(sq_D=D)\n",
    "plt.show(block=True)"
   ],
   "id": "41c3fbd232c04ace",
   "outputs": [],
   "execution_count": 302
  },
  {
   "metadata": {
    "ExecuteTime": {
     "end_time": "2025-03-31T07:54:05.501994Z",
     "start_time": "2025-03-31T07:54:00.578462Z"
    }
   },
   "cell_type": "code",
   "source": [
    "from qdc.diffuser.utils import prop_farfield_fft\n",
    "f = sim.make_detection_gaussian(sim.wl0)\n",
    "f2 = prop_farfield_fft(f, 300e-3)\n",
    "f2.E *= np.exp(1j*sim.diffuser_mask)\n",
    "f_end = prop_farfield_fft(f2, sim.f)\n",
    "f_end.show()\n",
    "fig, ax = plt.subplots()\n",
    "ax.imshow(sim.diffuser_mask)\n",
    "fig.show()\n",
    "f2.show()\n",
    "# res.show_diffuser()\n",
    "plt.show(block=True)"
   ],
   "id": "3e5e754dac0931de",
   "outputs": [],
   "execution_count": 232
  },
  {
   "metadata": {
    "ExecuteTime": {
     "end_time": "2025-03-31T07:21:40.792596Z",
     "start_time": "2025-03-31T07:21:19.691419Z"
    }
   },
   "cell_type": "code",
   "source": "plt.show(block=True)",
   "id": "2191a0437075c972",
   "outputs": [],
   "execution_count": 206
  },
  {
   "metadata": {
    "ExecuteTime": {
     "end_time": "2025-03-31T07:03:06.734929Z",
     "start_time": "2025-03-31T07:02:56.028483Z"
    }
   },
   "cell_type": "code",
   "source": [
    "res.classical_fields[-2].show()\n",
    "plt.show(block=True)"
   ],
   "id": "a0b4ea36934e2767",
   "outputs": [],
   "execution_count": 189
  },
  {
   "metadata": {
    "ExecuteTime": {
     "end_time": "2025-03-31T08:04:11.918111Z",
     "start_time": "2025-03-31T08:03:26.184186Z"
    }
   },
   "cell_type": "code",
   "source": [
    "plt.close('all')\n",
    "res.show_interactive(False)\n",
    "plt.show(block=True)"
   ],
   "id": "798362bf6c380194",
   "outputs": [],
   "execution_count": 248
  },
  {
   "cell_type": "code",
   "id": "62bdc04365949390",
   "metadata": {
    "ExecuteTime": {
     "end_time": "2025-03-30T13:09:30.867748Z",
     "start_time": "2025-03-30T13:09:30.728887Z"
    }
   },
   "source": [
    "plt.close()"
   ],
   "outputs": [],
   "execution_count": 67
  },
  {
   "cell_type": "code",
   "id": "3268b66cb9f745a4",
   "metadata": {},
   "source": [
    "res.show(sq_D=D*(res.x[1] - res.x[0]) * 1e6)"
   ],
   "outputs": [],
   "execution_count": null
  },
  {
   "cell_type": "code",
   "execution_count": null,
   "id": "16d9a8cb-e8fc-4748-9103-38648a1481e0",
   "metadata": {},
   "outputs": [],
   "source": [
    "print(res.classical_fields[0].x)\n",
    "print(res.classical_fields[1].x)\n",
    "print(res.classical_fields[2].x)"
   ]
  },
  {
   "cell_type": "code",
   "id": "3cec08d7-59c2-4fe1-a97f-2b5a50d78687",
   "metadata": {
    "ExecuteTime": {
     "end_time": "2025-03-31T07:08:39.224347Z",
     "start_time": "2025-03-31T07:08:36.102331Z"
    }
   },
   "source": [
    "# plt.close('all')\n",
    "res.show_interactive(False)\n",
    "plt.show(block=True)"
   ],
   "outputs": [],
   "execution_count": 192
  },
  {
   "metadata": {},
   "cell_type": "code",
   "source": "res.SPDC_fields[-5].show()",
   "id": "3ad8df51e302a8ff",
   "outputs": [],
   "execution_count": null
  },
  {
   "metadata": {
    "ExecuteTime": {
     "end_time": "2025-03-30T13:03:28.621894Z",
     "start_time": "2025-03-30T13:03:15.879737Z"
    }
   },
   "cell_type": "code",
   "source": "plt.show(block=True)",
   "id": "3d94ebe1dbfddb10",
   "outputs": [],
   "execution_count": 57
  },
  {
   "cell_type": "code",
   "id": "ddde6e21-4a6b-4508-bdee-0208c7f01bd6",
   "metadata": {},
   "source": [
    "\n",
    "fig, ax = plt.subplots()\n",
    "ax.imshow(res.classical_fields[0].I)\n",
    "fig, ax = plt.subplots()\n",
    "ax.imshow(res.classical_fields[1].I)\n",
    "# fig.show()"
   ],
   "outputs": [],
   "execution_count": null
  },
  {
   "cell_type": "code",
   "id": "b3d254c5-7d47-4f18-aa53-5b3312b33ba3",
   "metadata": {},
   "source": [
    "res.show_diffuser()\n",
    "\n",
    "fig, ax = plt.subplots()\n",
    "ax.imshow((np.abs(res._classical_fields_E[0]))**2)\n",
    "fig, ax = plt.subplots()\n",
    "ax.imshow((np.abs(res._classical_fields_E[-1]))**2)\n",
    "# fig.show()"
   ],
   "outputs": [],
   "execution_count": null
  },
  {
   "cell_type": "code",
   "execution_count": null,
   "id": "708c4865a9bf7e07",
   "metadata": {
    "ExecuteTime": {
     "end_time": "2025-03-19T11:59:13.977551Z",
     "start_time": "2025-03-19T11:59:12.996718Z"
    }
   },
   "outputs": [],
   "source": [
    "# res.show_interactive(SPDC=False) # , save_mp4_to=\"C:\\\\temp\\\\1.mp4\")\n",
    "# res.show_interactive(SPDC=False, save_mp4_to=\"C:\\\\temp\\\\6.mp4\")\n",
    "res.show_interactive(SPDC=False)"
   ]
  },
  {
   "cell_type": "code",
   "id": "870d4c07d430e080",
   "metadata": {},
   "source": [
    "res.show_incoherent_sum_SPDC()\n",
    "res.show_incoherent_sum_classical()"
   ],
   "outputs": [],
   "execution_count": null
  },
  {
   "cell_type": "code",
   "execution_count": 44,
   "id": "bf30d210594e1b07",
   "metadata": {
    "ExecuteTime": {
     "end_time": "2025-02-24T10:45:58.539252Z",
     "start_time": "2025-02-24T10:45:58.459491Z"
    }
   },
   "outputs": [
    {
     "data": {
      "text/plain": [
       "197.361993160723"
      ]
     },
     "execution_count": 44,
     "metadata": {},
     "output_type": "execute_result"
    }
   ],
   "source": [
    "res.x[res.Nx//2 + 50] * 1e6"
   ]
  },
  {
   "cell_type": "code",
   "execution_count": 17,
   "id": "bb2b0b83011fd523",
   "metadata": {
    "ExecuteTime": {
     "end_time": "2025-02-18T11:43:58.793301Z",
     "start_time": "2025-02-18T11:43:58.241362Z"
    }
   },
   "outputs": [],
   "source": [
    "sim.pinhole_D = 4e-3\n",
    "im = np.angle(sim.get_lens_mask(f=200e-3, wl=808e-9))\n",
    "im_pinhole = sim.get_pinhole_mask()\n",
    "fig, ax = plt.subplots()\n",
    "imm = ax.imshow(im * im_pinhole)\n",
    "fig.colorbar(imm, ax=ax)\n",
    "fig.show()"
   ]
  },
  {
   "cell_type": "code",
   "execution_count": 143,
   "id": "d1c7128a094ed50",
   "metadata": {
    "ExecuteTime": {
     "end_time": "2025-02-11T09:59:40.116462Z",
     "start_time": "2025-02-11T09:59:39.260257Z"
    }
   },
   "outputs": [],
   "source": [
    "res.plot_SPDC_PCCs()\n",
    "res.show_incoherent_sum_SPDC()"
   ]
  },
  {
   "cell_type": "code",
   "execution_count": 144,
   "id": "888c77298b3a2df4",
   "metadata": {
    "ExecuteTime": {
     "end_time": "2025-02-11T09:59:40.624504Z",
     "start_time": "2025-02-11T09:59:40.343227Z"
    }
   },
   "outputs": [],
   "source": [
    "res.plot_SPDC_classical()\n",
    "res.show_incoherent_sum_classical()"
   ]
  },
  {
   "cell_type": "code",
   "execution_count": 111,
   "id": "f711e7f828fef8e7",
   "metadata": {
    "ExecuteTime": {
     "end_time": "2025-02-11T09:14:21.037691Z",
     "start_time": "2025-02-11T09:14:19.436341Z"
    }
   },
   "outputs": [],
   "source": [
    "res.saveto(\"C:\\\\temp\\\\diff3_E.spdc\")"
   ]
  },
  {
   "cell_type": "code",
   "execution_count": 73,
   "id": "4f755d7fa37b1368",
   "metadata": {
    "ExecuteTime": {
     "end_time": "2025-02-11T08:14:18.341913Z",
     "start_time": "2025-02-11T08:14:17.727825Z"
    }
   },
   "outputs": [
    {
     "data": {
      "text/plain": [
       "(<Figure size 640x480 with 2 Axes>,\n",
       " <AxesSubplot: title={'center': 'Intensity (λ=808.0 nm)'}, xlabel='x [µm]', ylabel='y [µm]'>)"
      ]
     },
     "execution_count": 73,
     "metadata": {},
     "output_type": "execute_result"
    }
   ],
   "source": [
    "sim.make_detection_gaussian(sim.wl0).show()"
   ]
  },
  {
   "cell_type": "code",
   "execution_count": 112,
   "id": "2c9a28b8bdd0ccd1",
   "metadata": {
    "ExecuteTime": {
     "end_time": "2025-02-11T09:14:22.556425Z",
     "start_time": "2025-02-11T09:14:22.375708Z"
    }
   },
   "outputs": [],
   "source": [
    "res2 = DiffuserResult()\n",
    "res2.loadfrom(r\"C:\\temp\\diff3_E.spdc.npz\")"
   ]
  },
  {
   "cell_type": "code",
   "execution_count": 119,
   "id": "49fdb6bd9d27beb3",
   "metadata": {
    "ExecuteTime": {
     "end_time": "2025-02-11T09:37:06.349482Z",
     "start_time": "2025-02-11T09:37:05.009910Z"
    }
   },
   "outputs": [
    {
     "name": "stdout",
     "output_type": "stream",
     "text": [
      "_SPDC_fields_wl: 8.8e-05 mega bytes in memory\n",
      "SPDC_delta_lambdas: 8.8e-05 mega bytes in memory\n",
      "wavelengths: 0.000168 mega bytes in memory\n",
      "SPDC_PCCs: 8.8e-05 mega bytes in memory\n",
      "SPDC_incoherent_sum: 16.777216 mega bytes in memory\n",
      "Nx: 4e-06 mega bytes in memory\n",
      "Ny: 4e-06 mega bytes in memory\n",
      "x: 0.016384 mega bytes in memory\n",
      "y: 0.016384 mega bytes in memory\n",
      "wl0: 8e-06 mega bytes in memory\n",
      "Dwl: 8e-06 mega bytes in memory\n",
      "N_wl: 4e-06 mega bytes in memory\n",
      "waist: 8e-06 mega bytes in memory\n",
      "f: 8e-06 mega bytes in memory\n",
      "init_off_axis: 8e-06 mega bytes in memory\n",
      "diffuser_angle: 8e-06 mega bytes in memory\n",
      "diffuser_mask: 33.554432 mega bytes in memory\n",
      "achromat_lens: 1e-06 mega bytes in memory\n"
     ]
    }
   ],
   "source": [
    "for var_name in res2.__dict__:\n",
    "    arr = res2.__dict__[var_name]\n",
    "    if arr is None:\n",
    "        continue\n",
    "    print(f\"{var_name}: {arr.nbytes*1e-6} mega bytes in memory\")"
   ]
  }
 ],
 "metadata": {
  "kernelspec": {
   "display_name": "Python 3 (ipykernel)",
   "language": "python",
   "name": "python3"
  },
  "language_info": {
   "codemirror_mode": {
    "name": "ipython",
    "version": 3
   },
   "file_extension": ".py",
   "mimetype": "text/x-python",
   "name": "python",
   "nbconvert_exporter": "python",
   "pygments_lexer": "ipython3",
   "version": "3.10.0"
  }
 },
 "nbformat": 4,
 "nbformat_minor": 5
}
