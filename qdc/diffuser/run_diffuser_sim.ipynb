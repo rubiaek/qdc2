{
 "cells": [
  {
   "cell_type": "code",
   "id": "initial_id",
   "metadata": {
    "collapsed": true,
    "ExecuteTime": {
     "end_time": "2025-02-11T08:51:30.609373Z",
     "start_time": "2025-02-11T08:51:03.768788Z"
    }
   },
   "source": [
    "from matplotlib import pyplot as plt\n",
    "\n",
    "from qdc.diffuser.diffuser_sim import DiffuserSimulation\n",
    "import numpy as np \n",
    "\n",
    "show_all = False\n",
    "\n",
    "sim = DiffuserSimulation(\n",
    "    Nx=2048, Ny=2048,\n",
    "    Lx=8e-3, Ly=8e-3,\n",
    "    wl0=808e-9,\n",
    "    Dwl=300e-9,\n",
    "    N_wl=11,\n",
    "    waist=40e-6,\n",
    "    focal_length=200e-3,\n",
    "    init_off_axis=0.2000e-6,\n",
    "    diffuser_angle=0.2 * 2*np.pi/360\n",
    ")\n",
    "\n",
    "\n",
    "res = sim.run_SPDC_simulation()"
   ],
   "outputs": [],
   "execution_count": 85
  },
  {
   "metadata": {
    "ExecuteTime": {
     "end_time": "2025-02-11T08:48:10.959467Z",
     "start_time": "2025-02-11T08:48:10.057312Z"
    }
   },
   "cell_type": "code",
   "source": "res.plot_SPDC_PCCs()",
   "id": "d1c7128a094ed50",
   "outputs": [],
   "execution_count": 81
  },
  {
   "metadata": {
    "ExecuteTime": {
     "end_time": "2025-02-11T08:51:31.191863Z",
     "start_time": "2025-02-11T08:51:30.626163Z"
    }
   },
   "cell_type": "code",
   "source": "res.show_incoherent_sum_SPDC()",
   "id": "888c77298b3a2df4",
   "outputs": [],
   "execution_count": 86
  },
  {
   "metadata": {
    "ExecuteTime": {
     "end_time": "2025-02-11T08:14:18.341913Z",
     "start_time": "2025-02-11T08:14:17.727825Z"
    }
   },
   "cell_type": "code",
   "source": "sim.make_detection_gaussian(sim.wl0).show()",
   "id": "4f755d7fa37b1368",
   "outputs": [
    {
     "data": {
      "text/plain": [
       "(<Figure size 640x480 with 2 Axes>,\n",
       " <AxesSubplot: title={'center': 'Intensity (λ=808.0 nm)'}, xlabel='x [µm]', ylabel='y [µm]'>)"
      ]
     },
     "execution_count": 73,
     "metadata": {},
     "output_type": "execute_result"
    }
   ],
   "execution_count": 73
  },
  {
   "metadata": {
    "ExecuteTime": {
     "end_time": "2025-02-10T11:56:43.738777Z",
     "start_time": "2025-02-10T11:56:43.508178Z"
    }
   },
   "cell_type": "code",
   "source": [
    "def EE_corr(E1, E2):\n",
    "    II0 = np.abs(E1**2)\n",
    "    II = np.abs(E2**2)\n",
    "    return np.corrcoef(II0.ravel(), II.ravel())[0, 1]"
   ],
   "id": "ccb0e4c2f2e055ff",
   "outputs": [],
   "execution_count": 34
  }
 ],
 "metadata": {
  "kernelspec": {
   "display_name": "Python 3",
   "language": "python",
   "name": "python3"
  },
  "language_info": {
   "codemirror_mode": {
    "name": "ipython",
    "version": 2
   },
   "file_extension": ".py",
   "mimetype": "text/x-python",
   "name": "python",
   "nbconvert_exporter": "python",
   "pygments_lexer": "ipython2",
   "version": "2.7.6"
  }
 },
 "nbformat": 4,
 "nbformat_minor": 5
}
