{
 "cells": [
  {
   "cell_type": "code",
   "id": "initial_id",
   "metadata": {
    "collapsed": true,
    "ExecuteTime": {
     "end_time": "2025-02-10T12:19:45.438432Z",
     "start_time": "2025-02-10T12:19:32.006238Z"
    }
   },
   "source": [
    "from matplotlib import pyplot as plt\n",
    "from skimage.color import deltaE_cie76\n",
    "\n",
    "from qdc.diffuser.diffuser_sim import DiffuserSimulation\n",
    "import numpy as np \n",
    "\n",
    "show_all = False\n",
    "\n",
    "sim = DiffuserSimulation(\n",
    "    Nx=2048, Ny=2048,\n",
    "    Lx=10e-3, Ly=10e-3,\n",
    "    wl0=808e-9,\n",
    "    Dwl=300e-9,\n",
    "    N_wl=11,\n",
    "    waist=40e-6,\n",
    "    distance_to_det=100e-3,\n",
    "    init_off_axis=2000e-6,\n",
    "    diffuser_angle=0.4 * 2*np.pi/360\n",
    ")\n",
    "\n",
    "delta_lambdas, fields = sim.run_SPDC_simulation()\n",
    "\n",
    "# fig, ax = plt.subplots(1, 3, figsize=(14, 5))\n",
    "# fields[0].show(ax=ax[0])\n",
    "# fields[5].show(ax=ax[1])\n",
    "# fields[-1].show(ax=ax[2])\n",
    "\n",
    "fig, ax = plt.subplots()\n",
    "final = np.zeros_like(fields[0].I)\n",
    "for field in fields:\n",
    "    final += field.I\n",
    "\n",
    "i = -1\n",
    "I_diff = fields[i].I - fields[0].I\n",
    "imm = ax.imshow(final)\n",
    "fig.colorbar(imm, ax=ax)\n",
    "fig.show()"
   ],
   "outputs": [],
   "execution_count": 62
  },
  {
   "metadata": {
    "ExecuteTime": {
     "end_time": "2025-02-10T12:22:02.465460Z",
     "start_time": "2025-02-10T12:22:01.908621Z"
    }
   },
   "cell_type": "code",
   "source": "sim.make_detection_gaussian(sim.wl0).show()",
   "id": "4f755d7fa37b1368",
   "outputs": [
    {
     "data": {
      "text/plain": [
       "(<Figure size 640x480 with 2 Axes>,\n",
       " <AxesSubplot: title={'center': 'Intensity (λ=808.0 nm)'}, xlabel='x [µm]', ylabel='y [µm]'>)"
      ]
     },
     "execution_count": 63,
     "metadata": {},
     "output_type": "execute_result"
    }
   ],
   "execution_count": 63
  },
  {
   "metadata": {
    "ExecuteTime": {
     "end_time": "2025-02-10T12:14:49.619824Z",
     "start_time": "2025-02-10T12:14:47.283941Z"
    }
   },
   "cell_type": "code",
   "source": [
    "for field in fields:\n",
    "    print(np.corrcoef(fields[0].I.ravel(), field.I.ravel())[0, 1])"
   ],
   "id": "dc27cb72a7cc097f",
   "outputs": [
    {
     "name": "stdout",
     "output_type": "stream",
     "text": [
      "1.0\n",
      "0.978116950271108\n",
      "0.9402353495681168\n",
      "0.8893639195990619\n",
      "0.8341130040164387\n",
      "0.7805362895781643\n",
      "0.731698340450026\n",
      "0.6887069064249877\n",
      "0.6516906513622625\n",
      "0.6202437881344354\n",
      "0.5937425674049008\n"
     ]
    }
   ],
   "execution_count": 55
  },
  {
   "metadata": {
    "ExecuteTime": {
     "end_time": "2025-02-10T11:56:43.738777Z",
     "start_time": "2025-02-10T11:56:43.508178Z"
    }
   },
   "cell_type": "code",
   "source": [
    "def EE_corr(E1, E2):\n",
    "    II0 = np.abs(E1**2)\n",
    "    II = np.abs(E2**2)\n",
    "    return np.corrcoef(II0.ravel(), II.ravel())[0, 1]"
   ],
   "id": "ccb0e4c2f2e055ff",
   "outputs": [],
   "execution_count": 34
  }
 ],
 "metadata": {
  "kernelspec": {
   "display_name": "Python 3",
   "language": "python",
   "name": "python3"
  },
  "language_info": {
   "codemirror_mode": {
    "name": "ipython",
    "version": 2
   },
   "file_extension": ".py",
   "mimetype": "text/x-python",
   "name": "python",
   "nbconvert_exporter": "python",
   "pygments_lexer": "ipython2",
   "version": "2.7.6"
  }
 },
 "nbformat": 4,
 "nbformat_minor": 5
}
