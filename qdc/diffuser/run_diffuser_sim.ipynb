{
 "cells": [
  {
   "cell_type": "code",
   "id": "initial_id",
   "metadata": {
    "collapsed": true,
    "ExecuteTime": {
     "end_time": "2025-02-10T08:56:04.927462Z",
     "start_time": "2025-02-10T08:56:01.713842Z"
    }
   },
   "source": [
    "# run_spdc_sim.ipynb\n",
    "import numpy as np\n",
    "import matplotlib.pyplot as plt\n",
    "\n",
    "from qdc.diffuser.diffuser_sim import DiffuserSimulation\n",
    "from qdc.diffuser.diffuser_result import DiffuserResult\n",
    "\n",
    "# Create simulation object\n",
    "sim = DiffuserSimulation(Nx=512,  # smaller for a quick test\n",
    "                         Ny=512,\n",
    "                         Lx=2e-3,\n",
    "                         Ly=2e-3,\n",
    "                         wl0=808e-9,\n",
    "                         Dwl=40e-9,\n",
    "                         Nwl=10,\n",
    "                         waist=20e-6,\n",
    "                         focal_length=100e-3,\n",
    "                         diffuser_angle=0.5)\n",
    "\n",
    "# Run it\n",
    "result_map = sim.run_SPDC_simulation()\n",
    "\n",
    "# Wrap in a result object\n",
    "res = DiffuserResult(intensity_map=result_map, \n",
    "                     wavelengths=np.linspace(sim.wl_center - sim.wl_half_range,\n",
    "                                             sim.wl_center + sim.wl_half_range,\n",
    "                                             sim.Nwl))\n",
    "\n",
    "# Inspect results\n",
    "print(res)\n",
    "contrast = res.compute_contrast()\n",
    "print(\"Contrast:\", contrast)\n",
    "\n",
    "# Plot\n",
    "plt.figure()\n",
    "plt.imshow(result_map, extent=[sim.x[0]*1e3, sim.x[-1]*1e3, sim.y[0]*1e3, sim.y[-1]*1e3])\n",
    "plt.colorbar(label='Intensity')\n",
    "plt.xlabel('x (mm)')\n",
    "plt.ylabel('y (mm)')\n",
    "plt.title('SPDC Summed Intensity')\n",
    "plt.show()\n"
   ],
   "outputs": [
    {
     "name": "stdout",
     "output_type": "stream",
     "text": [
      "<SPDCResult shape=(512, 512) min=2.08e-12, max=1.48e-07>\n",
      "Contrast: 0.9909611634292144\n"
     ]
    }
   ],
   "execution_count": 7
  }
 ],
 "metadata": {
  "kernelspec": {
   "display_name": "Python 3",
   "language": "python",
   "name": "python3"
  },
  "language_info": {
   "codemirror_mode": {
    "name": "ipython",
    "version": 2
   },
   "file_extension": ".py",
   "mimetype": "text/x-python",
   "name": "python",
   "nbconvert_exporter": "python",
   "pygments_lexer": "ipython2",
   "version": "2.7.6"
  }
 },
 "nbformat": 4,
 "nbformat_minor": 5
}
