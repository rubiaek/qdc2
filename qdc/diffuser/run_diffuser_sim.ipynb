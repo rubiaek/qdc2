{
 "cells": [
  {
   "cell_type": "code",
   "execution_count": null,
   "id": "initial_id",
   "metadata": {
    "collapsed": true
   },
   "outputs": [],
   "source": [
    "# run_spdc_sim.ipynb\n",
    "import numpy as np\n",
    "import matplotlib.pyplot as plt\n",
    "\n",
    "from qdc.diffuser.diffuser_sim import DiffuserSimulation\n",
    "from qdc.diffuser.diffuser_result import DiffuserResult\n",
    "\n",
    "# Create simulation object\n",
    "sim = DiffuserSimulation(Nx=512,  # smaller for a quick test\n",
    "                         Ny=512,\n",
    "                         Lx=2e-3,\n",
    "                         Ly=2e-3,\n",
    "                         wavelength_c=808e-9,\n",
    "                         dwl=40e-9,\n",
    "                         Nwl=10,\n",
    "                         waist=20e-6,\n",
    "                         f=100e-3,\n",
    "                         max_angle=0.5)\n",
    "\n",
    "# Run it\n",
    "result_map = sim.run_simulation()\n",
    "\n",
    "# Wrap in a result object\n",
    "res = DiffuserResult(intensity_map=result_map,\n",
    "                     lam_vec=np.linspace(sim.wavelength_c - sim.dwl,\n",
    "                                    sim.wavelength_c + sim.dwl,\n",
    "                                    sim.Nwl))\n",
    "\n",
    "# Inspect results\n",
    "print(res)\n",
    "contrast = res.compute_contrast()\n",
    "print(\"Contrast:\", contrast)\n",
    "\n",
    "# Plot\n",
    "plt.figure()\n",
    "plt.imshow(result_map, extent=[sim.x[0]*1e3, sim.x[-1]*1e3, sim.y[0]*1e3, sim.y[-1]*1e3])\n",
    "plt.colorbar(label='Intensity')\n",
    "plt.xlabel('x (mm)')\n",
    "plt.ylabel('y (mm)')\n",
    "plt.title('SPDC Summed Intensity')\n",
    "plt.show()\n"
   ]
  }
 ],
 "metadata": {
  "kernelspec": {
   "display_name": "Python 3",
   "language": "python",
   "name": "python3"
  },
  "language_info": {
   "codemirror_mode": {
    "name": "ipython",
    "version": 2
   },
   "file_extension": ".py",
   "mimetype": "text/x-python",
   "name": "python",
   "nbconvert_exporter": "python",
   "pygments_lexer": "ipython2",
   "version": "2.7.6"
  }
 },
 "nbformat": 4,
 "nbformat_minor": 5
}
