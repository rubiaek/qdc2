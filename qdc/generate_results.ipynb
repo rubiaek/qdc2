{
 "cells": [
  {
   "metadata": {
    "ExecuteTime": {
     "end_time": "2025-02-06T12:08:31.746103Z",
     "start_time": "2025-02-06T12:08:30.445450Z"
    }
   },
   "cell_type": "code",
   "source": [
    "%load_ext autoreload\n",
    "%autoreload 2\n",
    "\n",
    "from qdc.many_wl_fiber import ManyWavelengthFiber\n",
    "from qdc.qdc_experiment import QDCExperiment\n",
    "from qdc.misc import tnow\n",
    "import os \n",
    "DATA_DIR = os.path.join(os.path.abspath(os.path.curdir), 'data')"
   ],
   "id": "f34f8caf458a5275",
   "outputs": [
    {
     "name": "stdout",
     "output_type": "stream",
     "text": [
      "The autoreload extension is already loaded. To reload it, use:\n",
      "  %reload_ext autoreload\n"
     ]
    }
   ],
   "execution_count": 2
  },
  {
   "metadata": {
    "ExecuteTime": {
     "end_time": "2025-02-06T12:17:46.948873Z",
     "start_time": "2025-02-06T12:16:58.671676Z"
    }
   },
   "cell_type": "code",
   "source": [
    "# Construct the multi-wavelength fiber set\n",
    "fiber_L = 5e6  # um \n",
    "N_wl = 41\n",
    "N_classical = 2\n",
    "N_klyshkos = 3 \n",
    "wl0 = 0.810\n",
    "Dwl = 0.080\n",
    "dzs = [0, 20, 80]\n",
    "\n",
    "s = ManyWavelengthFiber(wl0=wl0, Dwl=Dwl, N_wl=N_wl, fiber_L=fiber_L)\n",
    "\n",
    "# Construct the experiment with that ManyWavelengthFiber\n",
    "exp = QDCExperiment(s)\n",
    "\n",
    "# Now run a multi-dz test, returning a QDCResult\n",
    "res = exp.run_PCCs_different_dz(dzs=dzs, N_classical=N_classical, N_klyshko=N_klyshkos)\n",
    "\n",
    "# Plot the result\n",
    "res.show(title=\"Refactored QDC Demo\")\n",
    "\n",
    "saveto_path = rf'{DATA_DIR}\\\\{tnow()}.npz'\n",
    "# Optionally save the result to disk\n",
    "res.saveto(saveto_path)"
   ],
   "id": "a480d973aacae8e3",
   "outputs": [
    {
     "name": "stdout",
     "output_type": "stream",
     "text": [
      "Getting 41 fibers...\n"
     ]
    },
    {
     "name": "stderr",
     "output_type": "stream",
     "text": [
      "41it [00:02, 14.61it/s]\n"
     ]
    },
    {
     "name": "stdout",
     "output_type": "stream",
     "text": [
      "Got fibers!\n",
      "Getting classical with average on 2 ...\n"
     ]
    },
    {
     "name": "stderr",
     "output_type": "stream",
     "text": [
      "100%|██████████| 2/2 [00:05<00:00,  2.92s/it]\n"
     ]
    },
    {
     "name": "stdout",
     "output_type": "stream",
     "text": [
      "Getting Klyshko with average on 3, dz=0 ...\n"
     ]
    },
    {
     "name": "stderr",
     "output_type": "stream",
     "text": [
      "100%|██████████| 3/3 [00:08<00:00,  2.91s/it]\n"
     ]
    },
    {
     "name": "stdout",
     "output_type": "stream",
     "text": [
      "Getting Klyshko with average on 3, dz=20 ...\n"
     ]
    },
    {
     "name": "stderr",
     "output_type": "stream",
     "text": [
      "100%|██████████| 3/3 [00:08<00:00,  2.93s/it]\n"
     ]
    },
    {
     "name": "stdout",
     "output_type": "stream",
     "text": [
      "Getting Klyshko with average on 3, dz=80 ...\n"
     ]
    },
    {
     "name": "stderr",
     "output_type": "stream",
     "text": [
      "100%|██████████| 3/3 [00:08<00:00,  2.97s/it]\n"
     ]
    }
   ],
   "execution_count": 5
  }
 ],
 "metadata": {
  "kernelspec": {
   "display_name": "Python 3",
   "language": "python",
   "name": "python3"
  },
  "language_info": {
   "codemirror_mode": {
    "name": "ipython",
    "version": 2
   },
   "file_extension": ".py",
   "mimetype": "text/x-python",
   "name": "python",
   "nbconvert_exporter": "python",
   "pygments_lexer": "ipython2",
   "version": "2.7.6"
  }
 },
 "nbformat": 4,
 "nbformat_minor": 5
}
