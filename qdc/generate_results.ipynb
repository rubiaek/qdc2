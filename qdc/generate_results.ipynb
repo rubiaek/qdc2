{
 "cells": [
  {
   "cell_type": "code",
   "id": "initial_id",
   "metadata": {
    "collapsed": true,
    "ExecuteTime": {
     "end_time": "2025-02-04T07:38:10.003200Z",
     "start_time": "2025-02-04T07:38:08.219839Z"
    }
   },
   "source": [
    "import matplotlib.pyplot as plt\n",
    "from qdc.many_wl_fiber import ManyWavelengthFiber"
   ],
   "outputs": [],
   "execution_count": 1
  },
  {
   "metadata": {
    "jupyter": {
     "is_executing": true
    },
    "ExecuteTime": {
     "start_time": "2025-02-04T07:38:48.627376Z"
    }
   },
   "cell_type": "code",
   "source": [
    "fiber_L = 5e6\n",
    "mode_mixing = 0\n",
    "dz = 50\n",
    "\n",
    "s = ManyWavelengthFiber(wl0=0.810, Dwl=0.080, N_wl=161, fiber_L=fiber_L)\n",
    "# s.run_PCCs_different_dz(dzs=(0, 20, 40, 60, 150))\n",
    "s.run_PCCs_different_dz(dzs=(0, 20, 80), N_classical=5, N_klyshko=3)\n"
   ],
   "id": "793528c69322b7e6",
   "outputs": [
    {
     "name": "stdout",
     "output_type": "stream",
     "text": [
      "Getting 161 fibers...\n"
     ]
    },
    {
     "name": "stderr",
     "output_type": "stream",
     "text": [
      "161it [00:14, 11.35it/s]\n"
     ]
    },
    {
     "name": "stdout",
     "output_type": "stream",
     "text": [
      "Got fibers!\n",
      "Getting classical with average on 5...\n"
     ]
    },
    {
     "name": "stderr",
     "output_type": "stream",
     "text": [
      " 20%|██        | 1/5 [00:13<00:52, 13.08s/it]"
     ]
    }
   ],
   "execution_count": null
  }
 ],
 "metadata": {
  "kernelspec": {
   "display_name": "Python 3",
   "language": "python",
   "name": "python3"
  },
  "language_info": {
   "codemirror_mode": {
    "name": "ipython",
    "version": 2
   },
   "file_extension": ".py",
   "mimetype": "text/x-python",
   "name": "python",
   "nbconvert_exporter": "python",
   "pygments_lexer": "ipython2",
   "version": "2.7.6"
  }
 },
 "nbformat": 4,
 "nbformat_minor": 5
}
