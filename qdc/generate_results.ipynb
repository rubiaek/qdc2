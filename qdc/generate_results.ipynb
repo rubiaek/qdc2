{
 "cells": [
  {
   "cell_type": "code",
   "id": "initial_id",
   "metadata": {
    "collapsed": true,
    "ExecuteTime": {
     "end_time": "2025-02-04T07:38:10.003200Z",
     "start_time": "2025-02-04T07:38:08.219839Z"
    }
   },
   "source": [
    "import matplotlib.pyplot as plt\n",
    "from qdc.many_wl_fiber import ManyWavelengthFiber"
   ],
   "outputs": [],
   "execution_count": 1
  },
  {
   "metadata": {
    "ExecuteTime": {
     "end_time": "2025-02-04T11:56:11.918397800Z",
     "start_time": "2025-02-04T11:56:11.381235Z"
    }
   },
   "cell_type": "code",
   "source": [
    "fiber_L = 5e6\n",
    "mode_mixing = 0\n",
    "dz = 50\n",
    "\n",
    "s = ManyWavelengthFiber(wl0=0.810, Dwl=0.080, N_wl=161, fiber_L=fiber_L)\n",
    "# s.run_PCCs_different_dz(dzs=(0, 20, 40, 60, 150))\n",
    "s.run_PCCs_different_dz(dzs=(0, 20, 80), N_classical=5, N_klyshko=3)\n"
   ],
   "id": "793528c69322b7e6",
   "outputs": [
    {
     "name": "stdout",
     "output_type": "stream",
     "text": [
      "Getting 41 fibers...\n"
     ]
    },
    {
     "name": "stderr",
     "output_type": "stream",
     "text": [
      "0it [00:00, ?it/s]\n"
     ]
    },
    {
     "ename": "KeyboardInterrupt",
     "evalue": "",
     "output_type": "error",
     "traceback": [
      "\u001B[1;31m---------------------------------------------------------------------------\u001B[0m",
      "\u001B[1;31mKeyboardInterrupt\u001B[0m                         Traceback (most recent call last)",
      "Cell \u001B[1;32mIn [6], line 5\u001B[0m\n\u001B[0;32m      2\u001B[0m mode_mixing \u001B[38;5;241m=\u001B[39m \u001B[38;5;241m0\u001B[39m\n\u001B[0;32m      3\u001B[0m dz \u001B[38;5;241m=\u001B[39m \u001B[38;5;241m50\u001B[39m\n\u001B[1;32m----> 5\u001B[0m s \u001B[38;5;241m=\u001B[39m \u001B[43mManyWavelengthFiber\u001B[49m\u001B[43m(\u001B[49m\u001B[43mwl0\u001B[49m\u001B[38;5;241;43m=\u001B[39;49m\u001B[38;5;241;43m0.310\u001B[39;49m\u001B[43m,\u001B[49m\u001B[43m \u001B[49m\u001B[43mDwl\u001B[49m\u001B[38;5;241;43m=\u001B[39;49m\u001B[38;5;241;43m0.080\u001B[39;49m\u001B[43m,\u001B[49m\u001B[43m \u001B[49m\u001B[43mN_wl\u001B[49m\u001B[38;5;241;43m=\u001B[39;49m\u001B[38;5;241;43m41\u001B[39;49m\u001B[43m,\u001B[49m\u001B[43m \u001B[49m\u001B[43mfiber_L\u001B[49m\u001B[38;5;241;43m=\u001B[39;49m\u001B[43mfiber_L\u001B[49m\u001B[43m)\u001B[49m\n\u001B[0;32m      6\u001B[0m \u001B[38;5;66;03m# s.run_PCCs_different_dz(dzs=(0, 20, 40, 60, 150))\u001B[39;00m\n\u001B[0;32m      7\u001B[0m s\u001B[38;5;241m.\u001B[39mrun_PCCs_different_dz(dzs\u001B[38;5;241m=\u001B[39m(\u001B[38;5;241m0\u001B[39m, \u001B[38;5;241m20\u001B[39m, \u001B[38;5;241m80\u001B[39m), N_classical\u001B[38;5;241m=\u001B[39m\u001B[38;5;241m1\u001B[39m, N_klyshko\u001B[38;5;241m=\u001B[39m\u001B[38;5;241m1\u001B[39m)\n",
      "File \u001B[1;32mC:\\code\\qdc2\\qdc\\many_wl_fiber.py:18\u001B[0m, in \u001B[0;36mManyWavelengthFiber.__init__\u001B[1;34m(self, wl0, Dwl, N_wl, fiber_L)\u001B[0m\n\u001B[0;32m     16\u001B[0m \u001B[38;5;28mprint\u001B[39m(\u001B[38;5;124mf\u001B[39m\u001B[38;5;124m\"\u001B[39m\u001B[38;5;124mGetting \u001B[39m\u001B[38;5;132;01m{\u001B[39;00mN_wl\u001B[38;5;132;01m}\u001B[39;00m\u001B[38;5;124m fibers...\u001B[39m\u001B[38;5;124m\"\u001B[39m)\n\u001B[0;32m     17\u001B[0m \u001B[38;5;28;01mfor\u001B[39;00m i, wl \u001B[38;5;129;01min\u001B[39;00m tqdm(\u001B[38;5;28menumerate\u001B[39m(\u001B[38;5;28mself\u001B[39m\u001B[38;5;241m.\u001B[39mwls)):\n\u001B[1;32m---> 18\u001B[0m     \u001B[38;5;28mself\u001B[39m\u001B[38;5;241m.\u001B[39mfibers\u001B[38;5;241m.\u001B[39mappend(\u001B[43mFiber\u001B[49m\u001B[43m(\u001B[49m\u001B[43mwl\u001B[49m\u001B[38;5;241;43m=\u001B[39;49m\u001B[43mwl\u001B[49m\u001B[43m,\u001B[49m\u001B[43m \u001B[49m\u001B[43mn1\u001B[49m\u001B[38;5;241;43m=\u001B[39;49m\u001B[38;5;28;43mself\u001B[39;49m\u001B[38;5;241;43m.\u001B[39;49m\u001B[43mns\u001B[49m\u001B[43m[\u001B[49m\u001B[43mi\u001B[49m\u001B[43m]\u001B[49m\u001B[43m,\u001B[49m\u001B[43m \u001B[49m\u001B[43mL\u001B[49m\u001B[38;5;241;43m=\u001B[39;49m\u001B[43mfiber_L\u001B[49m\u001B[43m)\u001B[49m)\n\u001B[0;32m     19\u001B[0m \u001B[38;5;28mprint\u001B[39m(\u001B[38;5;124m\"\u001B[39m\u001B[38;5;124mGot fibers!\u001B[39m\u001B[38;5;124m\"\u001B[39m)\n\u001B[0;32m     20\u001B[0m \u001B[38;5;28mself\u001B[39m\u001B[38;5;241m.\u001B[39mN_modes_cutoff \u001B[38;5;241m=\u001B[39m \u001B[38;5;28mmin\u001B[39m(\u001B[38;5;28mself\u001B[39m\u001B[38;5;241m.\u001B[39mfibers[\u001B[38;5;241m0\u001B[39m]\u001B[38;5;241m.\u001B[39mNmodes, \u001B[38;5;28mself\u001B[39m\u001B[38;5;241m.\u001B[39mfibers[\u001B[38;5;241m-\u001B[39m\u001B[38;5;241m1\u001B[39m]\u001B[38;5;241m.\u001B[39mNmodes)  \u001B[38;5;66;03m# If N_modes changes with wl - discard last modes\u001B[39;00m\n",
      "File \u001B[1;32mC:\\code\\qdc2\\qdc\\fiber.py:62\u001B[0m, in \u001B[0;36mFiber.__init__\u001B[1;34m(self, wl, n1, NA, diameter, curvature, areaSize, npoints, autosolve, L)\u001B[0m\n\u001B[0;32m     59\u001B[0m \u001B[38;5;28mself\u001B[39m\u001B[38;5;241m.\u001B[39msaveto_path \u001B[38;5;241m=\u001B[39m os\u001B[38;5;241m.\u001B[39mpath\u001B[38;5;241m.\u001B[39mjoin(MODES_DIR, \u001B[38;5;124mf\u001B[39m\u001B[38;5;124m'\u001B[39m\u001B[38;5;124mmodes_GRIN_wl=\u001B[39m\u001B[38;5;132;01m{\u001B[39;00m\u001B[38;5;28mself\u001B[39m\u001B[38;5;241m.\u001B[39mwl\u001B[38;5;132;01m}\u001B[39;00m\u001B[38;5;124m_npoints=\u001B[39m\u001B[38;5;132;01m{\u001B[39;00m\u001B[38;5;28mself\u001B[39m\u001B[38;5;241m.\u001B[39mnpoints\u001B[38;5;132;01m}\u001B[39;00m\u001B[38;5;124m.npz\u001B[39m\u001B[38;5;124m'\u001B[39m)\n\u001B[0;32m     61\u001B[0m \u001B[38;5;28;01mif\u001B[39;00m autosolve:\n\u001B[1;32m---> 62\u001B[0m     \u001B[38;5;28;43mself\u001B[39;49m\u001B[38;5;241;43m.\u001B[39;49m\u001B[43msolve\u001B[49m\u001B[43m(\u001B[49m\u001B[43m)\u001B[49m\n",
      "File \u001B[1;32mC:\\code\\qdc2\\qdc\\fiber.py:65\u001B[0m, in \u001B[0;36mFiber.solve\u001B[1;34m(self)\u001B[0m\n\u001B[0;32m     64\u001B[0m \u001B[38;5;28;01mdef\u001B[39;00m \u001B[38;5;21msolve\u001B[39m(\u001B[38;5;28mself\u001B[39m):\n\u001B[1;32m---> 65\u001B[0m     \u001B[38;5;28;01mif\u001B[39;00m \u001B[38;5;28;43mself\u001B[39;49m\u001B[38;5;241;43m.\u001B[39;49m\u001B[43m_load_from_file\u001B[49m\u001B[43m(\u001B[49m\u001B[43m)\u001B[49m:\n\u001B[0;32m     66\u001B[0m         \u001B[38;5;28;01mreturn\u001B[39;00m\n\u001B[0;32m     67\u001B[0m     r_max \u001B[38;5;241m=\u001B[39m SOLVER_R_MAX_COEFF \u001B[38;5;241m*\u001B[39m \u001B[38;5;28mself\u001B[39m\u001B[38;5;241m.\u001B[39mdiameter\n",
      "File \u001B[1;32mC:\\code\\qdc2\\qdc\\fiber.py:93\u001B[0m, in \u001B[0;36mFiber._load_from_file\u001B[1;34m(self)\u001B[0m\n\u001B[0;32m     91\u001B[0m \u001B[38;5;28mself\u001B[39m\u001B[38;5;241m.\u001B[39mmodes\u001B[38;5;241m.\u001B[39mnumber \u001B[38;5;241m=\u001B[39m data[\u001B[38;5;124m'\u001B[39m\u001B[38;5;124mn_modes\u001B[39m\u001B[38;5;124m'\u001B[39m]\n\u001B[0;32m     92\u001B[0m \u001B[38;5;28mself\u001B[39m\u001B[38;5;241m.\u001B[39mnpoints \u001B[38;5;241m=\u001B[39m data[\u001B[38;5;124m'\u001B[39m\u001B[38;5;124mnpoints\u001B[39m\u001B[38;5;124m'\u001B[39m]\n\u001B[1;32m---> 93\u001B[0m \u001B[38;5;28mself\u001B[39m\u001B[38;5;241m.\u001B[39mmodes\u001B[38;5;241m.\u001B[39mmodeMatrix \u001B[38;5;241m=\u001B[39m \u001B[43mdata\u001B[49m\u001B[43m[\u001B[49m\u001B[38;5;124;43m'\u001B[39;49m\u001B[38;5;124;43mprofiles\u001B[39;49m\u001B[38;5;124;43m'\u001B[39;49m\u001B[43m]\u001B[49m\n\u001B[0;32m     94\u001B[0m \u001B[38;5;28mself\u001B[39m\u001B[38;5;241m.\u001B[39mmodes\u001B[38;5;241m.\u001B[39mbetas \u001B[38;5;241m=\u001B[39m data[\u001B[38;5;124m'\u001B[39m\u001B[38;5;124mbetas\u001B[39m\u001B[38;5;124m'\u001B[39m]\n\u001B[0;32m     95\u001B[0m \u001B[38;5;28mself\u001B[39m\u001B[38;5;241m.\u001B[39mmodes\u001B[38;5;241m.\u001B[39mwl \u001B[38;5;241m=\u001B[39m \u001B[38;5;28mself\u001B[39m\u001B[38;5;241m.\u001B[39mwl\n",
      "File \u001B[1;32m~\\AppData\\Roaming\\Python\\Python310\\site-packages\\numpy\\lib\\npyio.py:245\u001B[0m, in \u001B[0;36mNpzFile.__getitem__\u001B[1;34m(self, key)\u001B[0m\n\u001B[0;32m    243\u001B[0m \u001B[38;5;28;01mif\u001B[39;00m magic \u001B[38;5;241m==\u001B[39m \u001B[38;5;28mformat\u001B[39m\u001B[38;5;241m.\u001B[39mMAGIC_PREFIX:\n\u001B[0;32m    244\u001B[0m     \u001B[38;5;28mbytes\u001B[39m \u001B[38;5;241m=\u001B[39m \u001B[38;5;28mself\u001B[39m\u001B[38;5;241m.\u001B[39mzip\u001B[38;5;241m.\u001B[39mopen(key)\n\u001B[1;32m--> 245\u001B[0m     \u001B[38;5;28;01mreturn\u001B[39;00m \u001B[38;5;28;43mformat\u001B[39;49m\u001B[38;5;241;43m.\u001B[39;49m\u001B[43mread_array\u001B[49m\u001B[43m(\u001B[49m\u001B[38;5;28;43mbytes\u001B[39;49m\u001B[43m,\u001B[49m\n\u001B[0;32m    246\u001B[0m \u001B[43m                             \u001B[49m\u001B[43mallow_pickle\u001B[49m\u001B[38;5;241;43m=\u001B[39;49m\u001B[38;5;28;43mself\u001B[39;49m\u001B[38;5;241;43m.\u001B[39;49m\u001B[43mallow_pickle\u001B[49m\u001B[43m,\u001B[49m\n\u001B[0;32m    247\u001B[0m \u001B[43m                             \u001B[49m\u001B[43mpickle_kwargs\u001B[49m\u001B[38;5;241;43m=\u001B[39;49m\u001B[38;5;28;43mself\u001B[39;49m\u001B[38;5;241;43m.\u001B[39;49m\u001B[43mpickle_kwargs\u001B[49m\u001B[43m)\u001B[49m\n\u001B[0;32m    248\u001B[0m \u001B[38;5;28;01melse\u001B[39;00m:\n\u001B[0;32m    249\u001B[0m     \u001B[38;5;28;01mreturn\u001B[39;00m \u001B[38;5;28mself\u001B[39m\u001B[38;5;241m.\u001B[39mzip\u001B[38;5;241m.\u001B[39mread(key)\n",
      "File \u001B[1;32m~\\AppData\\Roaming\\Python\\Python310\\site-packages\\numpy\\lib\\format.py:778\u001B[0m, in \u001B[0;36mread_array\u001B[1;34m(fp, allow_pickle, pickle_kwargs)\u001B[0m\n\u001B[0;32m    776\u001B[0m             read_size \u001B[38;5;241m=\u001B[39m \u001B[38;5;28mint\u001B[39m(read_count \u001B[38;5;241m*\u001B[39m dtype\u001B[38;5;241m.\u001B[39mitemsize)\n\u001B[0;32m    777\u001B[0m             data \u001B[38;5;241m=\u001B[39m _read_bytes(fp, read_size, \u001B[38;5;124m\"\u001B[39m\u001B[38;5;124marray data\u001B[39m\u001B[38;5;124m\"\u001B[39m)\n\u001B[1;32m--> 778\u001B[0m             array[i:i\u001B[38;5;241m+\u001B[39mread_count] \u001B[38;5;241m=\u001B[39m numpy\u001B[38;5;241m.\u001B[39mfrombuffer(data, dtype\u001B[38;5;241m=\u001B[39mdtype,\n\u001B[0;32m    779\u001B[0m                                                      count\u001B[38;5;241m=\u001B[39mread_count)\n\u001B[0;32m    781\u001B[0m \u001B[38;5;28;01mif\u001B[39;00m fortran_order:\n\u001B[0;32m    782\u001B[0m     array\u001B[38;5;241m.\u001B[39mshape \u001B[38;5;241m=\u001B[39m shape[::\u001B[38;5;241m-\u001B[39m\u001B[38;5;241m1\u001B[39m]\n",
      "\u001B[1;31mKeyboardInterrupt\u001B[0m: "
     ]
    }
   ],
   "execution_count": 6
  },
  {
   "metadata": {
    "jupyter": {
     "is_executing": true
    },
    "ExecuteTime": {
     "start_time": "2025-02-06T12:06:44.239353Z"
    }
   },
   "cell_type": "code",
   "source": [
    "# generate_results.ipynb\n",
    "from qdc.many_wl_fiber import ManyWavelengthFiber\n",
    "from qdc.qdc_experiment import QDCExperiment\n",
    "from qdc.misc import tnow\n",
    "import os \n",
    "DATA_DIR = os.path.join(os.path.abspath(os.path.curdir), 'data')\n",
    "\n",
    "# Construct the multi-wavelength fiber set\n",
    "fiber_L = 5e6  # um \n",
    "s = ManyWavelengthFiber(wl0=0.810, Dwl=0.080, N_wl=41, fiber_L=fiber_L)\n",
    "\n",
    "# Construct the experiment with that ManyWavelengthFiber\n",
    "exp = QDCExperiment(s)\n",
    "\n",
    "# Now run a multi-dz test, returning a QDCResult\n",
    "res = exp.run_PCCs_different_dz(dzs=(0, 20, 80), N_classical=5, N_klyshko=3)\n",
    "\n",
    "# Plot the result\n",
    "res.show(title=\"Refactored QDC Demo\")\n",
    "\n",
    "saveto_path = rf'{DATA_DIR}\\\\vrs_analytic\\\\{tnow()}.npz'\n",
    "# Optionally save the result to disk\n",
    "res.saveto(saveto_path)\n"
   ],
   "id": "f34f8caf458a5275",
   "outputs": [
    {
     "name": "stdout",
     "output_type": "stream",
     "text": [
      "Getting 41 fibers...\n"
     ]
    },
    {
     "name": "stderr",
     "output_type": "stream",
     "text": [
      "34it [00:02, 14.09it/s]"
     ]
    }
   ],
   "execution_count": null
  }
 ],
 "metadata": {
  "kernelspec": {
   "display_name": "Python 3",
   "language": "python",
   "name": "python3"
  },
  "language_info": {
   "codemirror_mode": {
    "name": "ipython",
    "version": 2
   },
   "file_extension": ".py",
   "mimetype": "text/x-python",
   "name": "python",
   "nbconvert_exporter": "python",
   "pygments_lexer": "ipython2",
   "version": "2.7.6"
  }
 },
 "nbformat": 4,
 "nbformat_minor": 5
}
