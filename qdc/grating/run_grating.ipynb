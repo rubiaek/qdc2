{
 "cells": [
  {
   "cell_type": "code",
   "id": "initial_id",
   "metadata": {
    "collapsed": true,
    "ExecuteTime": {
     "end_time": "2025-05-29T10:28:35.310382Z",
     "start_time": "2025-05-29T10:28:35.199474Z"
    }
   },
   "source": [
    "import numpy as np \n",
    "import matplotlib.pyplot as plt\n",
    "from qdc.grating.grating_sim import GratingSim1D, blazed_mask"
   ],
   "outputs": [],
   "execution_count": 6
  },
  {
   "metadata": {
    "ExecuteTime": {
     "end_time": "2025-05-29T10:40:07.459541Z",
     "start_time": "2025-05-29T10:40:07.050668Z"
    }
   },
   "cell_type": "code",
   "source": [
    "from grating_sim import GratingSim1D\n",
    "import matplotlib.pyplot as plt\n",
    "\n",
    "# --- initialise the simulator (feel free to tweak parameters) ----------\n",
    "sim = GratingSim1D(\n",
    "    Nx        = 2**14,      # grid points\n",
    "    Lx        = 8e-3,       # 8 mm\n",
    "    wl0       = 808e-9,     # 808 nm blaze\n",
    "    Dwl       = 100e-9,     # ±50 nm span\n",
    "    N_wl      = 31,         # 11 wavelengths  (odd!)\n",
    "    waist     = 1400e-6,      # 40 µm beam waist\n",
    "    blaze_deg = 0.15,       # blaze angle [rad]\n",
    "    f         = 0.2         # lens focal length [m]\n",
    ")\n",
    "\n",
    "# --- run the simulation -------------------------------------------------\n",
    "I_classical, I_spdc = sim.run()\n",
    "\n",
    "# --- plot ---------------------------------------------------------------\n",
    "fig, ax = plt.subplots(figsize=(7, 4))\n",
    "ax.plot(I_classical / I_classical.max(), label=\"classical incoherent sum\")\n",
    "ax.plot(I_spdc / I_spdc.max(), label=\"SPDC double pass\")\n",
    "ax.set_xlabel(\"diffraction order $m$\")\n",
    "ax.set_ylabel(\"normalised intensity (log)\")\n",
    "ax.set_xlim(-3, 3)\n",
    "ax.set_title(\"1-D blazed-grating far field (classical vs SPDC)\")\n",
    "ax.set_yscale(\"log\")\n",
    "ax.legend()\n",
    "fig.tight_layout()\n",
    "fig.show()"
   ],
   "id": "ffc560381f9633d8",
   "outputs": [],
   "execution_count": 27
  },
  {
   "metadata": {
    "ExecuteTime": {
     "end_time": "2025-05-29T10:43:27.211010Z",
     "start_time": "2025-05-29T10:43:26.988957Z"
    }
   },
   "cell_type": "code",
   "source": [
    "from qdc.grating.grating_sim import gaussian_field, blazed_mask\n",
    "\n",
    "if True:\n",
    "    mask = blazed_mask(sim.x, sim.wl0, 0.085, 808e-9)\n",
    "    fig, ax = plt.subplots(figsize=(7, 4))\n",
    "    ax.plot(np.angle(mask), '--.')\n",
    "    # ax.set_xlim([0, 1400])\n",
    "    fig.show()\n",
    " \n",
    "if True:\n",
    "    E = gaussian_field(sim.x, sim.waist, sim.x0).astype(np.complex128)  # <<<\n",
    "    fig, ax = plt.subplots(figsize=(7, 4))\n",
    "    ax.plot((np.abs(E))**2)\n",
    "    fig.show()"
   ],
   "id": "b7e5f9a17f5529aa",
   "outputs": [],
   "execution_count": 38
  }
 ],
 "metadata": {
  "kernelspec": {
   "display_name": "Python 3",
   "language": "python",
   "name": "python3"
  },
  "language_info": {
   "codemirror_mode": {
    "name": "ipython",
    "version": 2
   },
   "file_extension": ".py",
   "mimetype": "text/x-python",
   "name": "python",
   "nbconvert_exporter": "python",
   "pygments_lexer": "ipython2",
   "version": "2.7.6"
  }
 },
 "nbformat": 4,
 "nbformat_minor": 5
}
