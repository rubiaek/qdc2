{
 "cells": [
  {
   "cell_type": "code",
   "id": "initial_id",
   "metadata": {
    "collapsed": true,
    "ExecuteTime": {
     "end_time": "2025-05-29T10:28:35.310382Z",
     "start_time": "2025-05-29T10:28:35.199474Z"
    }
   },
   "source": [
    "import numpy as np \n",
    "import matplotlib.pyplot as plt\n",
    "from qdc.grating.grating_sim import GratingSim1D, blazed_mask"
   ],
   "outputs": [],
   "execution_count": 6
  },
  {
   "metadata": {
    "ExecuteTime": {
     "end_time": "2025-05-29T11:49:16.225532Z",
     "start_time": "2025-05-29T11:49:15.907191Z"
    }
   },
   "cell_type": "code",
   "source": [
    "from grating_sim import GratingSim1D\n",
    "import matplotlib.pyplot as plt\n",
    "\n",
    "sim = GratingSim1D(\n",
    "    Nx          = 2**14,      # grid points\n",
    "    Lx          = 8e-3,       # 8 mm\n",
    "    wl0         = 808e-9,     # 808 nm blaze\n",
    "    Dwl         = 100e-9,     # ±50 nm span\n",
    "    N_wl        = 71,         # 11 wavelengths  (odd!)\n",
    "    waist       = 800e-6,      # 40 µm beam waist\n",
    "    x0          = 0,\n",
    "    blaze_angle = 0.15,       # blaze angle [rad]\n",
    "    f           = 0.2         # lens focal length [m]\n",
    ")\n",
    "\n",
    "x_det, I_class = sim.classical_pattern()\n",
    "_,     I_spdc  = sim.spdc_pattern()\n",
    "\n",
    "fig, ax = plt.subplots(figsize=(7, 4))\n",
    "ax.semilogy(x_det*1e3, I_class, label=\"classical incoherent sum\")\n",
    "ax.semilogy(x_det*1e3, I_spdc,  label=\"SPDC double pass\")\n",
    "ax.set_xlabel(\"detector coordinate $x'$ [mm]\")\n",
    "ax.set_ylabel(\"normalised intensity (log)\")\n",
    "ax.set_title(\"1-D blazed-grating far field — classical vs SPDC\")\n",
    "ax.legend()\n",
    "fig.tight_layout()\n",
    "fig.show()"
   ],
   "id": "ffc560381f9633d8",
   "outputs": [],
   "execution_count": 62
  },
  {
   "metadata": {
    "ExecuteTime": {
     "end_time": "2025-05-29T10:58:39.107458Z",
     "start_time": "2025-05-29T10:58:38.975921Z"
    }
   },
   "cell_type": "code",
   "source": [
    "from qdc.grating.grating_sim import gaussian, blazed_mask\n",
    "\n",
    "if True:\n",
    "    mask = blazed_mask(sim.x, sim.wl0, 0.085, 808e-9)\n",
    "    fig, ax = plt.subplots(figsize=(7, 4))\n",
    "    ax.plot(np.angle(mask), '--.')\n",
    "    # ax.set_xlim([0, 1400])\n",
    "    fig.show()\n",
    " \n",
    "if True:\n",
    "    E = gaussian_field(sim.x, sim.waist, sim.x0).astype(np.complex128)  # <<<\n",
    "    fig, ax = plt.subplots(figsize=(7, 4))\n",
    "    ax.plot((np.abs(E))**2)\n",
    "    fig.show()"
   ],
   "id": "b7e5f9a17f5529aa",
   "outputs": [
    {
     "ename": "ImportError",
     "evalue": "cannot import name 'gaussian_field' from 'qdc.grating.grating_sim' (C:\\code\\qdc2\\qdc\\grating\\grating_sim.py)",
     "output_type": "error",
     "traceback": [
      "\u001B[1;31m---------------------------------------------------------------------------\u001B[0m",
      "\u001B[1;31mImportError\u001B[0m                               Traceback (most recent call last)",
      "Cell \u001B[1;32mIn [44], line 1\u001B[0m\n\u001B[1;32m----> 1\u001B[0m \u001B[38;5;28;01mfrom\u001B[39;00m \u001B[38;5;21;01mqdc\u001B[39;00m\u001B[38;5;21;01m.\u001B[39;00m\u001B[38;5;21;01mgrating\u001B[39;00m\u001B[38;5;21;01m.\u001B[39;00m\u001B[38;5;21;01mgrating_sim\u001B[39;00m \u001B[38;5;28;01mimport\u001B[39;00m gaussian_field, blazed_mask\n\u001B[0;32m      3\u001B[0m \u001B[38;5;28;01mif\u001B[39;00m \u001B[38;5;28;01mTrue\u001B[39;00m:\n\u001B[0;32m      4\u001B[0m     mask \u001B[38;5;241m=\u001B[39m blazed_mask(sim\u001B[38;5;241m.\u001B[39mx, sim\u001B[38;5;241m.\u001B[39mwl0, \u001B[38;5;241m0.085\u001B[39m, \u001B[38;5;241m808e-9\u001B[39m)\n",
      "\u001B[1;31mImportError\u001B[0m: cannot import name 'gaussian_field' from 'qdc.grating.grating_sim' (C:\\code\\qdc2\\qdc\\grating\\grating_sim.py)"
     ]
    }
   ],
   "execution_count": 44
  },
  {
   "metadata": {
    "ExecuteTime": {
     "end_time": "2025-05-29T11:01:16.234312Z",
     "start_time": "2025-05-29T11:01:15.905100Z"
    }
   },
   "cell_type": "code",
   "source": [
    "# --------------------------------------------------------------------\n",
    "# TEST CELL – sanity checks for grating_sim.py\n",
    "# --------------------------------------------------------------------\n",
    "import numpy as np\n",
    "import matplotlib.pyplot as plt\n",
    "\n",
    "from grating_sim import (\n",
    "    GratingSim1D, blazed_mask, gaussian, lens_phase, farfield\n",
    ")\n",
    "\n",
    "# ---------------- configure a *small* simulator for quick plots -----\n",
    "sim = GratingSim1D(\n",
    "    Nx        = 2**12,     # coarse grid is fine for inspection\n",
    "    Lx        = 8e-3,\n",
    "    wl0       = 808e-9,\n",
    "    Dwl       = 100e-9,\n",
    "    N_wl      = 11,\n",
    "    waist     = 1400e-6,\n",
    "    blaze_deg = 0.45,\n",
    "    f         = 0.2,\n",
    ")\n",
    "\n",
    "# -------------------------------------------------------------------\n",
    "# 1. Blazed-mask phase ramp for reference and detuned wavelength\n",
    "# -------------------------------------------------------------------\n",
    "wl_detune = sim.wl0 + 50e-9       # +50 nm for visibility\n",
    "mask_ref  = blazed_mask(sim.x, sim.wl0, sim.blaze, sim.wl0)\n",
    "mask_det  = blazed_mask(sim.x, sim.wl0, sim.blaze, wl_detune)\n",
    "\n",
    "fig, ax = plt.subplots(figsize=(7, 4))\n",
    "ax.plot(np.angle(mask_ref),  label=rf\"phase @ $\\lambda_0$ = {sim.wl0*1e9:.0f} nm\")\n",
    "ax.plot(np.angle(mask_det),  label=rf\"phase @ $\\lambda_0$+50 nm\")\n",
    "ax.set_ylabel(\"phase [rad]\")\n",
    "ax.set_xlabel(\"array index (x grid)\")\n",
    "ax.set_title(\"Saw-tooth phase ramp (unwrapped)\")\n",
    "ax.legend()\n",
    "fig.show()\n",
    "\n",
    "# -------------------------------------------------------------------\n",
    "# 2. Gaussian source intensity on the grating plane\n",
    "# -------------------------------------------------------------------\n",
    "E0 = gaussian(sim.x, sim.waist, sim.x0)\n",
    "fig, ax = plt.subplots(figsize=(7, 4))\n",
    "ax.plot(np.abs(E0)**2)\n",
    "ax.set_ylabel(r\"$|E(x)|^2$\")\n",
    "ax.set_xlabel(\"array index (x grid)\")\n",
    "ax.set_title(\"Normalised Gaussian source intensity\")\n",
    "fig.show()\n",
    "\n",
    "# -------------------------------------------------------------------\n",
    "# 3. Compare single-λ classical vs SPDC pair in the far field\n",
    "# -------------------------------------------------------------------\n",
    "# --- choose a moderate detuning so we can see the ε^2 vs ε^4 effect\n",
    "wl_s = sim.wl0 + 20e-9\n",
    "wl_i = sim.wl0 - 20e-9\n",
    "\n",
    "# classical, single pass\n",
    "E_class = E0 * blazed_mask(sim.x, sim.wl0, sim.blaze, wl_s)\n",
    "E_class *= lens_phase(sim.x, wl_s, sim.f)\n",
    "x_det_c, I_class = farfield(E_class, wl_s, sim.f, sim.kx)\n",
    "\n",
    "# SPDC, double pass\n",
    "E_spdc = E0 * blazed_mask(sim.x, sim.wl0, sim.blaze, wl_s)\n",
    "E_spdc *= blazed_mask(sim.x, sim.wl0, sim.blaze, wl_i)\n",
    "E_spdc *= lens_phase(sim.x, wl_i, sim.f)\n",
    "x_det_s, I_spdc = farfield(E_spdc, wl_s, sim.f, sim.kx)   # detector axis uses wl_s\n",
    "\n",
    "fig, ax = plt.subplots(figsize=(7, 4))\n",
    "ax.semilogy(x_det_c*1e3, I_class / I_class.max(), label=\"classical, λ = λ₀+20 nm\")\n",
    "ax.semilogy(x_det_s*1e3, I_spdc  / I_spdc.max(),  label=\"SPDC, ±20 nm pair\")\n",
    "ax.set_xlabel(\"detector coordinate $x'$ [mm]\")\n",
    "ax.set_ylabel(\"normalised intensity (log)\")\n",
    "ax.set_title(\"Single-wavelength classical vs SPDC pair\")\n",
    "ax.set_xlim(-150, 150)\n",
    "ax.legend()\n",
    "fig.show()\n"
   ],
   "id": "898ae52a609e3437",
   "outputs": [],
   "execution_count": 50
  }
 ],
 "metadata": {
  "kernelspec": {
   "display_name": "Python 3",
   "language": "python",
   "name": "python3"
  },
  "language_info": {
   "codemirror_mode": {
    "name": "ipython",
    "version": 2
   },
   "file_extension": ".py",
   "mimetype": "text/x-python",
   "name": "python",
   "nbconvert_exporter": "python",
   "pygments_lexer": "ipython2",
   "version": "2.7.6"
  }
 },
 "nbformat": 4,
 "nbformat_minor": 5
}
