{
 "cells": [
  {
   "cell_type": "code",
   "execution_count": 2,
   "id": "initial_id",
   "metadata": {
    "ExecuteTime": {
     "end_time": "2025-05-29T10:28:35.310382Z",
     "start_time": "2025-05-29T10:28:35.199474Z"
    },
    "collapsed": true
   },
   "outputs": [],
   "source": [
    "%autoreload 2\n",
    "import sys\n",
    "sys.path.append('C:\\\\code\\\\qdc2')\n",
    "import numpy as np \n",
    "import matplotlib.pyplot as plt\n",
    "from qdc.grating.grating_sim import GratingSim1D"
   ]
  },
  {
   "cell_type": "code",
   "execution_count": 21,
   "id": "ffc560381f9633d8",
   "metadata": {
    "ExecuteTime": {
     "end_time": "2025-05-29T13:20:20.221326Z",
     "start_time": "2025-05-29T13:20:19.555312Z"
    }
   },
   "outputs": [],
   "source": [
    "sim = GratingSim1D(\n",
    "    Nx          = 2**16,      # grid points\n",
    "    Lx          = 10e-3,       # 8 mm\n",
    "    wl0         = 808e-9,     # 808 nm blaze\n",
    "    Dwl         = 80e-9,     # ±50 nm span\n",
    "    N_wl        = 51,         # 11 wavelengths  (odd!)\n",
    "    waist       = 300e-6,      # 40 µm beam waist\n",
    "    x0          = 0,\n",
    "    blaze_angle = 0.1,       # blaze angle [rad]\n",
    "    f           = 0.2,         # lens focal length [m]\n",
    "    spectrum='flat', \n",
    ")\n",
    "\n",
    "# Numerical patterns (as before)\n",
    "x_det, I_class_num = sim.classical_pattern()\n",
    "_,     I_spdc_num  = sim.spdc_pattern()\n",
    "\n",
    "# Analytic predictions\n",
    "x_det, I_class_anal = sim.analytical_pattern(is_spdc=False, n_side=8)\n",
    "_,     I_spdc_anal  = sim.analytical_pattern(is_spdc=True, n_side=8)\n",
    "\n",
    "# Convert x_det to diffraction order axis\n",
    "m_vals = sim.diffraction_orders(x_det)\n",
    "\n",
    "\n",
    "fig, ax = plt.subplots(figsize=(7, 4))\n",
    "ax.plot(m_vals, I_class_num,  'b-', label=\"Numerical Classical\")\n",
    "ax.plot(m_vals, I_class_anal, 'b--', label=\"Analytic Classical\")\n",
    "ax.plot(m_vals, I_spdc_num,   'r-', label=\"Numerical SPDC\")\n",
    "ax.plot(m_vals, I_spdc_anal,  'r--', label=\"Analytic SPDC\")\n",
    "ax.set_yscale('log')\n",
    "ax.set_xlabel(\"diffraction order $m$\")\n",
    "ax.set_ylabel(\"normalized intensity (log)\")\n",
    "ax.set_ylim(1e-6, 2e3)\n",
    "ax.set_xlim(-3.5, 5.5)\n",
    "ax.set_title(f\"{sim.N_wl} wavelengths\")\n",
    "ax.legend()\n",
    "fig.tight_layout()\n",
    "fig.show()"
   ]
  },
  {
   "cell_type": "code",
   "execution_count": 9,
   "id": "f575482a",
   "metadata": {},
   "outputs": [
    {
     "name": "stdout",
     "output_type": "stream",
     "text": [
      "0.9999967262587829\n",
      "1.0000002595434\n",
      "270.1878398580031\n",
      "526.6634206581928\n"
     ]
    }
   ],
   "source": [
    "print((x_det[1] - x_det[0])*I_class_num.sum())\n",
    "print((x_det[1] - x_det[0])*I_spdc_num.sum())\n",
    "print(I_spdc_num.max())\n",
    "print(I_class_num.max())"
   ]
  },
  {
   "cell_type": "code",
   "execution_count": 7,
   "id": "b7e5f9a17f5529aa",
   "metadata": {
    "ExecuteTime": {
     "end_time": "2025-05-29T13:20:44.374127Z",
     "start_time": "2025-05-29T13:20:44.114251Z"
    }
   },
   "outputs": [],
   "source": [
    "from qdc.grating.grating_sim import gaussian, blazed_phase\n",
    "\n",
    "if True:\n",
    "    fig, ax = plt.subplots(figsize=(7, 4))\n",
    "    ax.plot(sim.grating_phase, '--.')\n",
    "    # ax.set_xlim([0, 1400])\n",
    "    fig.show()\n",
    " \n",
    "if True:\n",
    "    E = gaussian(sim.x, sim.waist, sim.x0).astype(np.complex128)  \n",
    "    fig, ax = plt.subplots(figsize=(7, 4))\n",
    "    ax.plot((np.abs(E))**2)\n",
    "    fig.show()"
   ]
  },
  {
   "cell_type": "code",
   "execution_count": 118,
   "id": "5a1624f6",
   "metadata": {},
   "outputs": [],
   "source": [
    "import numpy as np\n",
    "import matplotlib.pyplot as plt\n",
    "from scipy.signal import convolve\n",
    "\n",
    "# Physical parameters\n",
    "d = 10e-6               # grating period [m]\n",
    "k0 = 2 * np.pi / d  # Blaze toward m=1\n",
    "\n",
    "delta_k = 0             # small phase offset [rad/m]\n",
    "w = 1e-3                # beam waist [m]\n",
    "f = 0.2                 # focal length [m]\n",
    "lambda0 = 800e-9        # wavelength [m]\n",
    "k = 2 * np.pi / lambda0\n",
    "\n",
    "# Define x' axis in focal plane\n",
    "x_prime = np.linspace(-5e-3, 5e-3, 5000)  # in meters\n",
    "kx = (k / f) * x_prime\n",
    "\n",
    "# Fourier transform of motif over [0,d)\n",
    "def motif_ft(kx, k0, delta_k, d):\n",
    "    return d * np.sinc((kx - k0 - delta_k) * d / (2 * np.pi))\n",
    "\n",
    "# Fourier transform of Gaussian beam\n",
    "def gauss_ft(kx, w):\n",
    "    return np.sqrt(np.pi) * w * np.exp(- (kx**2) * w**2 / 4)\n",
    "\n",
    "# Dirac comb in Fourier domain (sampled)\n",
    "def dirac_comb(kx, d):\n",
    "    # Generate spikes at multiples of 2pi/d within the range of kx\n",
    "    km_values = 2 * np.pi * np.arange(-50, 51) / d\n",
    "    comb = np.zeros_like(kx)\n",
    "    for km in km_values:\n",
    "        comb += np.exp(-((kx - km)**2) / (2 * (2e3)**2))  # narrow Gaussian for numerical delta\n",
    "    return (2 * np.pi / d) * comb\n",
    "\n",
    "# Combined field spectrum\n",
    "motif = motif_ft(kx, k0, delta_k, d)\n",
    "gauss = gauss_ft(kx, w)\n",
    "comb = dirac_comb(kx, d)\n",
    "spectrum = comb * motif\n",
    "spectrum_convolved = convolve(spectrum, gauss, mode='same') * (kx[1] - kx[0])\n",
    "intensity = np.abs(spectrum_convolved)**2\n",
    "\n",
    "\n",
    "import matplotlib.pyplot as plt\n",
    "\n",
    "plt.figure(figsize=(10, 4))\n",
    "plt.plot(x_prime * 1e3, intensity / np.max(intensity), lw=2)\n",
    "plt.xlabel(\"Position $x'$ [mm]\")\n",
    "plt.ylabel(\"Normalized Intensity\")\n",
    "plt.yscale('log')\n",
    "plt.title(\"Classical Focal-Plane Intensity after Blazed Grating\")\n",
    "plt.grid(True)\n",
    "plt.tight_layout()\n",
    "plt.show()"
   ]
  }
 ],
 "metadata": {
  "kernelspec": {
   "display_name": "Python 3",
   "language": "python",
   "name": "python3"
  },
  "language_info": {
   "codemirror_mode": {
    "name": "ipython",
    "version": 3
   },
   "file_extension": ".py",
   "mimetype": "text/x-python",
   "name": "python",
   "nbconvert_exporter": "python",
   "pygments_lexer": "ipython3",
   "version": "3.10.0"
  }
 },
 "nbformat": 4,
 "nbformat_minor": 5
}
