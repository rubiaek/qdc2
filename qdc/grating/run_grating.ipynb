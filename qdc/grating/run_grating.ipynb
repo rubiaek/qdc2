{
 "cells": [
  {
   "cell_type": "code",
   "execution_count": 1,
   "id": "initial_id",
   "metadata": {
    "ExecuteTime": {
     "end_time": "2025-05-29T10:28:35.310382Z",
     "start_time": "2025-05-29T10:28:35.199474Z"
    },
    "collapsed": true
   },
   "outputs": [],
   "source": [
    "%autoreload 2\n",
    "import sys\n",
    "sys.path.append('C:\\\\code\\\\qdc2')\n",
    "import numpy as np \n",
    "import matplotlib.pyplot as plt\n",
    "from qdc.grating.grating_sim import GratingSim1D"
   ]
  },
  {
   "cell_type": "code",
   "execution_count": 93,
   "id": "ffc560381f9633d8",
   "metadata": {
    "ExecuteTime": {
     "end_time": "2025-05-29T13:20:20.221326Z",
     "start_time": "2025-05-29T13:20:19.555312Z"
    }
   },
   "outputs": [],
   "source": [
    "sim = GratingSim1D(\n",
    "    Nx          = 2**14,      # grid points\n",
    "    Lx          = 8e-3,       # 8 mm\n",
    "    wl0         = 808e-9,     # 808 nm blaze\n",
    "    Dwl         = 80e-9,     # ±50 nm span\n",
    "    N_wl        = 531,         # 11 wavelengths  (odd!)\n",
    "    waist       = 3000e-6,      # 40 µm beam waist\n",
    "    x0          = 0,\n",
    "    blaze_angle = 0.1,       # blaze angle [rad]\n",
    "    f           = 0.2,         # lens focal length [m]\n",
    "    spectrum='flat', \n",
    ")\n",
    "\n",
    "# Numerical patterns (as before)\n",
    "x_det, I_class_num = sim.classical_pattern()\n",
    "_,     I_spdc_num  = sim.spdc_pattern()\n",
    "\n",
    "# Analytic predictions\n",
    "x_det, I_class_anal = sim.analytic_pattern(is_spdc=False, n_side=30)\n",
    "_,     I_spdc_anal  = sim.analytic_pattern(is_spdc=True, n_side=30)\n",
    "\n",
    "# Convert x_det to diffraction order axis\n",
    "m_vals = sim.diffraction_orders(x_det)\n",
    "\n",
    "# Plot both numerical and analytic together\n",
    "import matplotlib.pyplot as plt\n",
    "\n",
    "fig, ax = plt.subplots(figsize=(7, 4))\n",
    "ax.plot(m_vals, I_class_num,  'b-', label=\"Numerical Classical\")\n",
    "ax.plot(m_vals, I_class_anal, 'b--', label=\"Analytic Classical\")\n",
    "ax.plot(m_vals, I_spdc_num,   'r-', label=\"Numerical SPDC\")\n",
    "ax.plot(m_vals, I_spdc_anal,  'r--', label=\"Analytic SPDC\")\n",
    "ax.set_yscale('log')\n",
    "ax.set_xlabel(\"diffraction order $m$\")\n",
    "ax.set_ylabel(\"normalized intensity (log)\")\n",
    "# ax.set_ylim(1e-10, 1e4)\n",
    "ax.set_title(f\"{sim.N_wl} wavelengths\")\n",
    "ax.legend()\n",
    "fig.tight_layout()\n",
    "fig.show()"
   ]
  },
  {
   "cell_type": "code",
   "execution_count": 37,
   "id": "dacac266",
   "metadata": {},
   "outputs": [
    {
     "name": "stdout",
     "output_type": "stream",
     "text": [
      "done classical numerical\n",
      "done classical analytic\n",
      "done spdc numerical\n",
      "done spdc analytic\n"
     ]
    }
   ],
   "source": [
    "fig, ax = plt.subplots(figsize=(7, 4))\n",
    "ax.plot(m_vals, I_class_num,  'b-', label=\"Numerical Classical\")\n",
    "print('done classical numerical')\n",
    "ax.plot(m_vals, I_class_anal, 'b--', label=\"Analytic Classical\")\n",
    "print('done classical analytic')\n",
    "ax.plot(m_vals, I_spdc_num,   'r-', label=\"Numerical SPDC\")\n",
    "print('done spdc numerical')\n",
    "ax.plot(m_vals, I_spdc_anal,  'r--', label=\"Analytic SPDC\")\n",
    "print('done spdc analytic')\n",
    "ax.set_yscale('log')\n",
    "ax.set_xlabel(\"diffraction order $m$\")\n",
    "ax.set_ylabel(\"normalized intensity (log)\")\n",
    "ax.set_ylim(1e-10, 1e4)\n",
    "ax.set_title(f\"{sim.N_wl} wavelengths\")\n",
    "ax.legend()\n",
    "fig.tight_layout()\n",
    "fig.show()"
   ]
  },
  {
   "cell_type": "code",
   "execution_count": 15,
   "id": "f575482a",
   "metadata": {},
   "outputs": [
    {
     "name": "stdout",
     "output_type": "stream",
     "text": [
      "0.9999861542040619\n",
      "0.9999999329528425\n",
      "221.18034185382217\n",
      "318.74303467716913\n"
     ]
    }
   ],
   "source": [
    "print((x_det[1] - x_det[0])*I_class.sum())\n",
    "print((x_det[1] - x_det[0])*I_spdc.sum())\n",
    "print(I_spdc.max())\n",
    "print(I_class.max())"
   ]
  },
  {
   "cell_type": "code",
   "execution_count": 7,
   "id": "b7e5f9a17f5529aa",
   "metadata": {
    "ExecuteTime": {
     "end_time": "2025-05-29T13:20:44.374127Z",
     "start_time": "2025-05-29T13:20:44.114251Z"
    }
   },
   "outputs": [],
   "source": [
    "from qdc.grating.grating_sim import gaussian, blazed_phase\n",
    "\n",
    "if True:\n",
    "    fig, ax = plt.subplots(figsize=(7, 4))\n",
    "    ax.plot(sim.grating_phase, '--.')\n",
    "    # ax.set_xlim([0, 1400])\n",
    "    fig.show()\n",
    " \n",
    "if True:\n",
    "    E = gaussian(sim.x, sim.waist, sim.x0).astype(np.complex128)  \n",
    "    fig, ax = plt.subplots(figsize=(7, 4))\n",
    "    ax.plot((np.abs(E))**2)\n",
    "    fig.show()"
   ]
  }
 ],
 "metadata": {
  "kernelspec": {
   "display_name": "Python 3",
   "language": "python",
   "name": "python3"
  },
  "language_info": {
   "codemirror_mode": {
    "name": "ipython",
    "version": 3
   },
   "file_extension": ".py",
   "mimetype": "text/x-python",
   "name": "python",
   "nbconvert_exporter": "python",
   "pygments_lexer": "ipython3",
   "version": "3.10.0"
  }
 },
 "nbformat": 4,
 "nbformat_minor": 5
}
