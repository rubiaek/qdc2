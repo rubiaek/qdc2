{
 "cells": [
  {
   "cell_type": "code",
   "execution_count": 1,
   "id": "initial_id",
   "metadata": {
    "ExecuteTime": {
     "end_time": "2025-05-29T10:28:35.310382Z",
     "start_time": "2025-05-29T10:28:35.199474Z"
    },
    "collapsed": true
   },
   "outputs": [],
   "source": [
    "%autoreload 2\n",
    "import sys\n",
    "sys.path.append('C:\\\\code\\\\qdc2')\n",
    "import numpy as np \n",
    "import matplotlib.pyplot as plt\n",
    "from qdc.grating.grating_sim import GratingSim1D"
   ]
  },
  {
   "cell_type": "code",
   "execution_count": 2,
   "id": "ffc560381f9633d8",
   "metadata": {
    "ExecuteTime": {
     "end_time": "2025-05-29T13:20:20.221326Z",
     "start_time": "2025-05-29T13:20:19.555312Z"
    }
   },
   "outputs": [],
   "source": [
    "sim = GratingSim1D(\n",
    "    Nx          = 2**18,    \n",
    "    Lx          = 14e-3,    \n",
    "    wl0         = 808e-9,   \n",
    "    Dwl         = 80e-9,    \n",
    "    N_wl        = 251,      \n",
    "    waist       = 350e-6,   \n",
    "    x0          = 0,\n",
    "    blaze_angle = 0.2, # [rad]\n",
    "    f           = 0.2, # [m]\n",
    "    spectrum='flat', \n",
    ")\n",
    "\n",
    "x_det, I_class_num = sim.classical_pattern()\n",
    "_,     I_spdc_num  = sim.spdc_pattern()\n",
    "\n",
    "x_det, I_class_anal = sim.analytical_pattern(is_spdc=False, n_side=8)\n",
    "_,     I_spdc_anal  = sim.analytical_pattern(is_spdc=True, n_side=8)\n",
    "\n",
    "# Convert x_det to diffraction order axis\n",
    "m_vals = sim.diffraction_orders(x_det)"
   ]
  },
  {
   "cell_type": "code",
   "execution_count": 5,
   "id": "54dadb0e",
   "metadata": {},
   "outputs": [],
   "source": [
    "fig, ax = plt.subplots(figsize=(10, 4))\n",
    "line1 = ax.plot(m_vals, I_spdc_num,   '-', label=\"Numerical SPDC\")[0]\n",
    "ax.plot(m_vals, I_spdc_anal,  '--', color=line1.get_color(), label=\"Analytic SPDC\")\n",
    "ax.plot(m_vals, I_class_num,  '-', color='#8c564b', label=\"Numerical Classical\")\n",
    "ax.plot(m_vals, I_class_anal, '--', color='#8c564b', label=\"Analytic Classical\")\n",
    "ax.set_yscale('log')\n",
    "ax.set_xlabel(\"diffraction order $m$\", fontsize=18)\n",
    "ax.set_ylabel(\"normalized intensity (log)\", fontsize=18)\n",
    "ax.tick_params(axis='x', labelsize=14)  # tick label size\n",
    "ax.tick_params(axis='y', labelsize=14)  # tick label size\n",
    "ax.set_ylim(1e-4, 2e3)\n",
    "ax.set_xlim(-3.5, 5.5)\n",
    "# ax.set_title(f\"{sim.N_wl} wavelengths\")\n",
    "ax.legend(fontsize=14)\n",
    "fig.tight_layout()\n",
    "fig.show()\n",
    "\n",
    "saveto_path = r'G:\\My Drive\\Projects\\Dispersion Cancelation\\Paper\\Partial Figures\\grating_sim.png'\n",
    "fig.savefig(saveto_path)"
   ]
  },
  {
   "cell_type": "code",
   "execution_count": 9,
   "id": "f575482a",
   "metadata": {},
   "outputs": [
    {
     "name": "stdout",
     "output_type": "stream",
     "text": [
      "0.9999970162781595\n",
      "1.000004235982632\n",
      "269.86986570740106\n",
      "526.8224403742543\n"
     ]
    }
   ],
   "source": [
    "print((x_det[1] - x_det[0])*I_class_num.sum())\n",
    "print((x_det[1] - x_det[0])*I_spdc_num.sum())\n",
    "print(I_spdc_num.max())\n",
    "print(I_class_num.max())"
   ]
  }
 ],
 "metadata": {
  "kernelspec": {
   "display_name": "Python 3",
   "language": "python",
   "name": "python3"
  },
  "language_info": {
   "codemirror_mode": {
    "name": "ipython",
    "version": 3
   },
   "file_extension": ".py",
   "mimetype": "text/x-python",
   "name": "python",
   "nbconvert_exporter": "python",
   "pygments_lexer": "ipython3",
   "version": "3.10.0"
  }
 },
 "nbformat": 4,
 "nbformat_minor": 5
}
