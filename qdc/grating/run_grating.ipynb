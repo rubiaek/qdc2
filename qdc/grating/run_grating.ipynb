{
 "cells": [
  {
   "cell_type": "code",
   "id": "initial_id",
   "metadata": {
    "collapsed": true,
    "ExecuteTime": {
     "end_time": "2025-05-29T10:28:35.310382Z",
     "start_time": "2025-05-29T10:28:35.199474Z"
    }
   },
   "source": [
    "import numpy as np \n",
    "import matplotlib.pyplot as plt\n",
    "from qdc.grating.grating_sim import GratingSim1D"
   ],
   "outputs": [],
   "execution_count": 6
  },
  {
   "metadata": {
    "ExecuteTime": {
     "end_time": "2025-05-29T12:49:20.512732Z",
     "start_time": "2025-05-29T12:49:19.920446Z"
    }
   },
   "cell_type": "code",
   "source": [
    "sim = GratingSim1D(\n",
    "    Nx          = 2**14,      # grid points\n",
    "    Lx          = 8e-3,       # 8 mm\n",
    "    wl0         = 808e-9,     # 808 nm blaze\n",
    "    Dwl         = 80e-9,     # ±50 nm span\n",
    "    N_wl        = 101,         # 11 wavelengths  (odd!)\n",
    "    waist       = 1000e-6,      # 40 µm beam waist\n",
    "    x0          = 0,\n",
    "    blaze_angle = 0.1,       # blaze angle [rad]\n",
    "    f           = 0.2,         # lens focal length [m]\n",
    "    spectrum='flat', \n",
    ")\n",
    "\n",
    "x_det, I_class = sim.classical_pattern()\n",
    "_,     I_spdc  = sim.spdc_pattern()\n",
    "orders = sim.diffraction_orders(x_det)\n",
    "# after you compute I_class and I_spdc and orders:\n",
    "epsilon = (sim.wls.max() - sim.wls.min())/(2*sim.wl0)\n",
    "\n",
    "eta_class = epsilon**2\n",
    "eta_spdc  = epsilon**4\n",
    "\n",
    "fig, ax = plt.subplots(figsize=(7,4))\n",
    "ax.semilogy(orders, I_class, label=\"classical\")\n",
    "ax.semilogy(orders, I_spdc,  label=\"SPDC\")\n",
    "\n",
    "# draw analytic guides at m=2 and m=3\n",
    "ax.hlines(eta_class, 1.9, 2.1, color='C0', linestyle='--', label=r'$\\epsilon^2$')\n",
    "ax.hlines(eta_spdc,  2.9, 3.1, color='C1', linestyle='--', label=r'$\\epsilon^4$')\n",
    "\n",
    "# ax.set_xlim(0.5, 3.5)\n",
    "ax.set_xlabel(\"diffraction order $m$\")\n",
    "ax.set_ylabel(\"normalized intensity (log)\")\n",
    "ax.legend()\n",
    "fig.show()"
   ],
   "id": "ffc560381f9633d8",
   "outputs": [],
   "execution_count": 111
  },
  {
   "metadata": {
    "ExecuteTime": {
     "end_time": "2025-05-29T12:00:21.686138Z",
     "start_time": "2025-05-29T12:00:21.432248Z"
    }
   },
   "cell_type": "code",
   "source": [
    "from qdc.grating.grating_sim import gaussian, blazed_phase\n",
    "\n",
    "if True:\n",
    "    fig, ax = plt.subplots(figsize=(7, 4))\n",
    "    ax.plot(np.angle(sim.grating_mask), '--.')\n",
    "    # ax.set_xlim([0, 1400])\n",
    "    fig.show()\n",
    " \n",
    "if True:\n",
    "    E = gaussian(sim.x, sim.waist, sim.x0).astype(np.complex128)  # <<<\n",
    "    fig, ax = plt.subplots(figsize=(7, 4))\n",
    "    ax.plot((np.abs(E))**2)\n",
    "    fig.show()"
   ],
   "id": "b7e5f9a17f5529aa",
   "outputs": [],
   "execution_count": 73
  },
  {
   "metadata": {},
   "cell_type": "code",
   "outputs": [],
   "execution_count": null,
   "source": "",
   "id": "3d67bb9bb70ae1fc"
  },
  {
   "metadata": {},
   "cell_type": "code",
   "outputs": [],
   "execution_count": null,
   "source": "",
   "id": "72c399b57b3cac91"
  },
  {
   "metadata": {
    "ExecuteTime": {
     "end_time": "2025-05-29T13:00:35.520393Z",
     "start_time": "2025-05-29T13:00:31.155574Z"
    }
   },
   "cell_type": "code",
   "source": "",
   "id": "e7b47bca5dde8795",
   "outputs": [],
   "execution_count": 122
  }
 ],
 "metadata": {
  "kernelspec": {
   "display_name": "Python 3",
   "language": "python",
   "name": "python3"
  },
  "language_info": {
   "codemirror_mode": {
    "name": "ipython",
    "version": 2
   },
   "file_extension": ".py",
   "mimetype": "text/x-python",
   "name": "python",
   "nbconvert_exporter": "python",
   "pygments_lexer": "ipython2",
   "version": "2.7.6"
  }
 },
 "nbformat": 4,
 "nbformat_minor": 5
}
